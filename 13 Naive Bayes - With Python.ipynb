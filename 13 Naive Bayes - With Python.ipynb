{
 "cells": [
  {
   "cell_type": "code",
   "execution_count": 1,
   "metadata": {},
   "outputs": [],
   "source": [
    "from sklearn.datasets import load_iris\n",
    "import numpy as np"
   ]
  },
  {
   "cell_type": "code",
   "execution_count": 2,
   "metadata": {},
   "outputs": [],
   "source": [
    "iris = load_iris()"
   ]
  },
  {
   "cell_type": "code",
   "execution_count": 3,
   "metadata": {},
   "outputs": [],
   "source": [
    "data = iris.data  #ind\n",
    "target = iris.target #dep"
   ]
  },
  {
   "cell_type": "code",
   "execution_count": 4,
   "metadata": {},
   "outputs": [],
   "source": [
    "iris_data = np.insert(data, 4, target, axis = 1)"
   ]
  },
  {
   "cell_type": "code",
   "execution_count": 5,
   "metadata": {},
   "outputs": [],
   "source": [
    "sf = np.random.permutation(len(iris_data))\n",
    "iris_data = iris_data[sf]"
   ]
  },
  {
   "cell_type": "code",
   "execution_count": 6,
   "metadata": {},
   "outputs": [],
   "source": [
    "learning_data = iris_data[:10]"
   ]
  },
  {
   "cell_type": "code",
   "execution_count": 7,
   "metadata": {},
   "outputs": [
    {
     "data": {
      "text/plain": [
       "array([[6.2, 3.4, 5.4, 2.3, 2. ],\n",
       "       [6.5, 3.2, 5.1, 2. , 2. ],\n",
       "       [5.7, 2.9, 4.2, 1.3, 1. ],\n",
       "       [6.7, 3.1, 4.7, 1.5, 1. ],\n",
       "       [6.7, 3.3, 5.7, 2.5, 2. ],\n",
       "       [4.9, 3. , 1.4, 0.2, 0. ],\n",
       "       [6.8, 3.2, 5.9, 2.3, 2. ],\n",
       "       [5.6, 2.7, 4.2, 1.3, 1. ],\n",
       "       [5.1, 3.7, 1.5, 0.4, 0. ],\n",
       "       [6.6, 3. , 4.4, 1.4, 1. ]])"
      ]
     },
     "execution_count": 7,
     "metadata": {},
     "output_type": "execute_result"
    }
   ],
   "source": [
    "learning_data"
   ]
  },
  {
   "cell_type": "code",
   "execution_count": 8,
   "metadata": {},
   "outputs": [],
   "source": [
    "#a = [32,43,54,45,443]\n",
    "#b = [5,54,5,44,43]\n",
    "\n",
    "# for i,j in zip(a,b):\n",
    "  #  print(i + j)"
   ]
  },
  {
   "cell_type": "markdown",
   "metadata": {},
   "source": [
    "### Separate By Class"
   ]
  },
  {
   "cell_type": "code",
   "execution_count": 9,
   "metadata": {},
   "outputs": [],
   "source": [
    "## Step - 1\n",
    "\n",
    "def Separate_byClass(dataSet):\n",
    "    Separated_data = {}\n",
    "    for i in dataSet:\n",
    "        if i[-1] not in Separated_data:\n",
    "            Separated_data[i[-1]] = []\n",
    "        Separated_data[i[-1]].append(i)\n",
    "    return Separated_data"
   ]
  },
  {
   "cell_type": "code",
   "execution_count": 10,
   "metadata": {},
   "outputs": [],
   "source": [
    "Sep = Separate_byClass(learning_data)"
   ]
  },
  {
   "cell_type": "code",
   "execution_count": 11,
   "metadata": {},
   "outputs": [
    {
     "name": "stdout",
     "output_type": "stream",
     "text": [
      "Class: 2.0 Prob is: 0.4\n",
      "Class: 1.0 Prob is: 0.4\n",
      "Class: 0.0 Prob is: 0.2\n"
     ]
    }
   ],
   "source": [
    "for i in Sep:\n",
    "    print(\"Class:\", i, \"Prob is:\", len(Sep[i])/len(learning_data))"
   ]
  },
  {
   "cell_type": "code",
   "execution_count": 12,
   "metadata": {},
   "outputs": [],
   "source": [
    "def Mean(numbers):\n",
    "    return sum(numbers)/len(numbers)"
   ]
  },
  {
   "cell_type": "code",
   "execution_count": 13,
   "metadata": {},
   "outputs": [],
   "source": [
    "def Std_Value(numbers):\n",
    "    mean = Mean(numbers)\n",
    "    std = 0\n",
    "    Sum = 0\n",
    "    for i in numbers:\n",
    "        Sum += (i-mean)**2\n",
    "    std = (Sum/len(numbers))**0.5"
   ]
  },
  {
   "cell_type": "code",
   "execution_count": 14,
   "metadata": {},
   "outputs": [
    {
     "data": {
      "text/plain": [
       "array([3.86, 3.76, 3.02, 3.4 , 4.04, 1.9 , 4.04, 2.96, 2.14, 3.28])"
      ]
     },
     "execution_count": 14,
     "metadata": {},
     "output_type": "execute_result"
    }
   ],
   "source": [
    "learning_data.mean(axis = 1)"
   ]
  },
  {
   "cell_type": "code",
   "execution_count": 15,
   "metadata": {},
   "outputs": [],
   "source": [
    "## Step - 2\n",
    "\n",
    "\n",
    "def Find_Summaries(dataSet):\n",
    "    mean = np.mean(dataSet, axis = 0)\n",
    "    std = np.std(dataSet, axis = 0)\n",
    "    All_Sum = []\n",
    "    for i in zip(mean, std):\n",
    "        a = list(i)\n",
    "        a.append(len(dataSet))\n",
    "        All_Sum.append(a)\n",
    "    return All_Sum[:-1]"
   ]
  },
  {
   "cell_type": "code",
   "execution_count": 16,
   "metadata": {},
   "outputs": [
    {
     "data": {
      "text/plain": [
       "[[6.08, 0.6690291473471093, 10],\n",
       " [3.1499999999999995, 0.26551836094703507, 10],\n",
       " [4.25, 1.5094701056993478, 10],\n",
       " [1.52, 0.7426977851050857, 10]]"
      ]
     },
     "execution_count": 16,
     "metadata": {},
     "output_type": "execute_result"
    }
   ],
   "source": [
    "Find_Summaries(learning_data)"
   ]
  },
  {
   "cell_type": "code",
   "execution_count": 17,
   "metadata": {},
   "outputs": [],
   "source": [
    "## Step - 3\n",
    "\n",
    "def Manage_DataSet_by_Class(dataSet):\n",
    "    Manage = {}\n",
    "    Sep = Separate_byClass(dataSet)\n",
    "    for i in Sep:\n",
    "        Manage[i] = Find_Summaries(Sep[i])\n",
    "    return Manage"
   ]
  },
  {
   "cell_type": "code",
   "execution_count": 18,
   "metadata": {},
   "outputs": [
    {
     "data": {
      "text/plain": [
       "{2.0: [[6.55, 0.2291287847477919, 4],\n",
       "  [3.2749999999999995, 0.08291561975888487, 4],\n",
       "  [5.525, 0.3031088913245537, 4],\n",
       "  [2.275, 0.17853571071357124, 4]],\n",
       " 1.0: [[6.15, 0.5024937810560446, 4],\n",
       "  [2.925, 0.14790199457749037, 4],\n",
       "  [4.375, 0.20463381929681126, 4],\n",
       "  [1.375, 0.08291561975888498, 4]],\n",
       " 0.0: [[5.0, 0.09999999999999964, 2],\n",
       "  [3.35, 0.3500000000000001, 2],\n",
       "  [1.45, 0.050000000000000044, 2],\n",
       "  [0.30000000000000004, 0.1, 2]]}"
      ]
     },
     "execution_count": 18,
     "metadata": {},
     "output_type": "execute_result"
    }
   ],
   "source": [
    "test = Manage_DataSet_by_Class(learning_data)\n",
    "test"
   ]
  },
  {
   "attachments": {
    "image.png": {
     "image/png": "[encoded data removed]"
    }
   },
   "cell_type": "markdown",
   "metadata": {},
   "source": [
    "![image.png](attachment:image.png)"
   ]
  },
  {
   "cell_type": "code",
   "execution_count": 19,
   "metadata": {},
   "outputs": [],
   "source": [
    "## Step - 4\n",
    "\n",
    "def Calculate_Prob(x, mean, std):\n",
    "    part1 = 1/(std * ((2*np.pi)**0.5))\n",
    "    part2 = np.exp((-(x-mean)**2)/(2*(std**2)))\n",
    "    return part1 * part2"
   ]
  },
  {
   "cell_type": "code",
   "execution_count": 20,
   "metadata": {},
   "outputs": [
    {
     "data": {
      "text/plain": [
       "0.28043901895412765"
      ]
     },
     "execution_count": 20,
     "metadata": {},
     "output_type": "execute_result"
    }
   ],
   "source": [
    "Calculate_Prob(2.3, 3, 1.2)"
   ]
  },
  {
   "cell_type": "code",
   "execution_count": null,
   "metadata": {},
   "outputs": [],
   "source": []
  },
  {
   "cell_type": "code",
   "execution_count": 21,
   "metadata": {},
   "outputs": [],
   "source": [
    "## Step - 5\n",
    "\n",
    "def Find_Probability(DataClass, testData):\n",
    "    total_row = 0\n",
    "    for i in DataClass:\n",
    "        total_row += DataClass[i][0][-1]\n",
    "    \n",
    "    prob = {}\n",
    "    for i in DataClass:\n",
    "        prob[i] = DataClass[i][0][-1]/total_row\n",
    "        classSumm = DataClass[i]\n",
    "        for j in range(len(classSumm)):\n",
    "            mean, std, Num = classSumm[j]    \n",
    "            probability = Calculate_Prob(testData[j], mean, std)\n",
    "            prob[i] = prob[i]*probability\n",
    "    return prob"
   ]
  },
  {
   "cell_type": "code",
   "execution_count": 22,
   "metadata": {},
   "outputs": [
    {
     "data": {
      "text/plain": [
       "{2.0: 0.8959412547839087, 1.0: 1.5489054169787488e-34, 0.0: 0.0}"
      ]
     },
     "execution_count": 22,
     "metadata": {},
     "output_type": "execute_result"
    }
   ],
   "source": [
    "Find_Probability(test, learning_data[0])"
   ]
  },
  {
   "cell_type": "code",
   "execution_count": 23,
   "metadata": {},
   "outputs": [],
   "source": [
    "def Prediction(dataclass, newdata):\n",
    "    prob = Find_Probability(dataclass, newdata)\n",
    "    Max = [0, 0] # [class, prob]\n",
    "    for c in prob:\n",
    "        if prob[c] > Max[1]:\n",
    "            Max[1] = prob[c]\n",
    "            Max[0] = c\n",
    "            \n",
    "    return Max"
   ]
  },
  {
   "cell_type": "code",
   "execution_count": 24,
   "metadata": {},
   "outputs": [],
   "source": [
    "def Classifier(train, test):\n",
    "    summ = Manage_DataSet_by_Class(train)\n",
    "    pred = Prediction(summ, test)\n",
    "    "
   ]
  },
  {
   "cell_type": "markdown",
   "metadata": {},
   "source": [
    "# with Sklearn"
   ]
  },
  {
   "cell_type": "code",
   "execution_count": 32,
   "metadata": {},
   "outputs": [],
   "source": [
    "from sklearn.naive_bayes import GaussianNB"
   ]
  },
  {
   "cell_type": "code",
   "execution_count": 40,
   "metadata": {},
   "outputs": [],
   "source": [
    "model = GaussianNB()"
   ]
  },
  {
   "cell_type": "code",
   "execution_count": 41,
   "metadata": {},
   "outputs": [],
   "source": [
    "model = model.fit(data, target)"
   ]
  },
  {
   "cell_type": "code",
   "execution_count": 42,
   "metadata": {},
   "outputs": [],
   "source": [
    "pred = model.predict(data)"
   ]
  },
  {
   "cell_type": "code",
   "execution_count": 43,
   "metadata": {},
   "outputs": [],
   "source": [
    "from sklearn.metrics import confusion_matrix, accuracy_score"
   ]
  },
  {
   "cell_type": "code",
   "execution_count": 44,
   "metadata": {},
   "outputs": [
    {
     "data": {
      "text/plain": [
       "0.96"
      ]
     },
     "execution_count": 44,
     "metadata": {},
     "output_type": "execute_result"
    }
   ],
   "source": [
    "accuracy_score(pred, target)"
   ]
  },
  {
   "cell_type": "code",
   "execution_count": null,
   "metadata": {},
   "outputs": [],
   "source": []
  }
 ],
 "metadata": {
  "kernelspec": {
   "display_name": "Python 3",
   "language": "python",
   "name": "python3"
  },
  "language_info": {
   "codemirror_mode": {
    "name": "ipython",
    "version": 3
   },
   "file_extension": ".py",
   "mimetype": "text/x-python",
   "name": "python",
   "nbconvert_exporter": "python",
   "pygments_lexer": "ipython3",
   "version": "3.8.5"
  }
 },
 "nbformat": 4,
 "nbformat_minor": 4
}
