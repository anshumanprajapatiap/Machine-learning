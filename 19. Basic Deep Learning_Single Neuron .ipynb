{
 "cells": [
  {
   "cell_type": "code",
   "execution_count": 7,
   "metadata": {},
   "outputs": [],
   "source": [
    "from random import choice\n",
    "from numpy import array, dot, random\n",
    "import numpy as np"
   ]
  },
  {
   "cell_type": "code",
   "execution_count": 8,
   "metadata": {},
   "outputs": [],
   "source": [
    "## AND Gate"
   ]
  },
  {
   "cell_type": "code",
   "execution_count": 17,
   "metadata": {},
   "outputs": [
    {
     "name": "stdout",
     "output_type": "stream",
     "text": [
      "[0 0] --> 0 0\n",
      "[0 1] --> 0 1\n",
      "[1 0] --> 0 1\n",
      "[1 1] --> 1 2\n"
     ]
    }
   ],
   "source": [
    "training_data = [\n",
    "    (array([0, 0]), 0),\n",
    "    (array([0, 1]), 0),\n",
    "    (array([1, 0]), 0),\n",
    "    (array([1, 1]), 1),\n",
    "]\n",
    "\n",
    "w = [1, 1]\n",
    "\n",
    "def step_function(x):\n",
    "    if x<2:\n",
    "        return 0\n",
    "    else:\n",
    "        return 1\n",
    "\n",
    "for ind,dep in training_data:\n",
    "    result = sum(ind)\n",
    "    #result = dot(ind, w)\n",
    "    out = step_function(result)\n",
    "    print(ind, '-->', out, result)"
   ]
  },
  {
   "cell_type": "code",
   "execution_count": 18,
   "metadata": {},
   "outputs": [],
   "source": [
    "### Rosenblatt's Perceptron"
   ]
  },
  {
   "cell_type": "code",
   "execution_count": 30,
   "metadata": {},
   "outputs": [
    {
     "name": "stdout",
     "output_type": "stream",
     "text": [
      "44\n",
      "[ 9.  -3.5 -3.5]\n",
      "[0 0 1] --> 0\n",
      "[0 1 1] --> 1\n",
      "[1 0 1] --> 1\n",
      "[1 1 1] --> 1\n"
     ]
    }
   ],
   "source": [
    "training_data = [\n",
    "    (array([0, 0, 1]), 0),\n",
    "    (array([0, 1, 1]), 0),\n",
    "    (array([1, 0, 1]), 0),\n",
    "    (array([1, 1, 1]), 1),\n",
    "]\n",
    "\n",
    "\n",
    "def step_function(x):\n",
    "    if x<2:\n",
    "        return 0\n",
    "    else:\n",
    "        return 1\n",
    "    \n",
    "w = [1, 1, 1]\n",
    "errors = []\n",
    "lr = 0.1\n",
    "n = 5000\n",
    "\n",
    "for i in range(n):\n",
    "    error = 0\n",
    "    for ind, expected in training_data:\n",
    "        result = dot(ind,w)\n",
    "        predict = step_function(result)\n",
    "        e = expected- predict\n",
    "        error +=e\n",
    "    errors.append(error)\n",
    "    w = w + (lr*error*ind) #optimising algo - GD\n",
    "    w[0] = 9\n",
    "    if error == 0:\n",
    "        print(i)\n",
    "        break\n",
    "print(w)\n",
    "\n",
    "for ind,dep in training_data:\n",
    "    result = sum(ind)\n",
    "    #result = dot(ind, w)\n",
    "    out = step_function(result)\n",
    "    print(ind, '-->', out)"
   ]
  },
  {
   "cell_type": "code",
   "execution_count": null,
   "metadata": {},
   "outputs": [],
   "source": []
  }
 ],
 "metadata": {
  "kernelspec": {
   "display_name": "Python 3",
   "language": "python",
   "name": "python3"
  },
  "language_info": {
   "codemirror_mode": {
    "name": "ipython",
    "version": 3
   },
   "file_extension": ".py",
   "mimetype": "text/x-python",
   "name": "python",
   "nbconvert_exporter": "python",
   "pygments_lexer": "ipython3",
   "version": "3.8.5"
  }
 },
 "nbformat": 4,
 "nbformat_minor": 4
}
