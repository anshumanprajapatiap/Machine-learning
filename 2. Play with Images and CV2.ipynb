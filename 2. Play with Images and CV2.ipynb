{
 "cells": [
  {
   "cell_type": "code",
   "execution_count": 1,
   "metadata": {},
   "outputs": [],
   "source": [
    "import numpy as np\n",
    "import cv2"
   ]
  },
  {
   "cell_type": "code",
   "execution_count": 4,
   "metadata": {},
   "outputs": [],
   "source": [
    "logo = []"
   ]
  },
  {
   "cell_type": "code",
   "execution_count": 5,
   "metadata": {},
   "outputs": [],
   "source": [
    "logo = cv2.imread(\"book.png\")\n",
    "logo = cv2.resize(logo, (150,160))\n",
    "logo = np.array(logo)"
   ]
  },
  {
   "cell_type": "code",
   "execution_count": 6,
   "metadata": {},
   "outputs": [],
   "source": [
    "Image=[]\n",
    "\n",
    "for row in range(500):\n",
    "    Row=[]\n",
    "    for col in range(500):\n",
    "        Row.append(([0,255,255]))\n",
    "    Image.append(Row)\n",
    "Image = np.array(Image)\n",
    "Image = Image.astype(\"uint8\")"
   ]
  },
  {
   "cell_type": "code",
   "execution_count": 7,
   "metadata": {},
   "outputs": [],
   "source": [
    "\n"
   ]
  },
  {
   "cell_type": "code",
   "execution_count": 8,
   "metadata": {},
   "outputs": [
    {
     "name": "stdout",
     "output_type": "stream",
     "text": [
      "(500, 500, 3)\n"
     ]
    }
   ],
   "source": [
    "print(Image.shape)\n"
   ]
  },
  {
   "cell_type": "code",
   "execution_count": 9,
   "metadata": {},
   "outputs": [],
   "source": [
    "Image = cv2.rectangle(Image, (70, 150), (450,200), (0,0,255), 4)\n",
    "TextImage=cv2.putText(Image, \"HELLO ANSHUMAN\",(100,180), cv2.FONT_HERSHEY_COMPLEX, 0.9, (0,0,0), 2)\n",
    "\n"
   ]
  },
  {
   "cell_type": "code",
   "execution_count": 10,
   "metadata": {},
   "outputs": [
    {
     "data": {
      "text/plain": [
       "49"
      ]
     },
     "execution_count": 10,
     "metadata": {},
     "output_type": "execute_result"
    }
   ],
   "source": [
    "cv2.imshow(\"mytextimage\", TextImage)\n",
    "cv2.waitKey(20000)"
   ]
  },
  {
   "cell_type": "code",
   "execution_count": 11,
   "metadata": {
    "scrolled": true
   },
   "outputs": [
    {
     "data": {
      "text/plain": [
       "True"
      ]
     },
     "execution_count": 11,
     "metadata": {},
     "output_type": "execute_result"
    }
   ],
   "source": [
    "cv2.imwrite(\"mytextimage.png\", Image)"
   ]
  },
  {
   "cell_type": "markdown",
   "metadata": {},
   "source": [
    "logo.shape"
   ]
  },
  {
   "cell_type": "code",
   "execution_count": 12,
   "metadata": {},
   "outputs": [],
   "source": [
    "NewImage = Image[30:180, 175:325]"
   ]
  },
  {
   "cell_type": "code",
   "execution_count": 13,
   "metadata": {},
   "outputs": [],
   "source": [
    "Image[30:190, 175:325] = logo"
   ]
  },
  {
   "cell_type": "code",
   "execution_count": 14,
   "metadata": {},
   "outputs": [
    {
     "data": {
      "text/plain": [
       "49"
      ]
     },
     "execution_count": 14,
     "metadata": {},
     "output_type": "execute_result"
    }
   ],
   "source": [
    "cv2.imshow(\"me\", TextImage)\n",
    "cv2.waitKey(20000)"
   ]
  },
  {
   "cell_type": "code",
   "execution_count": 15,
   "metadata": {},
   "outputs": [],
   "source": [
    "while True:\n",
    "    cv2.imshow(\"New ig with logo\", Image)\n",
    "    if cv2.waitKey(1) == ord('q'):\n",
    "        break\n",
    "cv2.destroyAllWindows()"
   ]
  },
  {
   "cell_type": "markdown",
   "metadata": {},
   "source": [
    "# DAY 9"
   ]
  },
  {
   "cell_type": "code",
   "execution_count": 4,
   "metadata": {},
   "outputs": [],
   "source": [
    "import cv2"
   ]
  },
  {
   "cell_type": "code",
   "execution_count": 2,
   "metadata": {},
   "outputs": [],
   "source": [
    "img=cv2.imread(\"p1.jfif\")\n",
    "gray_image = cv2.cvtColor(img,cv2.COLOR_BGR2GRAY)"
   ]
  },
  {
   "cell_type": "code",
   "execution_count": 3,
   "metadata": {},
   "outputs": [
    {
     "data": {
      "text/plain": [
       "'\\nwhile True:\\n    cv2.imshow(\"p1\", img)\\n    if cv2.waitKey(1)==13:\\n        break\\n'"
      ]
     },
     "execution_count": 3,
     "metadata": {},
     "output_type": "execute_result"
    }
   ],
   "source": [
    "'''\n",
    "while True:\n",
    "    cv2.imshow(\"p1\", img)\n",
    "    if cv2.waitKey(1)==13:\n",
    "        break\n",
    "'''\n",
    "    "
   ]
  },
  {
   "cell_type": "code",
   "execution_count": 4,
   "metadata": {},
   "outputs": [
    {
     "data": {
      "text/plain": [
       "(667, 1000)"
      ]
     },
     "execution_count": 4,
     "metadata": {},
     "output_type": "execute_result"
    }
   ],
   "source": [
    "gray_image.shape"
   ]
  },
  {
   "cell_type": "code",
   "execution_count": 5,
   "metadata": {},
   "outputs": [],
   "source": [
    "### play with camera\n",
    "### laptop, external, live url, video....."
   ]
  },
  {
   "cell_type": "code",
   "execution_count": 5,
   "metadata": {},
   "outputs": [],
   "source": [
    "#laptop\n",
    "cam = cv2.VideoCapture(0)"
   ]
  },
  {
   "cell_type": "code",
   "execution_count": 6,
   "metadata": {},
   "outputs": [],
   "source": [
    "while True:\n",
    "    Con, img=cam.read()\n",
    "    if Con:\n",
    "       cv2.imshow(\"MY Cam\", img)\n",
    "       gray_image = cv2.cvtColor(img,cv2.COLOR_BGR2GRAY)\n",
    "       cv2.imshow(\"Gray Cam\", gray_image)\n",
    "       if cv2.waitKey(1)==13:\n",
    "        break\n",
    "    else:\n",
    "        print(\"please connect your camera\")\n",
    "\n",
    "cam.release()"
   ]
  },
  {
   "cell_type": "markdown",
   "metadata": {},
   "source": [
    "# Day 10"
   ]
  },
  {
   "cell_type": "code",
   "execution_count": 1,
   "metadata": {},
   "outputs": [],
   "source": [
    "import cv2"
   ]
  },
  {
   "cell_type": "code",
   "execution_count": 2,
   "metadata": {},
   "outputs": [],
   "source": [
    "faceClassifier=cv2.CascadeClassifier(\"haarcascade_frontalface_default.xml\")"
   ]
  },
  {
   "cell_type": "code",
   "execution_count": 3,
   "metadata": {},
   "outputs": [],
   "source": [
    "img=cv2.imread(\"do.jpg\")\n",
    "gray_image = cv2.cvtColor(img,cv2.COLOR_BGR2GRAY)\n",
    "faces=faceClassifier.detectMultiScale(gray_image, 1.3, 12)"
   ]
  },
  {
   "cell_type": "code",
   "execution_count": 4,
   "metadata": {},
   "outputs": [
    {
     "data": {
      "text/plain": [
       "array([[452, 126,  63,  63],\n",
       "       [569, 136,  58,  58],\n",
       "       [802, 159,  56,  56],\n",
       "       [176, 163,  53,  53],\n",
       "       [ 88, 173,  54,  54],\n",
       "       [657, 153,  57,  57],\n",
       "       [262, 150,  57,  57],\n",
       "       [728, 153,  54,  54],\n",
       "       [349, 149,  54,  54]], dtype=int32)"
      ]
     },
     "execution_count": 4,
     "metadata": {},
     "output_type": "execute_result"
    }
   ],
   "source": [
    "faces"
   ]
  },
  {
   "cell_type": "code",
   "execution_count": 5,
   "metadata": {},
   "outputs": [
    {
     "data": {
      "text/plain": [
       "-1"
      ]
     },
     "execution_count": 5,
     "metadata": {},
     "output_type": "execute_result"
    }
   ],
   "source": [
    "Img=[]\n",
    "for x,y,w,h in faces:\n",
    "    Img=cv2.rectangle(gray_image, (x, y), (x+w,y+h), (0,0,255), 4)\n",
    "    \n",
    "cv2.imshow(\"faces\", Img)\n",
    "cv2.waitKey(20000)"
   ]
  },
  {
   "cell_type": "code",
   "execution_count": 6,
   "metadata": {},
   "outputs": [],
   "source": [
    "## HW"
   ]
  },
  {
   "cell_type": "code",
   "execution_count": 7,
   "metadata": {},
   "outputs": [],
   "source": [
    "import cv2"
   ]
  },
  {
   "cell_type": "code",
   "execution_count": 8,
   "metadata": {},
   "outputs": [],
   "source": [
    "faceClassifier=cv2.CascadeClassifier(\"haarcascade_frontalface_default.xml\")"
   ]
  },
  {
   "cell_type": "code",
   "execution_count": null,
   "metadata": {},
   "outputs": [
    {
     "name": "stdout",
     "output_type": "stream",
     "text": [
      "please connect your camera\n",
      "please connect your camera\n",
      "please connect your camera\n",
      "please connect your camera\n",
      "please connect your camera\n",
      "please connect your camera\n",
      "please connect your camera\n",
      "please connect your camera\n",
      "please connect your camera\n",
      "please connect your camera\n",
      "please connect your camera\n",
      "please connect your camera\n",
      "please connect your camera\n",
      "please connect your camera\n",
      "please connect your camera\n",
      "please connect your camera\n",
      "please connect your camera\n",
      "please connect your camera\n",
      "please connect your camera\n",
      "please connect your camera\n",
      "please connect your camera\n",
      "please connect your camera\n",
      "please connect your camera\n",
      "please connect your camera\n",
      "please connect your camera\n",
      "please connect your camera\n",
      "please connect your camera\n",
      "please connect your camera\n",
      "please connect your camera\n",
      "please connect your camera\n",
      "please connect your camera\n",
      "please connect your camera\n",
      "please connect your camera\n",
      "please connect your camera\n",
      "please connect your camera\n",
      "please connect your camera\n",
      "please connect your camera\n",
      "please connect your camera\n",
      "please connect your camera\n",
      "please connect your camera\n",
      "please connect your camera\n",
      "please connect your camera\n",
      "please connect your camera\n",
      "please connect your camera\n",
      "please connect your camera\n",
      "please connect your camera\n",
      "please connect your camera\n",
      "please connect your camera\n",
      "please connect your camera\n",
      "please connect your camera\n",
      "please connect your camera\n",
      "please connect your camera\n",
      "please connect your camera\n",
      "please connect your camera\n",
      "please connect your camera\n",
      "please connect your camera\n",
      "please connect your camera\n",
      "please connect your camera\n",
      "please connect your camera\n",
      "please connect your camera\n",
      "please connect your camera\n",
      "please connect your camera\n",
      "please connect your camera\n",
      "please connect your camera\n",
      "please connect your camera\n",
      "please connect your camera\n",
      "please connect your camera\n",
      "please connect your camera\n",
      "please connect your camera\n",
      "please connect your camera\n",
      "please connect your camera\n",
      "please connect your camera\n",
      "please connect your camera\n",
      "please connect your camera\n",
      "please connect your camera\n",
      "please connect your camera\n",
      "please connect your camera\n",
      "please connect your camera\n",
      "please connect your camera\n",
      "please connect your camera\n",
      "please connect your camera\n",
      "please connect your camera\n",
      "please connect your camera\n",
      "please connect your camera\n",
      "please connect your camera\n",
      "please connect your camera\n",
      "please connect your camera\n",
      "please connect your camera\n",
      "please connect your camera\n",
      "please connect your camera\n",
      "please connect your camera\n",
      "please connect your camera\n",
      "please connect your camera\n",
      "please connect your camera\n",
      "please connect your camera\n",
      "please connect your camera\n",
      "please connect your camera\n",
      "please connect your camera\n",
      "please connect your camera\n",
      "please connect your camera\n",
      "please connect your camera\n",
      "please connect your camera\n",
      "please connect your camera\n",
      "please connect your camera\n",
      "please connect your camera\n",
      "please connect your camera\n",
      "please connect your camera\n",
      "please connect your camera\n",
      "please connect your camera\n",
      "please connect your camera\n",
      "please connect your camera\n",
      "please connect your camera\n",
      "please connect your camera\n",
      "please connect your camera\n",
      "please connect your camera\n",
      "please connect your camera\n",
      "please connect your camera\n",
      "please connect your camera\n",
      "please connect your camera\n",
      "please connect your camera\n",
      "please connect your camera\n",
      "please connect your camera\n",
      "please connect your camera\n",
      "please connect your camera\n",
      "please connect your camera\n",
      "please connect your camera\n",
      "please connect your camera\n",
      "please connect your camera\n",
      "please connect your camera\n",
      "please connect your camera\n",
      "please connect your camera\n",
      "please connect your camera\n",
      "please connect your camera\n",
      "please connect your camera\n",
      "please connect your camera\n",
      "please connect your camera\n",
      "please connect your camera\n",
      "please connect your camera\n",
      "please connect your camera\n",
      "please connect your camera\n",
      "please connect your camera\n",
      "please connect your camera\n",
      "please connect your camera\n",
      "please connect your camera\n",
      "please connect your camera\n",
      "please connect your camera\n",
      "please connect your camera\n",
      "please connect your camera\n",
      "please connect your camera\n",
      "please connect your camera\n",
      "please connect your camera\n",
      "please connect your camera\n",
      "please connect your camera\n",
      "please connect your camera\n",
      "please connect your camera\n",
      "please connect your camera\n",
      "please connect your camera\n",
      "please connect your camera\n",
      "please connect your camera\n",
      "please connect your camera\n",
      "please connect your camera\n",
      "please connect your camera\n",
      "please connect your camera\n",
      "please connect your camera\n",
      "please connect your camera\n",
      "please connect your camera\n",
      "please connect your camera\n",
      "please connect your camera\n",
      "please connect your camera\n",
      "please connect your camera\n",
      "please connect your camera\n",
      "please connect your camera\n",
      "please connect your camera\n",
      "please connect your camera\n",
      "please connect your camera\n",
      "please connect your camera\n",
      "please connect your camera\n",
      "please connect your camera\n",
      "please connect your camera\n",
      "please connect your camera\n",
      "please connect your camera\n",
      "please connect your camera\n",
      "please connect your camera\n",
      "please connect your camera\n",
      "please connect your camera\n",
      "please connect your camera\n",
      "please connect your camera\n",
      "please connect your camera\n",
      "please connect your camera\n",
      "please connect your camera\n",
      "please connect your camera\n",
      "please connect your camera\n",
      "please connect your camera\n",
      "please connect your camera\n",
      "please connect your camera\n",
      "please connect your camera\n",
      "please connect your camera\n",
      "please connect your camera\n",
      "please connect your camera\n",
      "please connect your camera\n",
      "please connect your camera\n",
      "please connect your camera\n",
      "please connect your camera\n",
      "please connect your camera\n",
      "please connect your camera\n",
      "please connect your camera\n",
      "please connect your camera\n",
      "please connect your camera\n",
      "please connect your camera\n",
      "please connect your camera\n",
      "please connect your camera\n",
      "please connect your camera\n",
      "please connect your camera\n",
      "please connect your camera\n",
      "please connect your camera\n",
      "please connect your camera\n",
      "please connect your camera\n",
      "please connect your camera\n",
      "please connect your camera\n",
      "please connect your camera\n",
      "please connect your camera\n",
      "please connect your camera\n",
      "please connect your camera\n",
      "please connect your camera\n",
      "please connect your camera\n",
      "please connect your camera\n",
      "please connect your camera\n",
      "please connect your camera\n",
      "please connect your camera\n",
      "please connect your camera\n",
      "please connect your camera\n",
      "please connect your camera\n",
      "please connect your camera\n",
      "please connect your camera\n",
      "please connect your camera\n",
      "please connect your camera\n",
      "please connect your camera\n",
      "please connect your camera\n",
      "please connect your camera\n",
      "please connect your camera\n",
      "please connect your camera\n",
      "please connect your camera\n",
      "please connect your camera\n",
      "please connect your camera\n",
      "please connect your camera\n",
      "please connect your camera\n",
      "please connect your camera\n",
      "please connect your camera\n",
      "please connect your camera\n",
      "please connect your camera\n",
      "please connect your camera\n",
      "please connect your camera\n",
      "please connect your camera\n",
      "please connect your camera\n",
      "please connect your camera\n",
      "please connect your camera\n",
      "please connect your camera\n",
      "please connect your camera\n",
      "please connect your camera\n",
      "please connect your camera\n",
      "please connect your camera\n",
      "please connect your camera\n",
      "please connect your camera\n",
      "please connect your camera\n",
      "please connect your camera\n",
      "please connect your camera\n",
      "please connect your camera\n",
      "please connect your camera\n",
      "please connect your camera\n",
      "please connect your camera\n",
      "please connect your camera\n",
      "please connect your camera\n",
      "please connect your camera\n",
      "please connect your camera\n",
      "please connect your camera\n",
      "please connect your camera\n",
      "please connect your camera\n",
      "please connect your camera\n",
      "please connect your camera\n",
      "please connect your camera\n",
      "please connect your camera\n",
      "please connect your camera\n",
      "please connect your camera\n",
      "please connect your camera\n",
      "please connect your camera\n",
      "please connect your camera\n",
      "please connect your camera\n",
      "please connect your camera\n",
      "please connect your camera\n",
      "please connect your camera\n",
      "please connect your camera\n",
      "please connect your camera\n",
      "please connect your camera\n",
      "please connect your camera\n",
      "please connect your camera\n",
      "please connect your camera\n",
      "please connect your camera\n",
      "please connect your camera\n",
      "please connect your camera\n",
      "please connect your camera\n",
      "please connect your camera\n",
      "please connect your camera\n",
      "please connect your camera\n"
     ]
    }
   ],
   "source": [
    "cam = cv2.VideoCapture(0)\n",
    "\n",
    "while True:\n",
    "    Con, img=cam.read()\n",
    "    if Con:\n",
    "       cv2.imshow(\"MY Cam\", img)\n",
    "       gray_image = cv2.cvtColor(img,cv2.COLOR_BGR2GRAY)\n",
    "       faces=faceClassifier.detectMultiScale(gray_image, 1.3, 5)\n",
    "       for x,y,w,h in faces:\n",
    "            Img=cv2.rectangle(gray_image, (x, y), (x+w,y+h), (0,0,255), 4)\n",
    "       cv2.imshow(\"Gray Cam\", Img)\n",
    "       if cv2.waitKey(1)==13:\n",
    "        break\n",
    "    else:\n",
    "        print(\"please connect your camera\")\n",
    "\n",
    "cam.release()"
   ]
  },
  {
   "cell_type": "code",
   "execution_count": null,
   "metadata": {},
   "outputs": [],
   "source": []
  },
  {
   "cell_type": "code",
   "execution_count": null,
   "metadata": {},
   "outputs": [],
   "source": []
  }
 ],
 "metadata": {
  "kernelspec": {
   "display_name": "Python 3",
   "language": "python",
   "name": "python3"
  },
  "language_info": {
   "codemirror_mode": {
    "name": "ipython",
    "version": 3
   },
   "file_extension": ".py",
   "mimetype": "text/x-python",
   "name": "python",
   "nbconvert_exporter": "python",
   "pygments_lexer": "ipython3",
   "version": "3.8.5"
  }
 },
 "nbformat": 4,
 "nbformat_minor": 4
}
