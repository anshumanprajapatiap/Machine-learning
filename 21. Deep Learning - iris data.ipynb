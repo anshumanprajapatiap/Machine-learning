{
 "cells": [
  {
   "cell_type": "code",
   "execution_count": 5,
   "metadata": {},
   "outputs": [],
   "source": [
    "from sklearn.datasets import load_iris\n",
    "from tensorflow.keras.layers import Dense\n",
    "from  tensorflow.keras.models import Sequential\n",
    "from sklearn.preprocessing import StandardScaler, OneHotEncoder\n",
    "from sklearn.model_selection import train_test_split"
   ]
  },
  {
   "cell_type": "code",
   "execution_count": 6,
   "metadata": {},
   "outputs": [],
   "source": [
    "iris = load_iris()\n",
    "x = iris.data\n",
    "y  = iris.target"
   ]
  },
  {
   "cell_type": "code",
   "execution_count": 8,
   "metadata": {},
   "outputs": [],
   "source": [
    "scaller = StandardScaler()\n",
    "X = scaller.fit_transform(x)"
   ]
  },
  {
   "cell_type": "code",
   "execution_count": 10,
   "metadata": {},
   "outputs": [],
   "source": [
    "ohe = OneHotEncoder()"
   ]
  },
  {
   "cell_type": "code",
   "execution_count": 14,
   "metadata": {},
   "outputs": [],
   "source": [
    "y = y.reshape(-1,1)"
   ]
  },
  {
   "cell_type": "code",
   "execution_count": 15,
   "metadata": {},
   "outputs": [],
   "source": [
    "ohe = ohe.fit_transform(y)"
   ]
  },
  {
   "cell_type": "code",
   "execution_count": 16,
   "metadata": {},
   "outputs": [],
   "source": [
    "y = ohe.toarray()"
   ]
  },
  {
   "cell_type": "code",
   "execution_count": 43,
   "metadata": {},
   "outputs": [],
   "source": [
    "trainX, testX, trainY, testY = train_test_split(x, y, test_size=0.2)"
   ]
  },
  {
   "cell_type": "markdown",
   "metadata": {},
   "source": [
    "### DeepLearning"
   ]
  },
  {
   "cell_type": "code",
   "execution_count": 44,
   "metadata": {},
   "outputs": [],
   "source": [
    "model = Sequential()"
   ]
  },
  {
   "cell_type": "code",
   "execution_count": 45,
   "metadata": {},
   "outputs": [],
   "source": [
    "model.add(Dense (12, activation=\"relu\", input_shape=(4, )))"
   ]
  },
  {
   "cell_type": "code",
   "execution_count": 46,
   "metadata": {},
   "outputs": [],
   "source": [
    "model.add(Dense (32, activation=\"relu\"))"
   ]
  },
  {
   "cell_type": "code",
   "execution_count": 47,
   "metadata": {},
   "outputs": [],
   "source": [
    "##outputlayer\n",
    "\n",
    "model.add(Dense(3, activation= \"softmax\"))"
   ]
  },
  {
   "cell_type": "code",
   "execution_count": 56,
   "metadata": {},
   "outputs": [],
   "source": [
    "model.compile(loss=\"categorical_crossentropy\", optimizer=\"adam\", metrics=[\"accuracy\"])"
   ]
  },
  {
   "cell_type": "code",
   "execution_count": 82,
   "metadata": {},
   "outputs": [
    {
     "name": "stdout",
     "output_type": "stream",
     "text": [
      "Epoch 1/20\n",
      "1/1 [==============================] - 0s 36ms/step - loss: 1.1875 - accuracy: 0.3571 - val_loss: 1.2354 - val_accuracy: 0.3056\n",
      "Epoch 2/20\n",
      "1/1 [==============================] - 0s 13ms/step - loss: 1.1761 - accuracy: 0.3571 - val_loss: 1.2212 - val_accuracy: 0.3333\n",
      "Epoch 3/20\n",
      "1/1 [==============================] - 0s 14ms/step - loss: 1.1647 - accuracy: 0.3571 - val_loss: 1.2069 - val_accuracy: 0.3889\n",
      "Epoch 4/20\n",
      "1/1 [==============================] - 0s 15ms/step - loss: 1.1531 - accuracy: 0.3571 - val_loss: 1.1928 - val_accuracy: 0.4167\n",
      "Epoch 5/20\n",
      "1/1 [==============================] - 0s 19ms/step - loss: 1.1412 - accuracy: 0.4167 - val_loss: 1.1788 - val_accuracy: 0.4444\n",
      "Epoch 6/20\n",
      "1/1 [==============================] - 0s 14ms/step - loss: 1.1290 - accuracy: 0.5000 - val_loss: 1.1648 - val_accuracy: 0.5000\n",
      "Epoch 7/20\n",
      "1/1 [==============================] - 0s 14ms/step - loss: 1.1167 - accuracy: 0.5476 - val_loss: 1.1511 - val_accuracy: 0.5556\n",
      "Epoch 8/20\n",
      "1/1 [==============================] - 0s 13ms/step - loss: 1.1042 - accuracy: 0.5952 - val_loss: 1.1376 - val_accuracy: 0.6111\n",
      "Epoch 9/20\n",
      "1/1 [==============================] - 0s 13ms/step - loss: 1.0922 - accuracy: 0.6071 - val_loss: 1.1244 - val_accuracy: 0.6111\n",
      "Epoch 10/20\n",
      "1/1 [==============================] - 0s 14ms/step - loss: 1.0806 - accuracy: 0.6310 - val_loss: 1.1115 - val_accuracy: 0.6111\n",
      "Epoch 11/20\n",
      "1/1 [==============================] - 0s 13ms/step - loss: 1.0699 - accuracy: 0.6548 - val_loss: 1.0992 - val_accuracy: 0.5833\n",
      "Epoch 12/20\n",
      "1/1 [==============================] - 0s 13ms/step - loss: 1.0598 - accuracy: 0.6429 - val_loss: 1.0878 - val_accuracy: 0.5833\n",
      "Epoch 13/20\n",
      "1/1 [==============================] - 0s 14ms/step - loss: 1.0503 - accuracy: 0.6548 - val_loss: 1.0770 - val_accuracy: 0.5833\n",
      "Epoch 14/20\n",
      "1/1 [==============================] - 0s 15ms/step - loss: 1.0410 - accuracy: 0.6548 - val_loss: 1.0669 - val_accuracy: 0.5556\n",
      "Epoch 15/20\n",
      "1/1 [==============================] - 0s 14ms/step - loss: 1.0320 - accuracy: 0.6310 - val_loss: 1.0574 - val_accuracy: 0.5278\n",
      "Epoch 16/20\n",
      "1/1 [==============================] - 0s 13ms/step - loss: 1.0235 - accuracy: 0.6190 - val_loss: 1.0481 - val_accuracy: 0.5278\n",
      "Epoch 17/20\n",
      "1/1 [==============================] - 0s 13ms/step - loss: 1.0157 - accuracy: 0.5833 - val_loss: 1.0390 - val_accuracy: 0.5000\n",
      "Epoch 18/20\n",
      "1/1 [==============================] - 0s 17ms/step - loss: 1.0084 - accuracy: 0.5595 - val_loss: 1.0303 - val_accuracy: 0.5000\n",
      "Epoch 19/20\n",
      "1/1 [==============================] - 0s 17ms/step - loss: 1.0017 - accuracy: 0.5476 - val_loss: 1.0220 - val_accuracy: 0.4444\n",
      "Epoch 20/20\n",
      "1/1 [==============================] - 0s 17ms/step - loss: 0.9952 - accuracy: 0.5476 - val_loss: 1.0140 - val_accuracy: 0.4444\n"
     ]
    }
   ],
   "source": [
    "H =  model.fit(trainX, trainY, validation_split = 0.3, epochs=20, batch_size=len(x))"
   ]
  },
  {
   "cell_type": "code",
   "execution_count": 83,
   "metadata": {},
   "outputs": [],
   "source": [
    "loss = H.history[\"loss\"]\n",
    "val_loss = H.history[\"val_loss\"]\n",
    "accuracy = H.history[\"accuracy\"]\n",
    "val_accuracy = H.history[\"val_accuracy\"]"
   ]
  },
  {
   "cell_type": "code",
   "execution_count": 84,
   "metadata": {},
   "outputs": [
    {
     "data": {
      "text/plain": [
       "<AxesSubplot:>"
      ]
     },
     "execution_count": 84,
     "metadata": {},
     "output_type": "execute_result"
    },
    {
     "data": {
      "image/png": "[encoded data removed]",
      "text/plain": [
       "<Figure size 432x288 with 1 Axes>"
      ]
     },
     "metadata": {
      "needs_background": "light"
     },
     "output_type": "display_data"
    }
   ],
   "source": [
    "import pandas as pd\n",
    "\n",
    "tva = pd.DataFrame({\n",
    "    \"Ta\":accuracy,\n",
    "    \"Va\":val_accuracy\n",
    "})\n",
    "\n",
    "tva.boxplot()"
   ]
  },
  {
   "cell_type": "code",
   "execution_count": 85,
   "metadata": {},
   "outputs": [
    {
     "data": {
      "text/plain": [
       "[0.3055555522441864,\n",
       " 0.3333333432674408,\n",
       " 0.3888888955116272,\n",
       " 0.4166666567325592,\n",
       " 0.4444444477558136,\n",
       " 0.5,\n",
       " 0.5555555820465088,\n",
       " 0.6111111044883728,\n",
       " 0.6111111044883728,\n",
       " 0.6111111044883728,\n",
       " 0.5833333134651184,\n",
       " 0.5833333134651184,\n",
       " 0.5833333134651184,\n",
       " 0.5555555820465088,\n",
       " 0.5277777910232544,\n",
       " 0.5277777910232544,\n",
       " 0.5,\n",
       " 0.5,\n",
       " 0.4444444477558136,\n",
       " 0.4444444477558136]"
      ]
     },
     "execution_count": 85,
     "metadata": {},
     "output_type": "execute_result"
    }
   ],
   "source": [
    "val_accuracy"
   ]
  },
  {
   "cell_type": "code",
   "execution_count": 86,
   "metadata": {},
   "outputs": [
    {
     "data": {
      "text/plain": [
       "array([1], dtype=int64)"
      ]
     },
     "execution_count": 86,
     "metadata": {},
     "output_type": "execute_result"
    }
   ],
   "source": [
    "model.predict_classes(testX[1:2])"
   ]
  },
  {
   "cell_type": "code",
   "execution_count": 92,
   "metadata": {},
   "outputs": [
    {
     "data": {
      "text/plain": [
       "array([[0.24581441, 0.29926813, 0.45491752],\n",
       "       [0.29406694, 0.41102386, 0.29490924],\n",
       "       [0.29282597, 0.41118425, 0.2959897 ],\n",
       "       [0.25992557, 0.28170648, 0.45836794],\n",
       "       [0.21428615, 0.26756406, 0.5181498 ],\n",
       "       [0.27298048, 0.32593724, 0.40108225],\n",
       "       [0.24779794, 0.29040536, 0.4617967 ],\n",
       "       [0.29417992, 0.39952525, 0.30629477],\n",
       "       [0.24453263, 0.2855644 , 0.46990302],\n",
       "       [0.22914046, 0.2876462 , 0.48321342],\n",
       "       [0.2554983 , 0.35847723, 0.38602442],\n",
       "       [0.2536085 , 0.368463  , 0.37792853],\n",
       "       [0.2932219 , 0.38510013, 0.32167798],\n",
       "       [0.26338372, 0.33060747, 0.4060088 ],\n",
       "       [0.26260704, 0.33761537, 0.39977756],\n",
       "       [0.27938235, 0.3285165 , 0.39210117],\n",
       "       [0.27158427, 0.27853444, 0.44988135],\n",
       "       [0.29158098, 0.4175841 , 0.2908349 ],\n",
       "       [0.28687492, 0.42181635, 0.29130876],\n",
       "       [0.27734798, 0.36315548, 0.3594965 ],\n",
       "       [0.28812388, 0.40763062, 0.30424553],\n",
       "       [0.20503592, 0.26079798, 0.5341661 ],\n",
       "       [0.28779963, 0.4167872 , 0.29541314],\n",
       "       [0.25739235, 0.30832702, 0.43428072],\n",
       "       [0.28016794, 0.418738  , 0.30109403],\n",
       "       [0.27240312, 0.35969418, 0.36790276],\n",
       "       [0.27235904, 0.33465424, 0.3929868 ],\n",
       "       [0.20864095, 0.26241288, 0.52894616],\n",
       "       [0.27174863, 0.43573534, 0.29251602],\n",
       "       [0.27052602, 0.44072273, 0.2887512 ]], dtype=float32)"
      ]
     },
     "execution_count": 92,
     "metadata": {},
     "output_type": "execute_result"
    }
   ],
   "source": [
    "model.predict(testX)"
   ]
  },
  {
   "cell_type": "code",
   "execution_count": 87,
   "metadata": {},
   "outputs": [],
   "source": [
    "loss, acc = model.evaluate(testX, testY, verbose=False)"
   ]
  },
  {
   "cell_type": "code",
   "execution_count": 88,
   "metadata": {},
   "outputs": [],
   "source": [
    "from sklearn.metrics import accuracy_score"
   ]
  },
  {
   "cell_type": "code",
   "execution_count": 89,
   "metadata": {},
   "outputs": [
    {
     "data": {
      "text/plain": [
       "[2,\n",
       " 0,\n",
       " 0,\n",
       " 2,\n",
       " 2,\n",
       " 1,\n",
       " 2,\n",
       " 0,\n",
       " 2,\n",
       " 2,\n",
       " 1,\n",
       " 1,\n",
       " 0,\n",
       " 1,\n",
       " 1,\n",
       " 1,\n",
       " 2,\n",
       " 0,\n",
       " 0,\n",
       " 1,\n",
       " 0,\n",
       " 2,\n",
       " 0,\n",
       " 2,\n",
       " 0,\n",
       " 1,\n",
       " 1,\n",
       " 2,\n",
       " 0,\n",
       " 0]"
      ]
     },
     "execution_count": 89,
     "metadata": {},
     "output_type": "execute_result"
    }
   ],
   "source": [
    "newY= []\n",
    "for i in testY:\n",
    "    newY.append(list(i).index(1))\n",
    "\n",
    "newY"
   ]
  },
  {
   "cell_type": "code",
   "execution_count": 90,
   "metadata": {},
   "outputs": [],
   "source": [
    "newY = np.array(newY)"
   ]
  },
  {
   "cell_type": "code",
   "execution_count": 91,
   "metadata": {},
   "outputs": [
    {
     "data": {
      "text/plain": [
       "array([2, 0, 0, 2, 2, 1, 2, 0, 2, 2, 1, 1, 0, 1, 1, 1, 2, 0, 0, 1, 0, 2,\n",
       "       0, 2, 0, 1, 1, 2, 0, 0])"
      ]
     },
     "execution_count": 91,
     "metadata": {},
     "output_type": "execute_result"
    }
   ],
   "source": [
    "newY"
   ]
  },
  {
   "cell_type": "code",
   "execution_count": null,
   "metadata": {},
   "outputs": [],
   "source": []
  }
 ],
 "metadata": {
  "kernelspec": {
   "display_name": "Python 3",
   "language": "python",
   "name": "python3"
  },
  "language_info": {
   "codemirror_mode": {
    "name": "ipython",
    "version": 3
   },
   "file_extension": ".py",
   "mimetype": "text/x-python",
   "name": "python",
   "nbconvert_exporter": "python",
   "pygments_lexer": "ipython3",
   "version": "3.8.5"
  }
 },
 "nbformat": 4,
 "nbformat_minor": 4
}
