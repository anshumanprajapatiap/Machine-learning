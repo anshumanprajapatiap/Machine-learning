{
 "cells": [
  {
   "cell_type": "code",
   "execution_count": 1,
   "metadata": {
    "id": "aZWWIeI8YQX6"
   },
   "outputs": [],
   "source": [
    "import pandas\n",
    "import matplotlib.pyplot as plt\n",
    "import numpy as np\n"
   ]
  },
  {
   "cell_type": "code",
   "execution_count": 2,
   "metadata": {
    "id": "rX-w_hGyY_33"
   },
   "outputs": [],
   "source": [
    "from tensorflow.keras.datasets import mnist\n",
    "from tensorflow.keras.layers import Dense, Dropout, Flatten\n",
    "from tensorflow.keras.models import Sequential\n",
    "from tensorflow.keras.utils import to_categorical, normalize\n",
    "from sklearn.preprocessing import OneHotEncoder"
   ]
  },
  {
   "cell_type": "code",
   "execution_count": 3,
   "metadata": {
    "id": "39XZJueOnrIG"
   },
   "outputs": [],
   "source": [
    "from tensorflow.keras.datasets import mnist\n",
    "from tensorflow.keras.utils import to_categorical, normalize"
   ]
  },
  {
   "cell_type": "code",
   "execution_count": 4,
   "metadata": {
    "id": "zt16uSdbaGDH"
   },
   "outputs": [
    {
     "name": "stdout",
     "output_type": "stream",
     "text": [
      "Downloading data from https://storage.googleapis.com/tensorflow/tf-keras-datasets/mnist.npz\n",
      "11493376/11490434 [==============================] - 43s 4us/step\n"
     ]
    }
   ],
   "source": [
    "(trainX, trainY), (testX, testY) = mnist.load_data()"
   ]
  },
  {
   "cell_type": "code",
   "execution_count": 5,
   "metadata": {
    "colab": {
     "base_uri": "https://localhost:8080/",
     "height": 34
    },
    "id": "udnbHgNMarAX",
    "outputId": "79daa935-ce75-420c-d388-b6322ee24ba1"
   },
   "outputs": [
    {
     "data": {
      "text/plain": [
       "(60000, 28, 28)"
      ]
     },
     "execution_count": 5,
     "metadata": {},
     "output_type": "execute_result"
    }
   ],
   "source": [
    "trainX.shape"
   ]
  },
  {
   "cell_type": "code",
   "execution_count": 6,
   "metadata": {
    "colab": {
     "base_uri": "https://localhost:8080/",
     "height": 248
    },
    "id": "jDo_vPAea74Z",
    "outputId": "c0fbbece-6407-41b6-b28b-d47471de3c8e"
   },
   "outputs": [
    {
     "data": {
      "image/png": "[encoded data removed]",
      "text/plain": [
       "<Figure size 432x288 with 1 Axes>"
      ]
     },
     "metadata": {
      "needs_background": "light"
     },
     "output_type": "display_data"
    }
   ],
   "source": [
    "some_digit = trainX[0]\n",
    "plt.imshow(some_digit, cmap=plt.cm.binary)\n",
    "plt.axis(\"off\")\n",
    "plt.show()"
   ]
  },
  {
   "cell_type": "code",
   "execution_count": 7,
   "metadata": {
    "id": "QcdgAqBIbDeo"
   },
   "outputs": [],
   "source": [
    "## Preprocessing Your Data"
   ]
  },
  {
   "cell_type": "code",
   "execution_count": 8,
   "metadata": {
    "id": "LMjAJFfmbRaT"
   },
   "outputs": [],
   "source": [
    "trainX = normalize(trainX)\n",
    "testX = normalize(testX)"
   ]
  },
  {
   "cell_type": "code",
   "execution_count": 9,
   "metadata": {
    "id": "PAT7PoFScI5K"
   },
   "outputs": [],
   "source": [
    "trainY = to_categorical(trainY)\n",
    "testY = to_categorical(testY)"
   ]
  },
  {
   "cell_type": "code",
   "execution_count": 10,
   "metadata": {
    "id": "kgx4yJQycbyj"
   },
   "outputs": [],
   "source": [
    "#### WithOut DropOut"
   ]
  },
  {
   "cell_type": "code",
   "execution_count": 11,
   "metadata": {
    "id": "-nvmjdu0cdWH"
   },
   "outputs": [],
   "source": [
    "model = Sequential()\n",
    "model.add(Flatten(input_shape = (28, 28)))\n",
    "model.add(Dense(784, activation=\"relu\"))\n",
    "model.add(Dense(10, activation=\"softmax\"))"
   ]
  },
  {
   "cell_type": "code",
   "execution_count": null,
   "metadata": {
    "id": "SRoJE9BCe4my"
   },
   "outputs": [],
   "source": []
  },
  {
   "cell_type": "code",
   "execution_count": 12,
   "metadata": {
    "colab": {
     "base_uri": "https://localhost:8080/",
     "height": 255
    },
    "id": "K6tKPwJMdawf",
    "outputId": "51e1f686-a125-4dc3-fe35-37fc941bea83"
   },
   "outputs": [
    {
     "name": "stdout",
     "output_type": "stream",
     "text": [
      "Model: \"sequential\"\n",
      "_________________________________________________________________\n",
      "Layer (type)                 Output Shape              Param #   \n",
      "=================================================================\n",
      "flatten (Flatten)            (None, 784)               0         \n",
      "_________________________________________________________________\n",
      "dense (Dense)                (None, 784)               615440    \n",
      "_________________________________________________________________\n",
      "dense_1 (Dense)              (None, 10)                7850      \n",
      "=================================================================\n",
      "Total params: 623,290\n",
      "Trainable params: 623,290\n",
      "Non-trainable params: 0\n",
      "_________________________________________________________________\n"
     ]
    }
   ],
   "source": [
    "model.summary()"
   ]
  },
  {
   "cell_type": "code",
   "execution_count": 13,
   "metadata": {
    "id": "eeQOPPbneISD"
   },
   "outputs": [],
   "source": [
    "model.compile(loss=\"categorical_crossentropy\", optimizer=\"adam\", metrics=[\"accuracy\"])"
   ]
  },
  {
   "cell_type": "code",
   "execution_count": 14,
   "metadata": {
    "colab": {
     "base_uri": "https://localhost:8080/",
     "height": 357
    },
    "id": "3zmMn8LPfRb2",
    "outputId": "33395f5e-13e8-40f7-b72f-12d16e063bba"
   },
   "outputs": [
    {
     "name": "stdout",
     "output_type": "stream",
     "text": [
      "Epoch 1/10\n",
      "960/960 [==============================] - 4s 4ms/step - loss: 0.2685 - accuracy: 0.9215 - val_loss: 0.1330 - val_accuracy: 0.9607\n",
      "Epoch 2/10\n",
      "960/960 [==============================] - 3s 3ms/step - loss: 0.1060 - accuracy: 0.9674 - val_loss: 0.0942 - val_accuracy: 0.9722\n",
      "Epoch 3/10\n",
      "960/960 [==============================] - 3s 3ms/step - loss: 0.0681 - accuracy: 0.9799 - val_loss: 0.0883 - val_accuracy: 0.9736\n",
      "Epoch 4/10\n",
      "960/960 [==============================] - 3s 3ms/step - loss: 0.0472 - accuracy: 0.9858 - val_loss: 0.0851 - val_accuracy: 0.9738\n",
      "Epoch 5/10\n",
      "960/960 [==============================] - 3s 3ms/step - loss: 0.0344 - accuracy: 0.9897 - val_loss: 0.0828 - val_accuracy: 0.9754\n",
      "Epoch 6/10\n",
      "960/960 [==============================] - 3s 3ms/step - loss: 0.0250 - accuracy: 0.9926 - val_loss: 0.0787 - val_accuracy: 0.9774\n",
      "Epoch 7/10\n",
      "960/960 [==============================] - 3s 4ms/step - loss: 0.0174 - accuracy: 0.9949 - val_loss: 0.0953 - val_accuracy: 0.9747\n",
      "Epoch 8/10\n",
      "960/960 [==============================] - 3s 4ms/step - loss: 0.0142 - accuracy: 0.9958 - val_loss: 0.0901 - val_accuracy: 0.9763\n",
      "Epoch 9/10\n",
      "960/960 [==============================] - 3s 4ms/step - loss: 0.0108 - accuracy: 0.9969 - val_loss: 0.0843 - val_accuracy: 0.9795\n",
      "Epoch 10/10\n",
      "960/960 [==============================] - 4s 4ms/step - loss: 0.0092 - accuracy: 0.9974 - val_loss: 0.1004 - val_accuracy: 0.9753\n"
     ]
    }
   ],
   "source": [
    "H = model.fit(trainX, trainY, epochs=10, batch_size=50, validation_split=0.2)"
   ]
  },
  {
   "cell_type": "code",
   "execution_count": 15,
   "metadata": {
    "colab": {
     "base_uri": "https://localhost:8080/",
     "height": 697
    },
    "id": "HDFMf7d4fcZ_",
    "outputId": "0306e455-15fd-43e3-a7eb-e39e7b25dd85"
   },
   "outputs": [
    {
     "data": {
      "text/plain": [
       "{'loss': [0.26852065324783325,\n",
       "  0.10597924143075943,\n",
       "  0.06806273013353348,\n",
       "  0.04720791056752205,\n",
       "  0.03441539779305458,\n",
       "  0.02504502795636654,\n",
       "  0.017449021339416504,\n",
       "  0.014164839871227741,\n",
       "  0.010828694328665733,\n",
       "  0.009244678542017937],\n",
       " 'accuracy': [0.9215208292007446,\n",
       "  0.9674375057220459,\n",
       "  0.9799166917800903,\n",
       "  0.9857916831970215,\n",
       "  0.9897291660308838,\n",
       "  0.9925833344459534,\n",
       "  0.9949374794960022,\n",
       "  0.9958124756813049,\n",
       "  0.9968958497047424,\n",
       "  0.9973958134651184],\n",
       " 'val_loss': [0.13296537101268768,\n",
       "  0.0942249745130539,\n",
       "  0.08826249092817307,\n",
       "  0.08505170047283173,\n",
       "  0.08283681422472,\n",
       "  0.07868194580078125,\n",
       "  0.09530328214168549,\n",
       "  0.09011415392160416,\n",
       "  0.08434473723173141,\n",
       "  0.10035290569067001],\n",
       " 'val_accuracy': [0.9607499837875366,\n",
       "  0.9722499847412109,\n",
       "  0.9735833406448364,\n",
       "  0.9738333225250244,\n",
       "  0.9754166603088379,\n",
       "  0.9774166941642761,\n",
       "  0.9746666550636292,\n",
       "  0.9763333201408386,\n",
       "  0.9794999957084656,\n",
       "  0.9753333330154419]}"
      ]
     },
     "execution_count": 15,
     "metadata": {},
     "output_type": "execute_result"
    }
   ],
   "source": [
    "H.history"
   ]
  },
  {
   "cell_type": "code",
   "execution_count": 16,
   "metadata": {
    "id": "QXqM2lcZfrm7"
   },
   "outputs": [],
   "source": [
    "acc = H.history[\"accuracy\"]\n",
    "val_acc = H.history[\"val_accuracy\"]\n",
    "loss = H.history[\"loss\"]\n",
    "val_loss = H.history[\"val_loss\"]\n",
    "n = np.arange(1,11)"
   ]
  },
  {
   "cell_type": "code",
   "execution_count": 17,
   "metadata": {
    "colab": {
     "base_uri": "https://localhost:8080/",
     "height": 265
    },
    "id": "1phAiHlef5uO",
    "outputId": "3da85bbf-5518-4841-834d-4ac481cb8475"
   },
   "outputs": [
    {
     "data": {
      "image/png": "[encoded data removed]",
      "text/plain": [
       "<Figure size 432x288 with 1 Axes>"
      ]
     },
     "metadata": {
      "needs_background": "light"
     },
     "output_type": "display_data"
    }
   ],
   "source": [
    "plt.plot(n, loss, label = \"Training Loss\")\n",
    "plt.plot(n, val_loss, label = \"Val Loss\")\n",
    "plt.legend()\n",
    "plt.show()"
   ]
  },
  {
   "cell_type": "code",
   "execution_count": 18,
   "metadata": {
    "colab": {
     "base_uri": "https://localhost:8080/",
     "height": 267
    },
    "id": "2VYfWpU9gIys",
    "outputId": "0a8b56c5-eaa7-4832-aea1-87da852e335b"
   },
   "outputs": [
    {
     "data": {
      "image/png": "[encoded data removed]",
      "text/plain": [
       "<Figure size 432x288 with 1 Axes>"
      ]
     },
     "metadata": {
      "needs_background": "light"
     },
     "output_type": "display_data"
    }
   ],
   "source": [
    "plt.plot(n, acc, label = \"Training Acc\")\n",
    "plt.plot(n, val_acc, label = \"Val acc\")\n",
    "plt.legend()\n",
    "plt.show()"
   ]
  },
  {
   "cell_type": "code",
   "execution_count": 19,
   "metadata": {
    "id": "R7VewTqkgWGk"
   },
   "outputs": [],
   "source": [
    "### Dropout Layer Network"
   ]
  },
  {
   "cell_type": "code",
   "execution_count": 20,
   "metadata": {
    "id": "pFpc5z4dhUld"
   },
   "outputs": [],
   "source": [
    "model = Sequential()"
   ]
  },
  {
   "cell_type": "code",
   "execution_count": 21,
   "metadata": {
    "id": "qjNmNISJhW-P"
   },
   "outputs": [],
   "source": [
    "model.add(Flatten(input_shape = (28, 28)))\n",
    "model.add(Dense(784, activation=\"relu\"))\n",
    "model.add(Dropout(0.4))\n",
    "model.add(Dense(130, activation=\"relu\"))\n",
    "model.add(Dropout(0.4))\n",
    "\n",
    "##o/p layer\n",
    "model.add(Dense(10, activation=\"softmax\"))\n",
    "\n"
   ]
  },
  {
   "cell_type": "code",
   "execution_count": 22,
   "metadata": {
    "colab": {
     "base_uri": "https://localhost:8080/",
     "height": 357
    },
    "id": "n1VcxQvWh3Yd",
    "outputId": "fa7d897c-124f-4163-9044-b87e7bc66a2d"
   },
   "outputs": [
    {
     "name": "stdout",
     "output_type": "stream",
     "text": [
      "Epoch 1/10\n",
      "960/960 [==============================] - 4s 4ms/step - loss: 0.3423 - accuracy: 0.8936 - val_loss: 0.1365 - val_accuracy: 0.9595\n",
      "Epoch 2/10\n",
      "960/960 [==============================] - 4s 4ms/step - loss: 0.1572 - accuracy: 0.9537 - val_loss: 0.1063 - val_accuracy: 0.9655\n",
      "Epoch 3/10\n",
      "960/960 [==============================] - 4s 4ms/step - loss: 0.1218 - accuracy: 0.9633 - val_loss: 0.1047 - val_accuracy: 0.9684\n",
      "Epoch 4/10\n",
      "960/960 [==============================] - 4s 4ms/step - loss: 0.1030 - accuracy: 0.9683 - val_loss: 0.0841 - val_accuracy: 0.9755\n",
      "Epoch 5/10\n",
      "960/960 [==============================] - 4s 4ms/step - loss: 0.0829 - accuracy: 0.9744 - val_loss: 0.0799 - val_accuracy: 0.9763\n",
      "Epoch 6/10\n",
      "960/960 [==============================] - 4s 4ms/step - loss: 0.0767 - accuracy: 0.9760 - val_loss: 0.0812 - val_accuracy: 0.9768\n",
      "Epoch 7/10\n",
      "960/960 [==============================] - 4s 5ms/step - loss: 0.0661 - accuracy: 0.9799 - val_loss: 0.0894 - val_accuracy: 0.9737\n",
      "Epoch 8/10\n",
      "960/960 [==============================] - 5s 5ms/step - loss: 0.0604 - accuracy: 0.9804 - val_loss: 0.0813 - val_accuracy: 0.9780\n",
      "Epoch 9/10\n",
      "960/960 [==============================] - 5s 5ms/step - loss: 0.0559 - accuracy: 0.9815 - val_loss: 0.0800 - val_accuracy: 0.9768\n",
      "Epoch 10/10\n",
      "960/960 [==============================] - 4s 5ms/step - loss: 0.0529 - accuracy: 0.9832 - val_loss: 0.0733 - val_accuracy: 0.9808\n"
     ]
    }
   ],
   "source": [
    "model.compile(loss=\"categorical_crossentropy\", optimizer=\"adam\", metrics=[\"accuracy\"])\n",
    "H = model.fit(trainX, trainY, epochs=10, batch_size=50, validation_split=0.2)"
   ]
  },
  {
   "cell_type": "code",
   "execution_count": 23,
   "metadata": {
    "id": "-QMR8CCwh_5L"
   },
   "outputs": [],
   "source": [
    "acc = H.history[\"accuracy\"]\n",
    "val_acc = H.history[\"val_accuracy\"]\n",
    "loss = H.history[\"loss\"]\n",
    "val_loss = H.history[\"val_loss\"]\n",
    "n = np.arange(1,11)"
   ]
  },
  {
   "cell_type": "code",
   "execution_count": 24,
   "metadata": {
    "colab": {
     "base_uri": "https://localhost:8080/",
     "height": 265
    },
    "id": "r9J9609CiHWs",
    "outputId": "26c6b6b0-b49c-4e9b-8c7e-8fd69d84fb94"
   },
   "outputs": [
    {
     "data": {
      "image/png": "[encoded data removed]",
      "text/plain": [
       "<Figure size 432x288 with 1 Axes>"
      ]
     },
     "metadata": {
      "needs_background": "light"
     },
     "output_type": "display_data"
    }
   ],
   "source": [
    "plt.plot(n, loss, label = \"Training Loss\")\n",
    "plt.plot(n, val_loss, label = \"Val Loss\")\n",
    "plt.legend()\n",
    "plt.show()"
   ]
  },
  {
   "cell_type": "code",
   "execution_count": 25,
   "metadata": {
    "colab": {
     "base_uri": "https://localhost:8080/",
     "height": 265
    },
    "id": "61cJ5DwgiJcE",
    "outputId": "22957af7-8616-4171-b19b-cf7c80df9f79"
   },
   "outputs": [
    {
     "data": {
      "image/png": "[encoded data removed]",
      "text/plain": [
       "<Figure size 432x288 with 1 Axes>"
      ]
     },
     "metadata": {
      "needs_background": "light"
     },
     "output_type": "display_data"
    }
   ],
   "source": [
    "plt.plot(n, acc, label = \"Training Acc\")\n",
    "plt.plot(n, val_acc, label = \"Val acc\")\n",
    "plt.legend()\n",
    "plt.show()"
   ]
  },
  {
   "cell_type": "code",
   "execution_count": 26,
   "metadata": {
    "colab": {
     "base_uri": "https://localhost:8080/",
     "height": 34
    },
    "id": "j-hCfnSTiMjm",
    "outputId": "c5adb2f9-e921-41c5-f62e-0c6c0e7a146a"
   },
   "outputs": [
    {
     "name": "stdout",
     "output_type": "stream",
     "text": [
      "WARNING:tensorflow:From <ipython-input-26-157491d51f8c>:1: Sequential.predict_classes (from tensorflow.python.keras.engine.sequential) is deprecated and will be removed after 2021-01-01.\n",
      "Instructions for updating:\n",
      "Please use instead:* `np.argmax(model.predict(x), axis=-1)`,   if your model does multi-class classification   (e.g. if it uses a `softmax` last-layer activation).* `(model.predict(x) > 0.5).astype(\"int32\")`,   if your model does binary classification   (e.g. if it uses a `sigmoid` last-layer activation).\n"
     ]
    },
    {
     "data": {
      "text/plain": [
       "array([7], dtype=int64)"
      ]
     },
     "execution_count": 26,
     "metadata": {},
     "output_type": "execute_result"
    }
   ],
   "source": [
    "model.predict_classes(testX[0:1])"
   ]
  },
  {
   "cell_type": "code",
   "execution_count": 27,
   "metadata": {
    "colab": {
     "base_uri": "https://localhost:8080/",
     "height": 34
    },
    "id": "zzMLFGG1lLqy",
    "outputId": "74d09548-2cc0-4dac-d107-ea4279bcd257"
   },
   "outputs": [
    {
     "data": {
      "text/plain": [
       "7"
      ]
     },
     "execution_count": 27,
     "metadata": {},
     "output_type": "execute_result"
    }
   ],
   "source": [
    "testY[0:1].argmax()"
   ]
  },
  {
   "cell_type": "code",
   "execution_count": 28,
   "metadata": {
    "id": "ZgZUHMLFlRdZ"
   },
   "outputs": [],
   "source": [
    "model.save(\"mnist_with_dropout.h5\")"
   ]
  },
  {
   "cell_type": "code",
   "execution_count": 29,
   "metadata": {
    "colab": {
     "base_uri": "https://localhost:8080/",
     "height": 34
    },
    "id": "rliXSmxUluaP",
    "outputId": "b3be0069-416d-44e5-9645-d771b61cb21a"
   },
   "outputs": [
    {
     "name": "stdout",
     "output_type": "stream",
     "text": [
      " Volume in drive E has no label.\n",
      " Volume Serial Number is D49E-A32D\n",
      "\n",
      " Directory of E:\\MLOps\\mlops\n",
      "\n",
      "30-09-2020  06:54    <DIR>          .\n",
      "30-09-2020  06:54    <DIR>          ..\n",
      "20-08-2020  06:23                42 .gitignore\n",
      "24-09-2020  06:43    <DIR>          .ipynb_checkpoints\n",
      "07-09-2020  13:15            45,029 1. Basic Python with NumPy.ipynb\n",
      "12-09-2020  06:28           514,830 10. KNN - From Scratch & Play with Hand Written Digits...ipynb\n",
      "16-09-2020  06:33            14,616 11. Hand Written Digit Classification (1).ipynb\n",
      "11-09-2020  21:18            68,422 12. Movie Recommendation System .ipynb\n",
      "14-09-2020  06:49            52,859 13 Naive Bayes - With Python.ipynb\n",
      "16-09-2020  06:31            35,010 14 K-Mean from Scratch with IRIS And MNIST.ipynb\n",
      "16-09-2020  06:36            50,707 15 Mall Customer Seg..ipynb\n",
      "16-09-2020  08:43            89,985 16 Customer Clustering (K-Mean) -RFM.ipynb\n",
      "17-09-2020  12:16            87,782 16 Customer Clustering (K-Means) - RFM (1).ipynb\n",
      "23-09-2020  06:16            35,002 17 DT Algo - TTT Game.ipynb\n",
      "19-09-2020  07:07            61,713 18. Basic Topics for Deep Learning.ipynb\n",
      "22-09-2020  08:13             3,322 19. Basic Deep Learning_Single Neuron .ipynb\n",
      "07-09-2020  01:24            20,803 2. Play with Images and CV2.ipynb\n",
      "24-09-2020  06:40            27,643 20. Deep learning with wine dataset.ipynb\n",
      "30-09-2020  06:52           132,137 21 DeepLearning_17Aug_2020_mnist_with_DropOut.ipynb\n",
      "24-09-2020  07:32            19,018 21. Deep Learning - iris data.ipynb\n",
      "28-08-2020  08:12            87,441 2p.jpg\n",
      "26-08-2020  07:00           266,416 3. Data Analytics with Pandas.ipynb\n",
      "28-08-2020  08:16           591,999 3p.PNG\n",
      "31-08-2020  06:17         3,823,232 4. MatplotLib and PlotLy.ipynb\n",
      "28-08-2020  08:24            98,012 4p.gif\n",
      "01-09-2020  23:32            33,082 5. Linear Regression.ipynb\n",
      "24-08-2020  06:31             2,438 50_Startups.csv\n",
      "01-09-2020  23:32         1,578,672 6. Face_Detection_with_opencv.ipynb\n",
      "03-09-2020  07:01            13,528 7. Logistic Regression.ipynb\n",
      "01-09-2020  13:49             9,430 8.Play with Browser - Automation.ipynb\n",
      "03-09-2020  07:53            85,778 9. Automation of Indeed and scrap data.ipynb\n",
      "03-09-2020  07:21             1,299 ai.csv\n",
      "16-09-2020  06:45         3,239,702 appointment.csv\n",
      "18-09-2020  08:51    <DIR>          Attendance system\n",
      "17-08-2020  20:44            18,451 book.png\n",
      "07-09-2020  13:14               206 Calculator.py\n",
      "22-08-2020  22:53         9,615,360 chromedriver.exe\n",
      "01-09-2020  06:34         5,204,437 chromedriver_win32.zip\n",
      "16-09-2020  06:44            78,070 College.csv\n",
      "03-09-2020  07:21         1,807,296 data_analyst.csv\n",
      "03-09-2020  07:21         1,987,434 datascience2.csv\n",
      "24-08-2020  06:24                99 Demo.csv\n",
      "24-08-2020  06:31            23,873 diabetes.csv\n",
      "28-08-2020  08:27            56,466 do.jpg\n",
      "18-09-2020  08:51    <DIR>          Face_Detection_With_OpenCV\n",
      "28-08-2020  07:54           930,127 haarcascade_frontalface_default.xml\n",
      "29-08-2020  06:28               194 Height_weight.csv\n",
      "24-08-2020  06:31         1,423,529 housing.csv\n",
      "24-08-2020  06:31           566,785 HR_comma_sep.csv\n",
      "18-09-2020  08:51    <DIR>          Images\n",
      "27-08-2020  07:11             3,975 iris.csv\n",
      "14-09-2020  08:18            23,252 K-Means Clustering.ipynb\n",
      "20-08-2020  06:23    <DIR>          Lib\n",
      "24-08-2020  06:31            78,807 loanf.csv\n",
      "03-09-2020  07:21         2,349,056 machinelearning.csv\n",
      "03-09-2020  07:21            11,394 MachineLearningJobs.csv\n",
      "16-09-2020  06:31             3,979 Mall_Customers.csv\n",
      "28-08-2020  06:25                 0 ML Concepts\n",
      "27-08-2020  07:26           882,242 MLOps_Internship_Course_Content.pdf\n",
      "30-09-2020  06:54         8,660,304 mnist_with_dropout.h5\n",
      "10-09-2020  16:11           494,431 movies.csv\n",
      "16-09-2020  08:43            63,962 My_First_Cluster.csv\n",
      "27-08-2020  08:07             4,596 mytextimage.png\n",
      "21-08-2020  08:07             8,931 mytextimagewithlogo.png\n",
      "12-09-2020  21:59         1,828,568 NB.pdf\n",
      "24-08-2020  06:31            32,823 nba.csv\n",
      "07-09-2020  13:15             1,971 Neighbors.py\n",
      "18-09-2020  09:30    <DIR>          nlp-in-python-tutorial-master\n"
     ]
    }
   ],
   "source": [
    "ls"
   ]
  },
  {
   "cell_type": "code",
   "execution_count": 32,
   "metadata": {
    "id": "jm_e2fWEmB9t"
   },
   "outputs": [
    {
     "name": "stdout",
     "output_type": "stream",
     "text": [
      "Collecting google.colab\n",
      "  Downloading google-colab-1.0.0.tar.gz (72 kB)\n",
      "Collecting google-auth~=1.4.0\n",
      "  Downloading google_auth-1.4.2-py2.py3-none-any.whl (64 kB)\n",
      "Collecting ipykernel~=4.6.0\n",
      "  Downloading ipykernel-4.6.1-py3-none-any.whl (104 kB)\n",
      "Collecting ipython~=5.5.0\n",
      "  Downloading ipython-5.5.0-py3-none-any.whl (758 kB)\n",
      "Collecting notebook~=5.2.0\n",
      "  Downloading notebook-5.2.2-py2.py3-none-any.whl (8.0 MB)\n",
      "Collecting six~=1.12.0\n",
      "  Using cached six-1.12.0-py2.py3-none-any.whl (10 kB)\n",
      "Collecting pandas~=0.24.0\n",
      "  Downloading pandas-0.24.2.tar.gz (11.8 MB)\n",
      "Collecting portpicker~=1.2.0\n",
      "  Downloading portpicker-1.2.0.tar.gz (17 kB)\n",
      "Collecting requests~=2.21.0\n",
      "  Using cached requests-2.21.0-py2.py3-none-any.whl (57 kB)\n",
      "Collecting tornado~=4.5.0\n",
      "  Downloading tornado-4.5.3.tar.gz (484 kB)\n",
      "Requirement already satisfied: rsa>=3.1.4 in c:\\users\\anshu\\appdata\\local\\programs\\python\\python38\\lib\\site-packages (from google-auth~=1.4.0->google.colab) (4.6)\n",
      "Requirement already satisfied: cachetools>=2.0.0 in c:\\users\\anshu\\appdata\\local\\programs\\python\\python38\\lib\\site-packages (from google-auth~=1.4.0->google.colab) (4.1.1)\n",
      "Requirement already satisfied: pyasn1-modules>=0.2.1 in c:\\users\\anshu\\appdata\\local\\programs\\python\\python38\\lib\\site-packages (from google-auth~=1.4.0->google.colab) (0.2.8)\n",
      "Requirement already satisfied: jupyter-client in c:\\users\\anshu\\appdata\\local\\programs\\python\\python38\\lib\\site-packages (from ipykernel~=4.6.0->google.colab) (6.1.7)\n",
      "Requirement already satisfied: traitlets>=4.1.0 in c:\\users\\anshu\\appdata\\local\\programs\\python\\python38\\lib\\site-packages (from ipykernel~=4.6.0->google.colab) (4.3.3)\n",
      "Requirement already satisfied: setuptools>=18.5 in c:\\users\\anshu\\appdata\\local\\programs\\python\\python38\\lib\\site-packages (from ipython~=5.5.0->google.colab) (47.1.0)\n",
      "Requirement already satisfied: decorator in c:\\users\\anshu\\appdata\\local\\programs\\python\\python38\\lib\\site-packages (from ipython~=5.5.0->google.colab) (4.4.2)\n",
      "Requirement already satisfied: pickleshare in c:\\users\\anshu\\appdata\\local\\programs\\python\\python38\\lib\\site-packages (from ipython~=5.5.0->google.colab) (0.7.5)\n",
      "Collecting simplegeneric>0.8\n",
      "  Downloading simplegeneric-0.8.1.zip (12 kB)\n",
      "Collecting prompt-toolkit<2.0.0,>=1.0.4\n",
      "  Downloading prompt_toolkit-1.0.18-py3-none-any.whl (245 kB)\n",
      "Requirement already satisfied: pygments in c:\\users\\anshu\\appdata\\local\\programs\\python\\python38\\lib\\site-packages (from ipython~=5.5.0->google.colab) (2.6.1)\n",
      "Requirement already satisfied: colorama; sys_platform == \"win32\" in c:\\users\\anshu\\appdata\\local\\programs\\python\\python38\\lib\\site-packages (from ipython~=5.5.0->google.colab) (0.4.3)\n",
      "Requirement already satisfied: nbformat in c:\\users\\anshu\\appdata\\local\\programs\\python\\python38\\lib\\site-packages (from notebook~=5.2.0->google.colab) (5.0.7)\n",
      "Requirement already satisfied: ipython-genutils in c:\\users\\anshu\\appdata\\local\\programs\\python\\python38\\lib\\site-packages (from notebook~=5.2.0->google.colab) (0.2.0)\n",
      "Requirement already satisfied: nbconvert in c:\\users\\anshu\\appdata\\local\\programs\\python\\python38\\lib\\site-packages (from notebook~=5.2.0->google.colab) (5.6.1)\n",
      "Requirement already satisfied: jinja2 in c:\\users\\anshu\\appdata\\local\\programs\\python\\python38\\lib\\site-packages (from notebook~=5.2.0->google.colab) (2.11.2)\n",
      "Requirement already satisfied: jupyter-core in c:\\users\\anshu\\appdata\\local\\programs\\python\\python38\\lib\\site-packages (from notebook~=5.2.0->google.colab) (4.6.3)\n",
      "Requirement already satisfied: python-dateutil>=2.5.0 in c:\\users\\anshu\\appdata\\local\\programs\\python\\python38\\lib\\site-packages (from pandas~=0.24.0->google.colab) (2.8.1)\n",
      "Requirement already satisfied: pytz>=2011k in c:\\users\\anshu\\appdata\\local\\programs\\python\\python38\\lib\\site-packages (from pandas~=0.24.0->google.colab) (2020.1)\n",
      "Requirement already satisfied: numpy>=1.12.0 in c:\\users\\anshu\\appdata\\local\\programs\\python\\python38\\lib\\site-packages (from pandas~=0.24.0->google.colab) (1.18.5)\n",
      "Collecting urllib3<1.25,>=1.21.1\n",
      "  Downloading urllib3-1.24.3-py2.py3-none-any.whl (118 kB)\n",
      "Collecting idna<2.9,>=2.5\n",
      "  Using cached idna-2.8-py2.py3-none-any.whl (58 kB)\n",
      "Requirement already satisfied: chardet<3.1.0,>=3.0.2 in c:\\users\\anshu\\appdata\\local\\programs\\python\\python38\\lib\\site-packages (from requests~=2.21.0->google.colab) (3.0.4)\n",
      "Requirement already satisfied: certifi>=2017.4.17 in c:\\users\\anshu\\appdata\\local\\programs\\python\\python38\\lib\\site-packages (from requests~=2.21.0->google.colab) (2020.6.20)\n",
      "Requirement already satisfied: pyasn1>=0.1.3 in c:\\users\\anshu\\appdata\\local\\programs\\python\\python38\\lib\\site-packages (from rsa>=3.1.4->google-auth~=1.4.0->google.colab) (0.4.8)\n",
      "Requirement already satisfied: pyzmq>=13 in c:\\users\\anshu\\appdata\\local\\programs\\python\\python38\\lib\\site-packages (from jupyter-client->ipykernel~=4.6.0->google.colab) (19.0.2)\n",
      "Requirement already satisfied: wcwidth in c:\\users\\anshu\\appdata\\local\\programs\\python\\python38\\lib\\site-packages (from prompt-toolkit<2.0.0,>=1.0.4->ipython~=5.5.0->google.colab) (0.2.5)\n",
      "Requirement already satisfied: jsonschema!=2.5.0,>=2.4 in c:\\users\\anshu\\appdata\\local\\programs\\python\\python38\\lib\\site-packages (from nbformat->notebook~=5.2.0->google.colab) (3.2.0)\n",
      "Requirement already satisfied: mistune<2,>=0.8.1 in c:\\users\\anshu\\appdata\\local\\programs\\python\\python38\\lib\\site-packages (from nbconvert->notebook~=5.2.0->google.colab) (0.8.4)\n",
      "Requirement already satisfied: pandocfilters>=1.4.1 in c:\\users\\anshu\\appdata\\local\\programs\\python\\python38\\lib\\site-packages (from nbconvert->notebook~=5.2.0->google.colab) (1.4.2)\n",
      "Requirement already satisfied: defusedxml in c:\\users\\anshu\\appdata\\local\\programs\\python\\python38\\lib\\site-packages (from nbconvert->notebook~=5.2.0->google.colab) (0.6.0)\n",
      "Requirement already satisfied: entrypoints>=0.2.2 in c:\\users\\anshu\\appdata\\local\\programs\\python\\python38\\lib\\site-packages (from nbconvert->notebook~=5.2.0->google.colab) (0.3)\n",
      "Requirement already satisfied: bleach in c:\\users\\anshu\\appdata\\local\\programs\\python\\python38\\lib\\site-packages (from nbconvert->notebook~=5.2.0->google.colab) (3.1.5)\n",
      "Requirement already satisfied: testpath in c:\\users\\anshu\\appdata\\local\\programs\\python\\python38\\lib\\site-packages (from nbconvert->notebook~=5.2.0->google.colab) (0.4.4)\n",
      "Requirement already satisfied: MarkupSafe>=0.23 in c:\\users\\anshu\\appdata\\local\\programs\\python\\python38\\lib\\site-packages (from jinja2->notebook~=5.2.0->google.colab) (1.1.1)\n",
      "Requirement already satisfied: pywin32>=1.0; sys_platform == \"win32\" in c:\\users\\anshu\\appdata\\local\\programs\\python\\python38\\lib\\site-packages (from jupyter-core->notebook~=5.2.0->google.colab) (228)\n"
     ]
    },
    {
     "name": "stderr",
     "output_type": "stream",
     "text": [
      "  ERROR: Command errored out with exit status 1:\n",
      "   command: 'c:\\users\\anshu\\appdata\\local\\programs\\python\\python38\\python.exe' -u -c 'import sys, setuptools, tokenize; sys.argv[0] = '\"'\"'C:\\\\Users\\\\anshu\\\\AppData\\\\Local\\\\Temp\\\\pip-install-9v6hbxc2\\\\pandas\\\\setup.py'\"'\"'; __file__='\"'\"'C:\\\\Users\\\\anshu\\\\AppData\\\\Local\\\\Temp\\\\pip-install-9v6hbxc2\\\\pandas\\\\setup.py'\"'\"';f=getattr(tokenize, '\"'\"'open'\"'\"', open)(__file__);code=f.read().replace('\"'\"'\\r\\n'\"'\"', '\"'\"'\\n'\"'\"');f.close();exec(compile(code, __file__, '\"'\"'exec'\"'\"'))' bdist_wheel -d 'C:\\Users\\anshu\\AppData\\Local\\Temp\\pip-wheel-ypv_20u4'\n",
      "       cwd: C:\\Users\\anshu\\AppData\\Local\\Temp\\pip-install-9v6hbxc2\\pandas\\\n",
      "  Complete output (841 lines):\n",
      "  running bdist_wheel\n",
      "  running build\n",
      "  running build_py\n",
      "  creating build\n",
      "  creating build\\lib.win-amd64-3.8\n",
      "  creating build\\lib.win-amd64-3.8\\pandas\n",
      "  copying pandas\\conftest.py -> build\\lib.win-amd64-3.8\\pandas\n",
      "  copying pandas\\testing.py -> build\\lib.win-amd64-3.8\\pandas\n",
      "  copying pandas\\_version.py -> build\\lib.win-amd64-3.8\\pandas\n",
      "  copying pandas\\__init__.py -> build\\lib.win-amd64-3.8\\pandas\n",
      "  creating build\\lib.win-amd64-3.8\\pandas\\api\n",
      "  copying pandas\\api\\__init__.py -> build\\lib.win-amd64-3.8\\pandas\\api\n",
      "  creating build\\lib.win-amd64-3.8\\pandas\\arrays\n",
      "  copying pandas\\arrays\\__init__.py -> build\\lib.win-amd64-3.8\\pandas\\arrays\n",
      "  creating build\\lib.win-amd64-3.8\\pandas\\compat\n",
      "  copying pandas\\compat\\chainmap.py -> build\\lib.win-amd64-3.8\\pandas\\compat\n",
      "  copying pandas\\compat\\chainmap_impl.py -> build\\lib.win-amd64-3.8\\pandas\\compat\n",
      "  copying pandas\\compat\\pickle_compat.py -> build\\lib.win-amd64-3.8\\pandas\\compat\n",
      "  copying pandas\\compat\\__init__.py -> build\\lib.win-amd64-3.8\\pandas\\compat\n",
      "  creating build\\lib.win-amd64-3.8\\pandas\\core\n",
      "  copying pandas\\core\\accessor.py -> build\\lib.win-amd64-3.8\\pandas\\core\n",
      "  copying pandas\\core\\algorithms.py -> build\\lib.win-amd64-3.8\\pandas\\core\n",
      "  copying pandas\\core\\api.py -> build\\lib.win-amd64-3.8\\pandas\\core\n",
      "  copying pandas\\core\\apply.py -> build\\lib.win-amd64-3.8\\pandas\\core\n",
      "  copying pandas\\core\\base.py -> build\\lib.win-amd64-3.8\\pandas\\core\n",
      "  copying pandas\\core\\categorical.py -> build\\lib.win-amd64-3.8\\pandas\\core\n",
      "  copying pandas\\core\\common.py -> build\\lib.win-amd64-3.8\\pandas\\core\n",
      "  copying pandas\\core\\config.py -> build\\lib.win-amd64-3.8\\pandas\\core\n",
      "  copying pandas\\core\\config_init.py -> build\\lib.win-amd64-3.8\\pandas\\core\n",
      "  copying pandas\\core\\frame.py -> build\\lib.win-amd64-3.8\\pandas\\core\n",
      "  copying pandas\\core\\generic.py -> build\\lib.win-amd64-3.8\\pandas\\core\n",
      "  copying pandas\\core\\index.py -> build\\lib.win-amd64-3.8\\pandas\\core\n",
      "  copying pandas\\core\\indexing.py -> build\\lib.win-amd64-3.8\\pandas\\core\n",
      "  copying pandas\\core\\missing.py -> build\\lib.win-amd64-3.8\\pandas\\core\n",
      "  copying pandas\\core\\nanops.py -> build\\lib.win-amd64-3.8\\pandas\\core\n",
      "  copying pandas\\core\\ops.py -> build\\lib.win-amd64-3.8\\pandas\\core\n",
      "  copying pandas\\core\\panel.py -> build\\lib.win-amd64-3.8\\pandas\\core\n",
      "  copying pandas\\core\\resample.py -> build\\lib.win-amd64-3.8\\pandas\\core\n",
      "  copying pandas\\core\\series.py -> build\\lib.win-amd64-3.8\\pandas\\core\n",
      "  copying pandas\\core\\sorting.py -> build\\lib.win-amd64-3.8\\pandas\\core\n",
      "  copying pandas\\core\\strings.py -> build\\lib.win-amd64-3.8\\pandas\\core\n",
      "  copying pandas\\core\\window.py -> build\\lib.win-amd64-3.8\\pandas\\core\n",
      "  copying pandas\\core\\__init__.py -> build\\lib.win-amd64-3.8\\pandas\\core\n"
     ]
    },
    {
     "ename": "ModuleNotFoundError",
     "evalue": "No module named 'google.colab'",
     "output_type": "error",
     "traceback": [
      "\u001b[1;31m---------------------------------------------------------------------------\u001b[0m",
      "\u001b[1;31mModuleNotFoundError\u001b[0m                       Traceback (most recent call last)",
      "\u001b[1;32m<ipython-input-32-1eafcd16ec0d>\u001b[0m in \u001b[0;36m<module>\u001b[1;34m\u001b[0m\n\u001b[0;32m      1\u001b[0m \u001b[0mget_ipython\u001b[0m\u001b[1;33m(\u001b[0m\u001b[1;33m)\u001b[0m\u001b[1;33m.\u001b[0m\u001b[0msystem\u001b[0m\u001b[1;33m(\u001b[0m\u001b[1;34m'pip install google.colab'\u001b[0m\u001b[1;33m)\u001b[0m\u001b[1;33m\u001b[0m\u001b[1;33m\u001b[0m\u001b[0m\n\u001b[1;32m----> 2\u001b[1;33m \u001b[1;32mfrom\u001b[0m \u001b[0mgoogle\u001b[0m\u001b[1;33m.\u001b[0m\u001b[0mcolab\u001b[0m \u001b[1;32mimport\u001b[0m \u001b[0mdrive\u001b[0m\u001b[1;33m\u001b[0m\u001b[1;33m\u001b[0m\u001b[0m\n\u001b[0m",
      "\u001b[1;31mModuleNotFoundError\u001b[0m: No module named 'google.colab'"
     ]
    },
    {
     "name": "stdout",
     "output_type": "stream",
     "text": [
      "Requirement already satisfied: pyrsistent>=0.14.0 in c:\\users\\anshu\\appdata\\local\\programs\\python\\python38\\lib\\site-packages (from jsonschema!=2.5.0,>=2.4->nbformat->notebook~=5.2.0->google.colab) (0.16.0)\n",
      "Requirement already satisfied: attrs>=17.4.0 in c:\\users\\anshu\\appdata\\local\\programs\\python\\python38\\lib\\site-packages (from jsonschema!=2.5.0,>=2.4->nbformat->notebook~=5.2.0->google.colab) (20.1.0)\n",
      "Requirement already satisfied: webencodings in c:\\users\\anshu\\appdata\\local\\programs\\python\\python38\\lib\\site-packages (from bleach->nbconvert->notebook~=5.2.0->google.colab) (0.5.1)\n",
      "Requirement already satisfied: packaging in c:\\users\\anshu\\appdata\\local\\programs\\python\\python38\\lib\\site-packages (from bleach->nbconvert->notebook~=5.2.0->google.colab) (20.4)\n",
      "Requirement already satisfied: pyparsing>=2.0.2 in c:\\users\\anshu\\appdata\\local\\programs\\python\\python38\\lib\\site-packages (from packaging->bleach->nbconvert->notebook~=5.2.0->google.colab) (2.4.7)\n",
      "Building wheels for collected packages: google.colab, pandas, portpicker, tornado, simplegeneric\n",
      "  Building wheel for google.colab (setup.py): started\n",
      "  Building wheel for google.colab (setup.py): finished with status 'done'\n",
      "  Created wheel for google.colab: filename=google_colab-1.0.0-py2.py3-none-any.whl size=102298 sha256=4ce2350788e810209160f77ba9a281f75d7d009d9b2239e2ee8c3106de0c43a8\n",
      "  Stored in directory: c:\\users\\anshu\\appdata\\local\\pip\\cache\\wheels\\e4\\e7\\91\\b2736701bca00e273fdc79f80e2727b558e0903d81b758eb69\n",
      "  Building wheel for pandas (setup.py): started\n",
      "  Building wheel for pandas (setup.py): finished with status 'error'\n",
      "  Running setup.py clean for pandas\n",
      "  Building wheel for portpicker (setup.py): started"
     ]
    },
    {
     "name": "stderr",
     "output_type": "stream",
     "text": [
      "  creating build\\lib.win-amd64-3.8\\pandas\\errors\n",
      "  copying pandas\\errors\\__init__.py -> build\\lib.win-amd64-3.8\\pandas\\errors\n",
      "  creating build\\lib.win-amd64-3.8\\pandas\\io\n",
      "  copying pandas\\io\\api.py -> build\\lib.win-amd64-3.8\\pandas\\io"
     ]
    },
    {
     "name": "stdout",
     "output_type": "stream",
     "text": [
      "\n",
      "  Building wheel for portpicker (setup.py): finished with status 'done'\n",
      "  Created wheel for portpicker: filename=portpicker-1.2.0-py3-none-any.whl size=13371 sha256=9e3cfa7706d759afe3f630b38201cdbf4e7c735c5cde71c7c57788746995c9eb\n",
      "  Stored in directory: c:\\users\\anshu\\appdata\\local\\pip\\cache\\wheels\\b9\\10\\77\\cad2fb4f8ab57cc7cecb92b9b1b0548ac932b8f81774003683\n",
      "  Building wheel for tornado (setup.py): started\n",
      "  Building wheel for tornado (setup.py): finished with status 'done'\n",
      "  Created wheel for tornado: filename=tornado-4.5.3-cp38-cp38-win_amd64.whl size=420777 sha256=bdc6c2988d459e98be6b983ab25461e84e0c1368d75035cf0c67b6eba8a65982\n",
      "  Stored in directory: c:\\users\\anshu\\appdata\\local\\pip\\cache\\wheels\\20\\fe\\26\\0c03adccd0cec2744261ec6b8380fbe5e726d1ea4cf3a9370e\n",
      "  Building wheel for simplegeneric (setup.py): started\n",
      "  Building wheel for simplegeneric (setup.py): finished with status 'done'\n",
      "  Created wheel for simplegeneric: filename=simplegeneric-0.8.1-py3-none-any.whl size=5078 sha256=d2b81f3e81817325d7b25f81455a81e7974e6abd66ac48fee8f667a2ece6ad46\n",
      "  Stored in directory: c:\\users\\anshu\\appdata\\local\\pip\\cache\\wheels\\0b\\32\\6b\\5f5447909a062da20dfe432fa945d8f98636692637deccaa8a\n",
      "Successfully built google.colab portpicker tornado simplegeneric\n",
      "Failed to build pandas\n",
      "Installing collected packages: six, google-auth, tornado, simplegeneric, prompt-toolkit, ipython, ipykernel, notebook, pandas, portpicker, urllib3, idna, requests, google.colab\n",
      "  Attempting uninstall: six\n",
      "    Found existing installation: six 1.15.0\n",
      "    Uninstalling six-1.15.0:\n",
      "      Successfully uninstalled six-1.15.0\n",
      "  Attempting uninstall: google-auth\n",
      "    Found existing installation: google-auth 1.21.1\n",
      "    Uninstalling google-auth-1.21.1:\n",
      "      Successfully uninstalled google-auth-1.21.1\n",
      "  Attempting uninstall: tornado\n",
      "    Found existing installation: tornado 6.0.4\n",
      "    Uninstalling tornado-6.0.4:\n",
      "      Successfully uninstalled tornado-6.0.4\n"
     ]
    },
    {
     "name": "stderr",
     "output_type": "stream",
     "text": [
      "\n",
      "  copying pandas\\io\\clipboards.py -> build\\lib.win-amd64-3.8\\pandas\\io\n",
      "  copying pandas\\io\\common.py -> build\\lib.win-amd64-3.8\\pandas\\io\n",
      "  copying pandas\\io\\date_converters.py -> build\\lib.win-amd64-3.8\\pandas\\io\n",
      "  copying pandas\\io\\excel.py -> build\\lib.win-amd64-3.8\\pandas\\io\n",
      "  copying pandas\\io\\feather_format.py -> build\\lib.win-amd64-3.8\\pandas\\io\n",
      "  copying pandas\\io\\gbq.py -> build\\lib.win-amd64-3.8\\pandas\\io\n",
      "  copying pandas\\io\\gcs.py -> build\\lib.win-amd64-3.8\\pandas\\io\n",
      "  copying pandas\\io\\html.py -> build\\lib.win-amd64-3.8\\pandas\\io\n",
      "  copying pandas\\io\\packers.py -> build\\lib.win-amd64-3.8\\pandas\\io\n",
      "  copying pandas\\io\\parquet.py -> build\\lib.win-amd64-3.8\\pandas\\io\n",
      "  copying pandas\\io\\parsers.py -> build\\lib.win-amd64-3.8\\pandas\\io\n",
      "  copying pandas\\io\\pickle.py -> build\\lib.win-amd64-3.8\\pandas\\io\n",
      "  copying pandas\\io\\pytables.py -> build\\lib.win-amd64-3.8\\pandas\\io\n",
      "  copying pandas\\io\\s3.py -> build\\lib.win-amd64-3.8\\pandas\\io\n",
      "  copying pandas\\io\\sql.py -> build\\lib.win-amd64-3.8\\pandas\\io\n",
      "  copying pandas\\io\\stata.py -> build\\lib.win-amd64-3.8\\pandas\\io\n",
      "  copying pandas\\io\\__init__.py -> build\\lib.win-amd64-3.8\\pandas\\io\n",
      "  creating build\\lib.win-amd64-3.8\\pandas\\plotting\n",
      "  copying pandas\\plotting\\_compat.py -> build\\lib.win-amd64-3.8\\pandas\\plotting\n",
      "  copying pandas\\plotting\\_converter.py -> build\\lib.win-amd64-3.8\\pandas\\plotting\n",
      "  copying pandas\\plotting\\_core.py -> build\\lib.win-amd64-3.8\\pandas\\plotting\n",
      "  copying pandas\\plotting\\_misc.py -> build\\lib.win-amd64-3.8\\pandas\\plotting\n",
      "  copying pandas\\plotting\\_style.py -> build\\lib.win-amd64-3.8\\pandas\\plotting\n",
      "  copying pandas\\plotting\\_timeseries.py -> build\\lib.win-amd64-3.8\\pandas\\plotting\n",
      "  copying pandas\\plotting\\_tools.py -> build\\lib.win-amd64-3.8\\pandas\\plotting\n",
      "  copying pandas\\plotting\\__init__.py -> build\\lib.win-amd64-3.8\\pandas\\plotting\n",
      "  creating build\\lib.win-amd64-3.8\\pandas\\tests\n",
      "  copying pandas\\tests\\test_algos.py -> build\\lib.win-amd64-3.8\\pandas\\tests\n",
      "  copying pandas\\tests\\test_base.py -> build\\lib.win-amd64-3.8\\pandas\\tests\n",
      "  copying pandas\\tests\\test_common.py -> build\\lib.win-amd64-3.8\\pandas\\tests\n",
      "  copying pandas\\tests\\test_compat.py -> build\\lib.win-amd64-3.8\\pandas\\tests\n",
      "  copying pandas\\tests\\test_config.py -> build\\lib.win-amd64-3.8\\pandas\\tests\n",
      "  copying pandas\\tests\\test_downstream.py -> build\\lib.win-amd64-3.8\\pandas\\tests\n",
      "  copying pandas\\tests\\test_errors.py -> build\\lib.win-amd64-3.8\\pandas\\tests\n",
      "  copying pandas\\tests\\test_expressions.py -> build\\lib.win-amd64-3.8\\pandas\\tests\n",
      "  copying pandas\\tests\\test_join.py -> build\\lib.win-amd64-3.8\\pandas\\tests\n",
      "  copying pandas\\tests\\test_lib.py -> build\\lib.win-amd64-3.8\\pandas\\tests\n",
      "  copying pandas\\tests\\test_multilevel.py -> build\\lib.win-amd64-3.8\\pandas\\tests\n",
      "  copying pandas\\tests\\test_nanops.py -> build\\lib.win-amd64-3.8\\pandas\\tests\n",
      "  copying pandas\\tests\\test_panel.py -> build\\lib.win-amd64-3.8\\pandas\\tests\n",
      "  copying pandas\\tests\\test_register_accessor.py -> build\\lib.win-amd64-3.8\\pandas\\tests\n",
      "  copying pandas\\tests\\test_sorting.py -> build\\lib.win-amd64-3.8\\pandas\\tests\n",
      "  copying pandas\\tests\\test_strings.py -> build\\lib.win-amd64-3.8\\pandas\\tests\n",
      "  copying pandas\\tests\\test_take.py -> build\\lib.win-amd64-3.8\\pandas\\tests\n",
      "  copying pandas\\tests\\test_window.py -> build\\lib.win-amd64-3.8\\pandas\\tests\n",
      "  copying pandas\\tests\\__init__.py -> build\\lib.win-amd64-3.8\\pandas\\tests"
     ]
    }
   ],
   "source": [
    "!pip install google.colab\n",
    "from google.colab import drive"
   ]
  },
  {
   "cell_type": "code",
   "execution_count": null,
   "metadata": {
    "colab": {
     "base_uri": "https://localhost:8080/",
     "height": 34
    },
    "id": "pKJeShNUmTIQ",
    "outputId": "0dc647ae-b54b-4222-b53e-89cfc0e389c8"
   },
   "outputs": [],
   "source": [
    "drive.mount(\"/content/drive\")"
   ]
  },
  {
   "cell_type": "code",
   "execution_count": null,
   "metadata": {
    "colab": {
     "base_uri": "https://localhost:8080/",
     "height": 34
    },
    "id": "uEvbigHsmd81",
    "outputId": "c9bccf9b-e974-43fe-a324-5537d2eea775"
   },
   "outputs": [],
   "source": [
    "ls"
   ]
  },
  {
   "cell_type": "code",
   "execution_count": null,
   "metadata": {
    "colab": {
     "base_uri": "https://localhost:8080/",
     "height": 34
    },
    "id": "Fbbebu9WmruB",
    "outputId": "3a2da2c0-9768-4c0c-ea5d-056e0a395213"
   },
   "outputs": [],
   "source": [
    "cd drive/"
   ]
  },
  {
   "cell_type": "code",
   "execution_count": null,
   "metadata": {
    "colab": {
     "base_uri": "https://localhost:8080/",
     "height": 34
    },
    "id": "DCGdFMx5mvwZ",
    "outputId": "40bc0e5b-0330-4b51-f529-6c567c2e0eae"
   },
   "outputs": [],
   "source": [
    "ls"
   ]
  },
  {
   "cell_type": "code",
   "execution_count": null,
   "metadata": {
    "colab": {
     "base_uri": "https://localhost:8080/",
     "height": 34
    },
    "id": "efJZ8bSlmw5v",
    "outputId": "6fe6abc4-91d9-473f-b06b-8021052da9b9"
   },
   "outputs": [],
   "source": [
    "cd My\\ Drive/"
   ]
  },
  {
   "cell_type": "code",
   "execution_count": null,
   "metadata": {
    "id": "fEy0PDlJmzA7"
   },
   "outputs": [],
   "source": [
    "model.save(\"mnist_with_dropout.hdf5\")"
   ]
  },
  {
   "cell_type": "code",
   "execution_count": null,
   "metadata": {
    "id": "Rrg049Rkm03R"
   },
   "outputs": [],
   "source": [
    "from tensorflow.keras.models import load_model"
   ]
  },
  {
   "cell_type": "code",
   "execution_count": null,
   "metadata": {
    "id": "-DGRhL_Yn2O7"
   },
   "outputs": [],
   "source": [
    "model = load_model(\"mnist_with_dropout.h5\")"
   ]
  },
  {
   "cell_type": "code",
   "execution_count": null,
   "metadata": {
    "colab": {
     "base_uri": "https://localhost:8080/",
     "height": 34
    },
    "id": "tJiVs1WOoJwG",
    "outputId": "718beb10-3013-4791-a99a-d02f75b47beb"
   },
   "outputs": [],
   "source": [
    "model.predict_classes(testX[0:1])"
   ]
  },
  {
   "cell_type": "code",
   "execution_count": null,
   "metadata": {
    "colab": {
     "base_uri": "https://localhost:8080/",
     "height": 34
    },
    "id": "TmvYC6jloKxi",
    "outputId": "01028122-4d39-49f7-a6dd-af377416ed8e"
   },
   "outputs": [
    {
     "name": "stderr",
     "output_type": "stream",
     "text": [
      "\n",
      "  creating build\\lib.win-amd64-3.8\\pandas\\tseries\n",
      "  copying pandas\\tseries\\api.py -> build\\lib.win-amd64-3.8\\pandas\\tseries\n",
      "  copying pandas\\tseries\\converter.py -> build\\lib.win-amd64-3.8\\pandas\\tseries\n",
      "  copying pandas\\tseries\\frequencies.py -> build\\lib.win-amd64-3.8\\pandas\\tseries\n",
      "  copying pandas\\tseries\\holiday.py -> build\\lib.win-amd64-3.8\\pandas\\tseries\n",
      "  copying pandas\\tseries\\offsets.py -> build\\lib.win-amd64-3.8\\pandas\\tseries\n",
      "  copying pandas\\tseries\\plotting.py -> build\\lib.win-amd64-3.8\\pandas\\tseries\n",
      "  copying pandas\\tseries\\__init__.py -> build\\lib.win-amd64-3.8\\pandas\\tseries\n",
      "  creating build\\lib.win-amd64-3.8\\pandas\\util\n",
      "  copying pandas\\util\\testing.py -> build\\lib.win-amd64-3.8\\pandas\\util\n",
      "  copying pandas\\util\\_decorators.py -> build\\lib.win-amd64-3.8\\pandas\\util\n",
      "  copying pandas\\util\\_depr_module.py -> build\\lib.win-amd64-3.8\\pandas\\util\n",
      "  copying pandas\\util\\_doctools.py -> build\\lib.win-amd64-3.8\\pandas\\util\n",
      "  copying pandas\\util\\_exceptions.py -> build\\lib.win-amd64-3.8\\pandas\\util\n",
      "  copying pandas\\util\\_print_versions.py -> build\\lib.win-amd64-3.8\\pandas\\util\n",
      "  copying pandas\\util\\_tester.py -> build\\lib.win-amd64-3.8\\pandas\\util\n",
      "  copying pandas\\util\\_test_decorators.py -> build\\lib.win-amd64-3.8\\pandas\\util\n",
      "  copying pandas\\util\\_validators.py -> build\\lib.win-amd64-3.8\\pandas\\util\n",
      "  copying pandas\\util\\__init__.py -> build\\lib.win-amd64-3.8\\pandas\\util\n",
      "  creating build\\lib.win-amd64-3.8\\pandas\\_libs\n",
      "  copying pandas\\_libs\\__init__.py -> build\\lib.win-amd64-3.8\\pandas\\_libs\n",
      "  creating build\\lib.win-amd64-3.8\\pandas\\api\\extensions\n",
      "  copying pandas\\api\\extensions\\__init__.py -> build\\lib.win-amd64-3.8\\pandas\\api\\extensions\n",
      "  creating build\\lib.win-amd64-3.8\\pandas\\api\\types\n",
      "  copying pandas\\api\\types\\__init__.py -> build\\lib.win-amd64-3.8\\pandas\\api\\types\n",
      "  creating build\\lib.win-amd64-3.8\\pandas\\compat\\numpy\n",
      "  copying pandas\\compat\\numpy\\function.py -> build\\lib.win-amd64-3.8\\pandas\\compat\\numpy\n",
      "  copying pandas\\compat\\numpy\\__init__.py -> build\\lib.win-amd64-3.8\\pandas\\compat\\numpy\n",
      "  creating build\\lib.win-amd64-3.8\\pandas\\core\\arrays\n",
      "  copying pandas\\core\\arrays\\array_.py -> build\\lib.win-amd64-3.8\\pandas\\core\\arrays\n",
      "  copying pandas\\core\\arrays\\base.py -> build\\lib.win-amd64-3.8\\pandas\\core\\arrays\n",
      "  copying pandas\\core\\arrays\\categorical.py -> build\\lib.win-amd64-3.8\\pandas\\core\\arrays\n",
      "  copying pandas\\core\\arrays\\datetimelike.py -> build\\lib.win-amd64-3.8\\pandas\\core\\arrays\n",
      "  copying pandas\\core\\arrays\\datetimes.py -> build\\lib.win-amd64-3.8\\pandas\\core\\arrays\n",
      "  copying pandas\\core\\arrays\\integer.py -> build\\lib.win-amd64-3.8\\pandas\\core\\arrays\n",
      "  copying pandas\\core\\arrays\\interval.py -> build\\lib.win-amd64-3.8\\pandas\\core\\arrays\n",
      "  copying pandas\\core\\arrays\\numpy_.py -> build\\lib.win-amd64-3.8\\pandas\\core\\arrays\n",
      "  copying pandas\\core\\arrays\\period.py -> build\\lib.win-amd64-3.8\\pandas\\core\\arrays\n",
      "  copying pandas\\core\\arrays\\sparse.py -> build\\lib.win-amd64-3.8\\pandas\\core\\arrays\n",
      "  copying pandas\\core\\arrays\\timedeltas.py -> build\\lib.win-amd64-3.8\\pandas\\core\\arrays\n",
      "  copying pandas\\core\\arrays\\_ranges.py -> build\\lib.win-amd64-3.8\\pandas\\core\\arrays\n",
      "  copying pandas\\core\\arrays\\__init__.py -> build\\lib.win-amd64-3.8\\pandas\\core\\arrays\n",
      "  creating build\\lib.win-amd64-3.8\\pandas\\core\\computation\n",
      "  copying pandas\\core\\computation\\align.py -> build\\lib.win-amd64-3.8\\pandas\\core\\computation\n",
      "  copying pandas\\core\\computation\\api.py -> build\\lib.win-amd64-3.8\\pandas\\core\\computation\n",
      "  copying pandas\\core\\computation\\check.py -> build\\lib.win-amd64-3.8\\pandas\\core\\computation\n",
      "  copying pandas\\core\\computation\\common.py -> build\\lib.win-amd64-3.8\\pandas\\core\\computation\n",
      "  copying pandas\\core\\computation\\engines.py -> build\\lib.win-amd64-3.8\\pandas\\core\\computation\n",
      "  copying pandas\\core\\computation\\eval.py -> build\\lib.win-amd64-3.8\\pandas\\core\\computation\n",
      "  copying pandas\\core\\computation\\expr.py -> build\\lib.win-amd64-3.8\\pandas\\core\\computation\n",
      "  copying pandas\\core\\computation\\expressions.py -> build\\lib.win-amd64-3.8\\pandas\\core\\computation\n",
      "  copying pandas\\core\\computation\\ops.py -> build\\lib.win-amd64-3.8\\pandas\\core\\computation\n",
      "  copying pandas\\core\\computation\\pytables.py -> build\\lib.win-amd64-3.8\\pandas\\core\\computation\n",
      "  copying pandas\\core\\computation\\scope.py -> build\\lib.win-amd64-3.8\\pandas\\core\\computation\n",
      "  copying pandas\\core\\computation\\__init__.py -> build\\lib.win-amd64-3.8\\pandas\\core\\computation\n",
      "  creating build\\lib.win-amd64-3.8\\pandas\\core\\dtypes\n",
      "  copying pandas\\core\\dtypes\\api.py -> build\\lib.win-amd64-3.8\\pandas\\core\\dtypes\n",
      "  copying pandas\\core\\dtypes\\base.py -> build\\lib.win-amd64-3.8\\pandas\\core\\dtypes\n",
      "  copying pandas\\core\\dtypes\\cast.py -> build\\lib.win-amd64-3.8\\pandas\\core\\dtypes\n",
      "  copying pandas\\core\\dtypes\\common.py -> build\\lib.win-amd64-3.8\\pandas\\core\\dtypes\n",
      "  copying pandas\\core\\dtypes\\concat.py -> build\\lib.win-amd64-3.8\\pandas\\core\\dtypes\n",
      "  copying pandas\\core\\dtypes\\dtypes.py -> build\\lib.win-amd64-3.8\\pandas\\core\\dtypes\n",
      "  copying pandas\\core\\dtypes\\generic.py -> build\\lib.win-amd64-3.8\\pandas\\core\\dtypes\n",
      "  copying pandas\\core\\dtypes\\inference.py -> build\\lib.win-amd64-3.8\\pandas\\core\\dtypes\n",
      "  copying pandas\\core\\dtypes\\missing.py -> build\\lib.win-amd64-3.8\\pandas\\core\\dtypes\n",
      "  copying pandas\\core\\dtypes\\__init__.py -> build\\lib.win-amd64-3.8\\pandas\\core\\dtypes\n",
      "  creating build\\lib.win-amd64-3.8\\pandas\\core\\groupby\n",
      "  copying pandas\\core\\groupby\\base.py -> build\\lib.win-amd64-3.8\\pandas\\core\\groupby\n",
      "  copying pandas\\core\\groupby\\categorical.py -> build\\lib.win-amd64-3.8\\pandas\\core\\groupby\n",
      "  copying pandas\\core\\groupby\\generic.py -> build\\lib.win-amd64-3.8\\pandas\\core\\groupby\n",
      "  copying pandas\\core\\groupby\\groupby.py -> build\\lib.win-amd64-3.8\\pandas\\core\\groupby\n",
      "  copying pandas\\core\\groupby\\grouper.py -> build\\lib.win-amd64-3.8\\pandas\\core\\groupby\n",
      "  copying pandas\\core\\groupby\\ops.py -> build\\lib.win-amd64-3.8\\pandas\\core\\groupby\n",
      "  copying pandas\\core\\groupby\\__init__.py -> build\\lib.win-amd64-3.8\\pandas\\core\\groupby\n",
      "  creating build\\lib.win-amd64-3.8\\pandas\\core\\indexes\n",
      "  copying pandas\\core\\indexes\\accessors.py -> build\\lib.win-amd64-3.8\\pandas\\core\\indexes\n",
      "  copying pandas\\core\\indexes\\api.py -> build\\lib.win-amd64-3.8\\pandas\\core\\indexes\n",
      "  copying pandas\\core\\indexes\\base.py -> build\\lib.win-amd64-3.8\\pandas\\core\\indexes\n",
      "  copying pandas\\core\\indexes\\category.py -> build\\lib.win-amd64-3.8\\pandas\\core\\indexes\n",
      "  copying pandas\\core\\indexes\\datetimelike.py -> build\\lib.win-amd64-3.8\\pandas\\core\\indexes\n",
      "  copying pandas\\core\\indexes\\datetimes.py -> build\\lib.win-amd64-3.8\\pandas\\core\\indexes\n",
      "  copying pandas\\core\\indexes\\frozen.py -> build\\lib.win-amd64-3.8\\pandas\\core\\indexes\n",
      "  copying pandas\\core\\indexes\\interval.py -> build\\lib.win-amd64-3.8\\pandas\\core\\indexes\n",
      "  copying pandas\\core\\indexes\\multi.py -> build\\lib.win-amd64-3.8\\pandas\\core\\indexes\n",
      "  copying pandas\\core\\indexes\\numeric.py -> build\\lib.win-amd64-3.8\\pandas\\core\\indexes\n",
      "  copying pandas\\core\\indexes\\period.py -> build\\lib.win-amd64-3.8\\pandas\\core\\indexes\n",
      "  copying pandas\\core\\indexes\\range.py -> build\\lib.win-amd64-3.8\\pandas\\core\\indexes\n",
      "  copying pandas\\core\\indexes\\timedeltas.py -> build\\lib.win-amd64-3.8\\pandas\\core\\indexes\n",
      "  copying pandas\\core\\indexes\\__init__.py -> build\\lib.win-amd64-3.8\\pandas\\core\\indexes\n",
      "  creating build\\lib.win-amd64-3.8\\pandas\\core\\internals\n",
      "  copying pandas\\core\\internals\\arrays.py -> build\\lib.win-amd64-3.8\\pandas\\core\\internals\n",
      "  copying pandas\\core\\internals\\blocks.py -> build\\lib.win-amd64-3.8\\pandas\\core\\internals\n",
      "  copying pandas\\core\\internals\\concat.py -> build\\lib.win-amd64-3.8\\pandas\\core\\internals\n",
      "  copying pandas\\core\\internals\\construction.py -> build\\lib.win-amd64-3.8\\pandas\\core\\internals\n",
      "  copying pandas\\core\\internals\\managers.py -> build\\lib.win-amd64-3.8\\pandas\\core\\internals\n",
      "  copying pandas\\core\\internals\\__init__.py -> build\\lib.win-amd64-3.8\\pandas\\core\\internals\n",
      "  creating build\\lib.win-amd64-3.8\\pandas\\core\\reshape\n",
      "  copying pandas\\core\\reshape\\api.py -> build\\lib.win-amd64-3.8\\pandas\\core\\reshape\n",
      "  copying pandas\\core\\reshape\\concat.py -> build\\lib.win-amd64-3.8\\pandas\\core\\reshape\n",
      "  copying pandas\\core\\reshape\\melt.py -> build\\lib.win-amd64-3.8\\pandas\\core\\reshape\n",
      "  copying pandas\\core\\reshape\\merge.py -> build\\lib.win-amd64-3.8\\pandas\\core\\reshape\n",
      "  copying pandas\\core\\reshape\\pivot.py -> build\\lib.win-amd64-3.8\\pandas\\core\\reshape\n",
      "  copying pandas\\core\\reshape\\reshape.py -> build\\lib.win-amd64-3.8\\pandas\\core\\reshape\n",
      "  copying pandas\\core\\reshape\\tile.py -> build\\lib.win-amd64-3.8\\pandas\\core\\reshape\n",
      "  copying pandas\\core\\reshape\\util.py -> build\\lib.win-amd64-3.8\\pandas\\core\\reshape\n",
      "  copying pandas\\core\\reshape\\__init__.py -> build\\lib.win-amd64-3.8\\pandas\\core\\reshape\n",
      "  creating build\\lib.win-amd64-3.8\\pandas\\core\\sparse\n",
      "  copying pandas\\core\\sparse\\api.py -> build\\lib.win-amd64-3.8\\pandas\\core\\sparse\n",
      "  copying pandas\\core\\sparse\\frame.py -> build\\lib.win-amd64-3.8\\pandas\\core\\sparse\n",
      "  copying pandas\\core\\sparse\\scipy_sparse.py -> build\\lib.win-amd64-3.8\\pandas\\core\\sparse\n",
      "  copying pandas\\core\\sparse\\series.py -> build\\lib.win-amd64-3.8\\pandas\\core\\sparse\n",
      "  copying pandas\\core\\sparse\\__init__.py -> build\\lib.win-amd64-3.8\\pandas\\core\\sparse\n",
      "  creating build\\lib.win-amd64-3.8\\pandas\\core\\tools\n",
      "  copying pandas\\core\\tools\\datetimes.py -> build\\lib.win-amd64-3.8\\pandas\\core\\tools\n",
      "  copying pandas\\core\\tools\\numeric.py -> build\\lib.win-amd64-3.8\\pandas\\core\\tools\n",
      "  copying pandas\\core\\tools\\timedeltas.py -> build\\lib.win-amd64-3.8\\pandas\\core\\tools\n",
      "  copying pandas\\core\\tools\\__init__.py -> build\\lib.win-amd64-3.8\\pandas\\core\\tools\n",
      "  creating build\\lib.win-amd64-3.8\\pandas\\core\\util\n",
      "  copying pandas\\core\\util\\hashing.py -> build\\lib.win-amd64-3.8\\pandas\\core\\util\n",
      "  copying pandas\\core\\util\\__init__.py -> build\\lib.win-amd64-3.8\\pandas\\core\\util\n",
      "  creating build\\lib.win-amd64-3.8\\pandas\\io\\clipboard\n",
      "  copying pandas\\io\\clipboard\\clipboards.py -> build\\lib.win-amd64-3.8\\pandas\\io\\clipboard\n",
      "  copying pandas\\io\\clipboard\\exceptions.py -> build\\lib.win-amd64-3.8\\pandas\\io\\clipboard\n",
      "  copying pandas\\io\\clipboard\\windows.py -> build\\lib.win-amd64-3.8\\pandas\\io\\clipboard\n",
      "  copying pandas\\io\\clipboard\\__init__.py -> build\\lib.win-amd64-3.8\\pandas\\io\\clipboard\n",
      "  creating build\\lib.win-amd64-3.8\\pandas\\io\\formats\n",
      "  copying pandas\\io\\formats\\console.py -> build\\lib.win-amd64-3.8\\pandas\\io\\formats\n",
      "  copying pandas\\io\\formats\\css.py -> build\\lib.win-amd64-3.8\\pandas\\io\\formats\n",
      "  copying pandas\\io\\formats\\csvs.py -> build\\lib.win-amd64-3.8\\pandas\\io\\formats\n",
      "  copying pandas\\io\\formats\\excel.py -> build\\lib.win-amd64-3.8\\pandas\\io\\formats\n",
      "  copying pandas\\io\\formats\\format.py -> build\\lib.win-amd64-3.8\\pandas\\io\\formats\n",
      "  copying pandas\\io\\formats\\html.py -> build\\lib.win-amd64-3.8\\pandas\\io\\formats\n",
      "  copying pandas\\io\\formats\\latex.py -> build\\lib.win-amd64-3.8\\pandas\\io\\formats\n",
      "  copying pandas\\io\\formats\\printing.py -> build\\lib.win-amd64-3.8\\pandas\\io\\formats\n",
      "  copying pandas\\io\\formats\\style.py -> build\\lib.win-amd64-3.8\\pandas\\io\\formats\n",
      "  copying pandas\\io\\formats\\terminal.py -> build\\lib.win-amd64-3.8\\pandas\\io\\formats\n",
      "  copying pandas\\io\\formats\\__init__.py -> build\\lib.win-amd64-3.8\\pandas\\io\\formats\n",
      "  creating build\\lib.win-amd64-3.8\\pandas\\io\\json\n",
      "  copying pandas\\io\\json\\json.py -> build\\lib.win-amd64-3.8\\pandas\\io\\json\n",
      "  copying pandas\\io\\json\\normalize.py -> build\\lib.win-amd64-3.8\\pandas\\io\\json\n",
      "  copying pandas\\io\\json\\table_schema.py -> build\\lib.win-amd64-3.8\\pandas\\io\\json\n",
      "  copying pandas\\io\\json\\__init__.py -> build\\lib.win-amd64-3.8\\pandas\\io\\json\n",
      "  creating build\\lib.win-amd64-3.8\\pandas\\io\\msgpack\n",
      "  copying pandas\\io\\msgpack\\exceptions.py -> build\\lib.win-amd64-3.8\\pandas\\io\\msgpack\n",
      "  copying pandas\\io\\msgpack\\_version.py -> build\\lib.win-amd64-3.8\\pandas\\io\\msgpack\n",
      "  copying pandas\\io\\msgpack\\__init__.py -> build\\lib.win-amd64-3.8\\pandas\\io\\msgpack\n",
      "  creating build\\lib.win-amd64-3.8\\pandas\\io\\sas\n",
      "  copying pandas\\io\\sas\\sas7bdat.py -> build\\lib.win-amd64-3.8\\pandas\\io\\sas\n",
      "  copying pandas\\io\\sas\\sasreader.py -> build\\lib.win-amd64-3.8\\pandas\\io\\sas\n",
      "  copying pandas\\io\\sas\\sas_constants.py -> build\\lib.win-amd64-3.8\\pandas\\io\\sas\n",
      "  copying pandas\\io\\sas\\sas_xport.py -> build\\lib.win-amd64-3.8\\pandas\\io\\sas\n",
      "  copying pandas\\io\\sas\\__init__.py -> build\\lib.win-amd64-3.8\\pandas\\io\\sas\n",
      "  creating build\\lib.win-amd64-3.8\\pandas\\tests\\api\n",
      "  copying pandas\\tests\\api\\test_api.py -> build\\lib.win-amd64-3.8\\pandas\\tests\\api\n",
      "  copying pandas\\tests\\api\\test_types.py -> build\\lib.win-amd64-3.8\\pandas\\tests\\api\n",
      "  copying pandas\\tests\\api\\__init__.py -> build\\lib.win-amd64-3.8\\pandas\\tests\\api\n",
      "  creating build\\lib.win-amd64-3.8\\pandas\\tests\\arithmetic\n",
      "  copying pandas\\tests\\arithmetic\\conftest.py -> build\\lib.win-amd64-3.8\\pandas\\tests\\arithmetic\n",
      "  copying pandas\\tests\\arithmetic\\test_datetime64.py -> build\\lib.win-amd64-3.8\\pandas\\tests\\arithmetic\n",
      "  copying pandas\\tests\\arithmetic\\test_numeric.py -> build\\lib.win-amd64-3.8\\pandas\\tests\\arithmetic\n",
      "  copying pandas\\tests\\arithmetic\\test_object.py -> build\\lib.win-amd64-3.8\\pandas\\tests\\arithmetic\n",
      "  copying pandas\\tests\\arithmetic\\test_period.py -> build\\lib.win-amd64-3.8\\pandas\\tests\\arithmetic\n",
      "  copying pandas\\tests\\arithmetic\\test_timedelta64.py -> build\\lib.win-amd64-3.8\\pandas\\tests\\arithmetic\n",
      "  copying pandas\\tests\\arithmetic\\__init__.py -> build\\lib.win-amd64-3.8\\pandas\\tests\\arithmetic\n",
      "  creating build\\lib.win-amd64-3.8\\pandas\\tests\\arrays\n",
      "  copying pandas\\tests\\arrays\\test_array.py -> build\\lib.win-amd64-3.8\\pandas\\tests\\arrays\n",
      "  copying pandas\\tests\\arrays\\test_datetimelike.py -> build\\lib.win-amd64-3.8\\pandas\\tests\\arrays\n",
      "  copying pandas\\tests\\arrays\\test_datetimes.py -> build\\lib.win-amd64-3.8\\pandas\\tests\\arrays\n",
      "  copying pandas\\tests\\arrays\\test_integer.py -> build\\lib.win-amd64-3.8\\pandas\\tests\\arrays\n",
      "  copying pandas\\tests\\arrays\\test_numpy.py -> build\\lib.win-amd64-3.8\\pandas\\tests\\arrays\n",
      "  copying pandas\\tests\\arrays\\test_period.py -> build\\lib.win-amd64-3.8\\pandas\\tests\\arrays\n",
      "  copying pandas\\tests\\arrays\\test_timedeltas.py -> build\\lib.win-amd64-3.8\\pandas\\tests\\arrays\n",
      "  copying pandas\\tests\\arrays\\__init__.py -> build\\lib.win-amd64-3.8\\pandas\\tests\\arrays\n",
      "  creating build\\lib.win-amd64-3.8\\pandas\\tests\\computation\n",
      "  copying pandas\\tests\\computation\\test_compat.py -> build\\lib.win-amd64-3.8\\pandas\\tests\\computation\n",
      "  copying pandas\\tests\\computation\\test_eval.py -> build\\lib.win-amd64-3.8\\pandas\\tests\\computation\n",
      "  copying pandas\\tests\\computation\\__init__.py -> build\\lib.win-amd64-3.8\\pandas\\tests\\computation\n",
      "  creating build\\lib.win-amd64-3.8\\pandas\\tests\\dtypes\n",
      "  copying pandas\\tests\\dtypes\\test_common.py -> build\\lib.win-amd64-3.8\\pandas\\tests\\dtypes\n",
      "  copying pandas\\tests\\dtypes\\test_concat.py -> build\\lib.win-amd64-3.8\\pandas\\tests\\dtypes\n",
      "  copying pandas\\tests\\dtypes\\test_dtypes.py -> build\\lib.win-amd64-3.8\\pandas\\tests\\dtypes\n",
      "  copying pandas\\tests\\dtypes\\test_generic.py -> build\\lib.win-amd64-3.8\\pandas\\tests\\dtypes\n",
      "  copying pandas\\tests\\dtypes\\test_inference.py -> build\\lib.win-amd64-3.8\\pandas\\tests\\dtypes\n",
      "  copying pandas\\tests\\dtypes\\test_missing.py -> build\\lib.win-amd64-3.8\\pandas\\tests\\dtypes\n",
      "  copying pandas\\tests\\dtypes\\__init__.py -> build\\lib.win-amd64-3.8\\pandas\\tests\\dtypes\n",
      "  creating build\\lib.win-amd64-3.8\\pandas\\tests\\extension\n",
      "  copying pandas\\tests\\extension\\conftest.py -> build\\lib.win-amd64-3.8\\pandas\\tests\\extension\n",
      "  copying pandas\\tests\\extension\\test_categorical.py -> build\\lib.win-amd64-3.8\\pandas\\tests\\extension\n",
      "  copying pandas\\tests\\extension\\test_common.py -> build\\lib.win-amd64-3.8\\pandas\\tests\\extension\n",
      "  copying pandas\\tests\\extension\\test_datetime.py -> build\\lib.win-amd64-3.8\\pandas\\tests\\extension\n",
      "  copying pandas\\tests\\extension\\test_external_block.py -> build\\lib.win-amd64-3.8\\pandas\\tests\\extension\n",
      "  copying pandas\\tests\\extension\\test_integer.py -> build\\lib.win-amd64-3.8\\pandas\\tests\\extension\n",
      "  copying pandas\\tests\\extension\\test_interval.py -> build\\lib.win-amd64-3.8\\pandas\\tests\\extension\n",
      "  copying pandas\\tests\\extension\\test_period.py -> build\\lib.win-amd64-3.8\\pandas\\tests\\extension\n",
      "  copying pandas\\tests\\extension\\test_sparse.py -> build\\lib.win-amd64-3.8\\pandas\\tests\\extension\n",
      "  copying pandas\\tests\\extension\\__init__.py -> build\\lib.win-amd64-3.8\\pandas\\tests\\extension\n",
      "  creating build\\lib.win-amd64-3.8\\pandas\\tests\\frame\n",
      "  copying pandas\\tests\\frame\\common.py -> build\\lib.win-amd64-3.8\\pandas\\tests\\frame\n",
      "  copying pandas\\tests\\frame\\conftest.py -> build\\lib.win-amd64-3.8\\pandas\\tests\\frame\n",
      "  copying pandas\\tests\\frame\\test_alter_axes.py -> build\\lib.win-amd64-3.8\\pandas\\tests\\frame\n",
      "  copying pandas\\tests\\frame\\test_analytics.py -> build\\lib.win-amd64-3.8\\pandas\\tests\\frame\n",
      "  copying pandas\\tests\\frame\\test_api.py -> build\\lib.win-amd64-3.8\\pandas\\tests\\frame\n",
      "  copying pandas\\tests\\frame\\test_apply.py -> build\\lib.win-amd64-3.8\\pandas\\tests\\frame\n",
      "  copying pandas\\tests\\frame\\test_arithmetic.py -> build\\lib.win-amd64-3.8\\pandas\\tests\\frame\n",
      "  copying pandas\\tests\\frame\\test_asof.py -> build\\lib.win-amd64-3.8\\pandas\\tests\\frame\n",
      "  copying pandas\\tests\\frame\\test_axis_select_reindex.py -> build\\lib.win-amd64-3.8\\pandas\\tests\\frame\n",
      "  copying pandas\\tests\\frame\\test_block_internals.py -> build\\lib.win-amd64-3.8\\pandas\\tests\\frame\n",
      "  copying pandas\\tests\\frame\\test_combine_concat.py -> build\\lib.win-amd64-3.8\\pandas\\tests\\frame\n",
      "  copying pandas\\tests\\frame\\test_constructors.py -> build\\lib.win-amd64-3.8\\pandas\\tests\\frame\n",
      "  copying pandas\\tests\\frame\\test_convert_to.py -> build\\lib.win-amd64-3.8\\pandas\\tests\\frame\n",
      "  copying pandas\\tests\\frame\\test_dtypes.py -> build\\lib.win-amd64-3.8\\pandas\\tests\\frame\n",
      "  copying pandas\\tests\\frame\\test_duplicates.py -> build\\lib.win-amd64-3.8\\pandas\\tests\\frame\n",
      "  copying pandas\\tests\\frame\\test_indexing.py -> build\\lib.win-amd64-3.8\\pandas\\tests\\frame\n",
      "  copying pandas\\tests\\frame\\test_join.py -> build\\lib.win-amd64-3.8\\pandas\\tests\\frame\n",
      "  copying pandas\\tests\\frame\\test_missing.py -> build\\lib.win-amd64-3.8\\pandas\\tests\\frame\n",
      "  copying pandas\\tests\\frame\\test_mutate_columns.py -> build\\lib.win-amd64-3.8\\pandas\\tests\\frame\n",
      "  copying pandas\\tests\\frame\\test_nonunique_indexes.py -> build\\lib.win-amd64-3.8\\pandas\\tests\\frame\n",
      "  copying pandas\\tests\\frame\\test_operators.py -> build\\lib.win-amd64-3.8\\pandas\\tests\\frame\n",
      "  copying pandas\\tests\\frame\\test_period.py -> build\\lib.win-amd64-3.8\\pandas\\tests\\frame\n",
      "  copying pandas\\tests\\frame\\test_quantile.py -> build\\lib.win-amd64-3.8\\pandas\\tests\\frame\n",
      "  copying pandas\\tests\\frame\\test_query_eval.py -> build\\lib.win-amd64-3.8\\pandas\\tests\\frame\n",
      "  copying pandas\\tests\\frame\\test_rank.py -> build\\lib.win-amd64-3.8\\pandas\\tests\\frame\n",
      "  copying pandas\\tests\\frame\\test_replace.py -> build\\lib.win-amd64-3.8\\pandas\\tests\\frame\n",
      "  copying pandas\\tests\\frame\\test_repr_info.py -> build\\lib.win-amd64-3.8\\pandas\\tests\\frame\n",
      "  copying pandas\\tests\\frame\\test_reshape.py -> build\\lib.win-amd64-3.8\\pandas\\tests\\frame\n",
      "  copying pandas\\tests\\frame\\test_sorting.py -> build\\lib.win-amd64-3.8\\pandas\\tests\\frame\n",
      "  copying pandas\\tests\\frame\\test_sort_values_level_as_str.py -> build\\lib.win-amd64-3.8\\pandas\\tests\\frame\n",
      "  copying pandas\\tests\\frame\\test_subclass.py -> build\\lib.win-amd64-3.8\\pandas\\tests\\frame\n",
      "  copying pandas\\tests\\frame\\test_timeseries.py -> build\\lib.win-amd64-3.8\\pandas\\tests\\frame\n",
      "  copying pandas\\tests\\frame\\test_timezones.py -> build\\lib.win-amd64-3.8\\pandas\\tests\\frame\n",
      "  copying pandas\\tests\\frame\\test_to_csv.py -> build\\lib.win-amd64-3.8\\pandas\\tests\\frame\n",
      "  copying pandas\\tests\\frame\\test_validate.py -> build\\lib.win-amd64-3.8\\pandas\\tests\\frame\n",
      "  copying pandas\\tests\\frame\\__init__.py -> build\\lib.win-amd64-3.8\\pandas\\tests\\frame\n",
      "  creating build\\lib.win-amd64-3.8\\pandas\\tests\\generic\n",
      "  copying pandas\\tests\\generic\\test_frame.py -> build\\lib.win-amd64-3.8\\pandas\\tests\\generic\n",
      "  copying pandas\\tests\\generic\\test_generic.py -> build\\lib.win-amd64-3.8\\pandas\\tests\\generic\n",
      "  copying pandas\\tests\\generic\\test_label_or_level_utils.py -> build\\lib.win-amd64-3.8\\pandas\\tests\\generic\n",
      "  copying pandas\\tests\\generic\\test_panel.py -> build\\lib.win-amd64-3.8\\pandas\\tests\\generic\n",
      "  copying pandas\\tests\\generic\\test_series.py -> build\\lib.win-amd64-3.8\\pandas\\tests\\generic\n",
      "  copying pandas\\tests\\generic\\__init__.py -> build\\lib.win-amd64-3.8\\pandas\\tests\\generic\n",
      "  creating build\\lib.win-amd64-3.8\\pandas\\tests\\groupby\n",
      "  copying pandas\\tests\\groupby\\conftest.py -> build\\lib.win-amd64-3.8\\pandas\\tests\\groupby\n",
      "  copying pandas\\tests\\groupby\\test_apply.py -> build\\lib.win-amd64-3.8\\pandas\\tests\\groupby\n",
      "  copying pandas\\tests\\groupby\\test_bin_groupby.py -> build\\lib.win-amd64-3.8\\pandas\\tests\\groupby\n",
      "  copying pandas\\tests\\groupby\\test_categorical.py -> build\\lib.win-amd64-3.8\\pandas\\tests\\groupby\n",
      "  copying pandas\\tests\\groupby\\test_counting.py -> build\\lib.win-amd64-3.8\\pandas\\tests\\groupby\n",
      "  copying pandas\\tests\\groupby\\test_filters.py -> build\\lib.win-amd64-3.8\\pandas\\tests\\groupby\n",
      "  copying pandas\\tests\\groupby\\test_function.py -> build\\lib.win-amd64-3.8\\pandas\\tests\\groupby\n",
      "  copying pandas\\tests\\groupby\\test_groupby.py -> build\\lib.win-amd64-3.8\\pandas\\tests\\groupby\n",
      "  copying pandas\\tests\\groupby\\test_grouping.py -> build\\lib.win-amd64-3.8\\pandas\\tests\\groupby\n",
      "  copying pandas\\tests\\groupby\\test_index_as_string.py -> build\\lib.win-amd64-3.8\\pandas\\tests\\groupby\n",
      "  copying pandas\\tests\\groupby\\test_nth.py -> build\\lib.win-amd64-3.8\\pandas\\tests\\groupby\n",
      "  copying pandas\\tests\\groupby\\test_rank.py -> build\\lib.win-amd64-3.8\\pandas\\tests\\groupby\n",
      "  copying pandas\\tests\\groupby\\test_timegrouper.py -> build\\lib.win-amd64-3.8\\pandas\\tests\\groupby\n",
      "  copying pandas\\tests\\groupby\\test_transform.py -> build\\lib.win-amd64-3.8\\pandas\\tests\\groupby\n",
      "  copying pandas\\tests\\groupby\\test_value_counts.py -> build\\lib.win-amd64-3.8\\pandas\\tests\\groupby\n",
      "  copying pandas\\tests\\groupby\\test_whitelist.py -> build\\lib.win-amd64-3.8\\pandas\\tests\\groupby\n",
      "  copying pandas\\tests\\groupby\\__init__.py -> build\\lib.win-amd64-3.8\\pandas\\tests\\groupby\n",
      "  creating build\\lib.win-amd64-3.8\\pandas\\tests\\indexes\n",
      "  copying pandas\\tests\\indexes\\common.py -> build\\lib.win-amd64-3.8\\pandas\\tests\\indexes\n",
      "  copying pandas\\tests\\indexes\\conftest.py -> build\\lib.win-amd64-3.8\\pandas\\tests\\indexes\n",
      "  copying pandas\\tests\\indexes\\datetimelike.py -> build\\lib.win-amd64-3.8\\pandas\\tests\\indexes\n",
      "  copying pandas\\tests\\indexes\\test_base.py -> build\\lib.win-amd64-3.8\\pandas\\tests\\indexes\n",
      "  copying pandas\\tests\\indexes\\test_category.py -> build\\lib.win-amd64-3.8\\pandas\\tests\\indexes\n",
      "  copying pandas\\tests\\indexes\\test_common.py -> build\\lib.win-amd64-3.8\\pandas\\tests\\indexes\n",
      "  copying pandas\\tests\\indexes\\test_frozen.py -> build\\lib.win-amd64-3.8\\pandas\\tests\\indexes\n",
      "  copying pandas\\tests\\indexes\\test_numeric.py -> build\\lib.win-amd64-3.8\\pandas\\tests\\indexes\n",
      "  copying pandas\\tests\\indexes\\test_range.py -> build\\lib.win-amd64-3.8\\pandas\\tests\\indexes\n",
      "  copying pandas\\tests\\indexes\\__init__.py -> build\\lib.win-amd64-3.8\\pandas\\tests\\indexes\n",
      "  creating build\\lib.win-amd64-3.8\\pandas\\tests\\indexing\n",
      "  copying pandas\\tests\\indexing\\common.py -> build\\lib.win-amd64-3.8\\pandas\\tests\\indexing\n",
      "  copying pandas\\tests\\indexing\\conftest.py -> build\\lib.win-amd64-3.8\\pandas\\tests\\indexing\n",
      "  copying pandas\\tests\\indexing\\test_callable.py -> build\\lib.win-amd64-3.8\\pandas\\tests\\indexing\n",
      "  copying pandas\\tests\\indexing\\test_categorical.py -> build\\lib.win-amd64-3.8\\pandas\\tests\\indexing\n",
      "  copying pandas\\tests\\indexing\\test_chaining_and_caching.py -> build\\lib.win-amd64-3.8\\pandas\\tests\\indexing\n",
      "  copying pandas\\tests\\indexing\\test_coercion.py -> build\\lib.win-amd64-3.8\\pandas\\tests\\indexing\n",
      "  copying pandas\\tests\\indexing\\test_datetime.py -> build\\lib.win-amd64-3.8\\pandas\\tests\\indexing\n",
      "  copying pandas\\tests\\indexing\\test_floats.py -> build\\lib.win-amd64-3.8\\pandas\\tests\\indexing\n",
      "  copying pandas\\tests\\indexing\\test_iloc.py -> build\\lib.win-amd64-3.8\\pandas\\tests\\indexing\n",
      "  copying pandas\\tests\\indexing\\test_indexing.py -> build\\lib.win-amd64-3.8\\pandas\\tests\\indexing\n",
      "  copying pandas\\tests\\indexing\\test_indexing_engines.py -> build\\lib.win-amd64-3.8\\pandas\\tests\\indexing\n",
      "  copying pandas\\tests\\indexing\\test_indexing_slow.py -> build\\lib.win-amd64-3.8\\pandas\\tests\\indexing\n",
      "  copying pandas\\tests\\indexing\\test_ix.py -> build\\lib.win-amd64-3.8\\pandas\\tests\\indexing\n",
      "  copying pandas\\tests\\indexing\\test_loc.py -> build\\lib.win-amd64-3.8\\pandas\\tests\\indexing\n",
      "  copying pandas\\tests\\indexing\\test_panel.py -> build\\lib.win-amd64-3.8\\pandas\\tests\\indexing\n",
      "  copying pandas\\tests\\indexing\\test_partial.py -> build\\lib.win-amd64-3.8\\pandas\\tests\\indexing\n",
      "  copying pandas\\tests\\indexing\\test_scalar.py -> build\\lib.win-amd64-3.8\\pandas\\tests\\indexing\n",
      "  copying pandas\\tests\\indexing\\test_timedelta.py -> build\\lib.win-amd64-3.8\\pandas\\tests\\indexing\n",
      "  copying pandas\\tests\\indexing\\__init__.py -> build\\lib.win-amd64-3.8\\pandas\\tests\\indexing\n",
      "  creating build\\lib.win-amd64-3.8\\pandas\\tests\\internals\n",
      "  copying pandas\\tests\\internals\\test_internals.py -> build\\lib.win-amd64-3.8\\pandas\\tests\\internals\n",
      "  copying pandas\\tests\\internals\\__init__.py -> build\\lib.win-amd64-3.8\\pandas\\tests\\internals\n",
      "  creating build\\lib.win-amd64-3.8\\pandas\\tests\\io\n",
      "  copying pandas\\tests\\io\\conftest.py -> build\\lib.win-amd64-3.8\\pandas\\tests\\io\n",
      "  copying pandas\\tests\\io\\generate_legacy_storage_files.py -> build\\lib.win-amd64-3.8\\pandas\\tests\\io\n",
      "  copying pandas\\tests\\io\\test_clipboard.py -> build\\lib.win-amd64-3.8\\pandas\\tests\\io\n",
      "  copying pandas\\tests\\io\\test_common.py -> build\\lib.win-amd64-3.8\\pandas\\tests\\io\n",
      "  copying pandas\\tests\\io\\test_compression.py -> build\\lib.win-amd64-3.8\\pandas\\tests\\io\n",
      "  copying pandas\\tests\\io\\test_date_converters.py -> build\\lib.win-amd64-3.8\\pandas\\tests\\io\n",
      "  copying pandas\\tests\\io\\test_excel.py -> build\\lib.win-amd64-3.8\\pandas\\tests\\io\n",
      "  copying pandas\\tests\\io\\test_feather.py -> build\\lib.win-amd64-3.8\\pandas\\tests\\io\n",
      "  copying pandas\\tests\\io\\test_gbq.py -> build\\lib.win-amd64-3.8\\pandas\\tests\\io\n",
      "  copying pandas\\tests\\io\\test_gcs.py -> build\\lib.win-amd64-3.8\\pandas\\tests\\io\n",
      "  copying pandas\\tests\\io\\test_html.py -> build\\lib.win-amd64-3.8\\pandas\\tests\\io\n",
      "  copying pandas\\tests\\io\\test_packers.py -> build\\lib.win-amd64-3.8\\pandas\\tests\\io\n",
      "  copying pandas\\tests\\io\\test_parquet.py -> build\\lib.win-amd64-3.8\\pandas\\tests\\io\n",
      "  copying pandas\\tests\\io\\test_pickle.py -> build\\lib.win-amd64-3.8\\pandas\\tests\\io\n",
      "  copying pandas\\tests\\io\\test_pytables.py -> build\\lib.win-amd64-3.8\\pandas\\tests\\io\n",
      "  copying pandas\\tests\\io\\test_s3.py -> build\\lib.win-amd64-3.8\\pandas\\tests\\io\n",
      "  copying pandas\\tests\\io\\test_sql.py -> build\\lib.win-amd64-3.8\\pandas\\tests\\io\n",
      "  copying pandas\\tests\\io\\test_stata.py -> build\\lib.win-amd64-3.8\\pandas\\tests\\io\n",
      "  copying pandas\\tests\\io\\__init__.py -> build\\lib.win-amd64-3.8\\pandas\\tests\\io\n",
      "  creating build\\lib.win-amd64-3.8\\pandas\\tests\\plotting\n",
      "  copying pandas\\tests\\plotting\\common.py -> build\\lib.win-amd64-3.8\\pandas\\tests\\plotting\n",
      "  copying pandas\\tests\\plotting\\test_boxplot_method.py -> build\\lib.win-amd64-3.8\\pandas\\tests\\plotting\n",
      "  copying pandas\\tests\\plotting\\test_converter.py -> build\\lib.win-amd64-3.8\\pandas\\tests\\plotting\n",
      "  copying pandas\\tests\\plotting\\test_datetimelike.py -> build\\lib.win-amd64-3.8\\pandas\\tests\\plotting\n",
      "  copying pandas\\tests\\plotting\\test_frame.py -> build\\lib.win-amd64-3.8\\pandas\\tests\\plotting\n",
      "  copying pandas\\tests\\plotting\\test_groupby.py -> build\\lib.win-amd64-3.8\\pandas\\tests\\plotting\n",
      "  copying pandas\\tests\\plotting\\test_hist_method.py -> build\\lib.win-amd64-3.8\\pandas\\tests\\plotting\n",
      "  copying pandas\\tests\\plotting\\test_misc.py -> build\\lib.win-amd64-3.8\\pandas\\tests\\plotting\n",
      "  copying pandas\\tests\\plotting\\test_series.py -> build\\lib.win-amd64-3.8\\pandas\\tests\\plotting\n",
      "  copying pandas\\tests\\plotting\\__init__.py -> build\\lib.win-amd64-3.8\\pandas\\tests\\plotting\n",
      "  creating build\\lib.win-amd64-3.8\\pandas\\tests\\reductions\n",
      "  copying pandas\\tests\\reductions\\test_reductions.py -> build\\lib.win-amd64-3.8\\pandas\\tests\\reductions\n",
      "  copying pandas\\tests\\reductions\\test_stat_reductions.py -> build\\lib.win-amd64-3.8\\pandas\\tests\\reductions\n",
      "  copying pandas\\tests\\reductions\\__init__.py -> build\\lib.win-amd64-3.8\\pandas\\tests\\reductions\n",
      "  creating build\\lib.win-amd64-3.8\\pandas\\tests\\resample\n",
      "  copying pandas\\tests\\resample\\conftest.py -> build\\lib.win-amd64-3.8\\pandas\\tests\\resample\n",
      "  copying pandas\\tests\\resample\\test_base.py -> build\\lib.win-amd64-3.8\\pandas\\tests\\resample\n",
      "  copying pandas\\tests\\resample\\test_datetime_index.py -> build\\lib.win-amd64-3.8\\pandas\\tests\\resample\n",
      "  copying pandas\\tests\\resample\\test_period_index.py -> build\\lib.win-amd64-3.8\\pandas\\tests\\resample\n",
      "  copying pandas\\tests\\resample\\test_resampler_grouper.py -> build\\lib.win-amd64-3.8\\pandas\\tests\\resample\n",
      "  copying pandas\\tests\\resample\\test_resample_api.py -> build\\lib.win-amd64-3.8\\pandas\\tests\\resample\n",
      "  copying pandas\\tests\\resample\\test_timedelta.py -> build\\lib.win-amd64-3.8\\pandas\\tests\\resample\n",
      "  copying pandas\\tests\\resample\\test_time_grouper.py -> build\\lib.win-amd64-3.8\\pandas\\tests\\resample\n",
      "  copying pandas\\tests\\resample\\__init__.py -> build\\lib.win-amd64-3.8\\pandas\\tests\\resample\n",
      "  creating build\\lib.win-amd64-3.8\\pandas\\tests\\reshape\n",
      "  copying pandas\\tests\\reshape\\test_concat.py -> build\\lib.win-amd64-3.8\\pandas\\tests\\reshape\n",
      "  copying pandas\\tests\\reshape\\test_cut.py -> build\\lib.win-amd64-3.8\\pandas\\tests\\reshape\n",
      "  copying pandas\\tests\\reshape\\test_melt.py -> build\\lib.win-amd64-3.8\\pandas\\tests\\reshape\n",
      "  copying pandas\\tests\\reshape\\test_pivot.py -> build\\lib.win-amd64-3.8\\pandas\\tests\\reshape\n",
      "  copying pandas\\tests\\reshape\\test_qcut.py -> build\\lib.win-amd64-3.8\\pandas\\tests\\reshape\n",
      "  copying pandas\\tests\\reshape\\test_reshape.py -> build\\lib.win-amd64-3.8\\pandas\\tests\\reshape\n",
      "  copying pandas\\tests\\reshape\\test_union_categoricals.py -> build\\lib.win-amd64-3.8\\pandas\\tests\\reshape\n",
      "  copying pandas\\tests\\reshape\\test_util.py -> build\\lib.win-amd64-3.8\\pandas\\tests\\reshape\n",
      "  copying pandas\\tests\\reshape\\__init__.py -> build\\lib.win-amd64-3.8\\pandas\\tests\\reshape\n",
      "  creating build\\lib.win-amd64-3.8\\pandas\\tests\\scalar\n",
      "  copying pandas\\tests\\scalar\\test_nat.py -> build\\lib.win-amd64-3.8\\pandas\\tests\\scalar\n",
      "  copying pandas\\tests\\scalar\\__init__.py -> build\\lib.win-amd64-3.8\\pandas\\tests\\scalar\n",
      "  creating build\\lib.win-amd64-3.8\\pandas\\tests\\series\n",
      "  copying pandas\\tests\\series\\common.py -> build\\lib.win-amd64-3.8\\pandas\\tests\\series\n",
      "  copying pandas\\tests\\series\\conftest.py -> build\\lib.win-amd64-3.8\\pandas\\tests\\series\n",
      "  copying pandas\\tests\\series\\test_alter_axes.py -> build\\lib.win-amd64-3.8\\pandas\\tests\\series\n",
      "  copying pandas\\tests\\series\\test_analytics.py -> build\\lib.win-amd64-3.8\\pandas\\tests\\series\n",
      "  copying pandas\\tests\\series\\test_api.py -> build\\lib.win-amd64-3.8\\pandas\\tests\\series\n",
      "  copying pandas\\tests\\series\\test_apply.py -> build\\lib.win-amd64-3.8\\pandas\\tests\\series\n",
      "  copying pandas\\tests\\series\\test_arithmetic.py -> build\\lib.win-amd64-3.8\\pandas\\tests\\series\n",
      "  copying pandas\\tests\\series\\test_asof.py -> build\\lib.win-amd64-3.8\\pandas\\tests\\series\n",
      "  copying pandas\\tests\\series\\test_block_internals.py -> build\\lib.win-amd64-3.8\\pandas\\tests\\series\n",
      "  copying pandas\\tests\\series\\test_combine_concat.py -> build\\lib.win-amd64-3.8\\pandas\\tests\\series\n",
      "  copying pandas\\tests\\series\\test_constructors.py -> build\\lib.win-amd64-3.8\\pandas\\tests\\series\n",
      "  copying pandas\\tests\\series\\test_datetime_values.py -> build\\lib.win-amd64-3.8\\pandas\\tests\\series\n",
      "  copying pandas\\tests\\series\\test_dtypes.py -> build\\lib.win-amd64-3.8\\pandas\\tests\\series\n",
      "  copying pandas\\tests\\series\\test_duplicates.py -> build\\lib.win-amd64-3.8\\pandas\\tests\\series\n",
      "  copying pandas\\tests\\series\\test_internals.py -> build\\lib.win-amd64-3.8\\pandas\\tests\\series\n",
      "  copying pandas\\tests\\series\\test_io.py -> build\\lib.win-amd64-3.8\\pandas\\tests\\series\n",
      "  copying pandas\\tests\\series\\test_missing.py -> build\\lib.win-amd64-3.8\\pandas\\tests\\series\n",
      "  copying pandas\\tests\\series\\test_operators.py -> build\\lib.win-amd64-3.8\\pandas\\tests\\series\n",
      "  copying pandas\\tests\\series\\test_period.py -> build\\lib.win-amd64-3.8\\pandas\\tests\\series\n",
      "  copying pandas\\tests\\series\\test_quantile.py -> build\\lib.win-amd64-3.8\\pandas\\tests\\series\n",
      "  copying pandas\\tests\\series\\test_rank.py -> build\\lib.win-amd64-3.8\\pandas\\tests\\series\n",
      "  copying pandas\\tests\\series\\test_replace.py -> build\\lib.win-amd64-3.8\\pandas\\tests\\series\n",
      "  copying pandas\\tests\\series\\test_repr.py -> build\\lib.win-amd64-3.8\\pandas\\tests\\series\n",
      "  copying pandas\\tests\\series\\test_sorting.py -> build\\lib.win-amd64-3.8\\pandas\\tests\\series\n",
      "  copying pandas\\tests\\series\\test_subclass.py -> build\\lib.win-amd64-3.8\\pandas\\tests\\series\n",
      "  copying pandas\\tests\\series\\test_timeseries.py -> build\\lib.win-amd64-3.8\\pandas\\tests\\series\n",
      "  copying pandas\\tests\\series\\test_timezones.py -> build\\lib.win-amd64-3.8\\pandas\\tests\\series\n",
      "  copying pandas\\tests\\series\\test_validate.py -> build\\lib.win-amd64-3.8\\pandas\\tests\\series\n",
      "  copying pandas\\tests\\series\\__init__.py -> build\\lib.win-amd64-3.8\\pandas\\tests\\series\n",
      "  creating build\\lib.win-amd64-3.8\\pandas\\tests\\sparse\n",
      "  copying pandas\\tests\\sparse\\common.py -> build\\lib.win-amd64-3.8\\pandas\\tests\\sparse\n",
      "  copying pandas\\tests\\sparse\\test_combine_concat.py -> build\\lib.win-amd64-3.8\\pandas\\tests\\sparse\n",
      "  copying pandas\\tests\\sparse\\test_format.py -> build\\lib.win-amd64-3.8\\pandas\\tests\\sparse\n",
      "  copying pandas\\tests\\sparse\\test_groupby.py -> build\\lib.win-amd64-3.8\\pandas\\tests\\sparse\n",
      "  copying pandas\\tests\\sparse\\test_indexing.py -> build\\lib.win-amd64-3.8\\pandas\\tests\\sparse\n",
      "  copying pandas\\tests\\sparse\\test_pivot.py -> build\\lib.win-amd64-3.8\\pandas\\tests\\sparse\n",
      "  copying pandas\\tests\\sparse\\test_reshape.py -> build\\lib.win-amd64-3.8\\pandas\\tests\\sparse\n",
      "  copying pandas\\tests\\sparse\\__init__.py -> build\\lib.win-amd64-3.8\\pandas\\tests\\sparse\n",
      "  creating build\\lib.win-amd64-3.8\\pandas\\tests\\tools\n",
      "  copying pandas\\tests\\tools\\test_numeric.py -> build\\lib.win-amd64-3.8\\pandas\\tests\\tools\n",
      "  copying pandas\\tests\\tools\\__init__.py -> build\\lib.win-amd64-3.8\\pandas\\tests\\tools\n",
      "  creating build\\lib.win-amd64-3.8\\pandas\\tests\\tseries\n",
      "  copying pandas\\tests\\tseries\\test_frequencies.py -> build\\lib.win-amd64-3.8\\pandas\\tests\\tseries\n",
      "  copying pandas\\tests\\tseries\\test_holiday.py -> build\\lib.win-amd64-3.8\\pandas\\tests\\tseries\n",
      "  copying pandas\\tests\\tseries\\__init__.py -> build\\lib.win-amd64-3.8\\pandas\\tests\\tseries\n",
      "  creating build\\lib.win-amd64-3.8\\pandas\\tests\\tslibs\n",
      "  copying pandas\\tests\\tslibs\\test_api.py -> build\\lib.win-amd64-3.8\\pandas\\tests\\tslibs\n",
      "  copying pandas\\tests\\tslibs\\test_array_to_datetime.py -> build\\lib.win-amd64-3.8\\pandas\\tests\\tslibs\n",
      "  copying pandas\\tests\\tslibs\\test_ccalendar.py -> build\\lib.win-amd64-3.8\\pandas\\tests\\tslibs\n",
      "  copying pandas\\tests\\tslibs\\test_conversion.py -> build\\lib.win-amd64-3.8\\pandas\\tests\\tslibs\n",
      "  copying pandas\\tests\\tslibs\\test_libfrequencies.py -> build\\lib.win-amd64-3.8\\pandas\\tests\\tslibs\n",
      "  copying pandas\\tests\\tslibs\\test_liboffsets.py -> build\\lib.win-amd64-3.8\\pandas\\tests\\tslibs\n",
      "  copying pandas\\tests\\tslibs\\test_normalize_date.py -> build\\lib.win-amd64-3.8\\pandas\\tests\\tslibs\n",
      "  copying pandas\\tests\\tslibs\\test_parse_iso8601.py -> build\\lib.win-amd64-3.8\\pandas\\tests\\tslibs\n",
      "  copying pandas\\tests\\tslibs\\test_parsing.py -> build\\lib.win-amd64-3.8\\pandas\\tests\\tslibs\n",
      "  copying pandas\\tests\\tslibs\\test_period_asfreq.py -> build\\lib.win-amd64-3.8\\pandas\\tests\\tslibs\n",
      "  copying pandas\\tests\\tslibs\\test_timedeltas.py -> build\\lib.win-amd64-3.8\\pandas\\tests\\tslibs\n",
      "  copying pandas\\tests\\tslibs\\test_timezones.py -> build\\lib.win-amd64-3.8\\pandas\\tests\\tslibs\n",
      "  copying pandas\\tests\\tslibs\\__init__.py -> build\\lib.win-amd64-3.8\\pandas\\tests\\tslibs\n",
      "  creating build\\lib.win-amd64-3.8\\pandas\\tests\\util\n",
      "  copying pandas\\tests\\util\\conftest.py -> build\\lib.win-amd64-3.8\\pandas\\tests\\util\n",
      "  copying pandas\\tests\\util\\test_assert_almost_equal.py -> build\\lib.win-amd64-3.8\\pandas\\tests\\util\n",
      "  copying pandas\\tests\\util\\test_assert_categorical_equal.py -> build\\lib.win-amd64-3.8\\pandas\\tests\\util\n",
      "  copying pandas\\tests\\util\\test_assert_extension_array_equal.py -> build\\lib.win-amd64-3.8\\pandas\\tests\\util\n",
      "  copying pandas\\tests\\util\\test_assert_frame_equal.py -> build\\lib.win-amd64-3.8\\pandas\\tests\\util\n",
      "  copying pandas\\tests\\util\\test_assert_index_equal.py -> build\\lib.win-amd64-3.8\\pandas\\tests\\util\n",
      "  copying pandas\\tests\\util\\test_assert_interval_array_equal.py -> build\\lib.win-amd64-3.8\\pandas\\tests\\util\n",
      "  copying pandas\\tests\\util\\test_assert_numpy_array_equal.py -> build\\lib.win-amd64-3.8\\pandas\\tests\\util\n",
      "  copying pandas\\tests\\util\\test_assert_series_equal.py -> build\\lib.win-amd64-3.8\\pandas\\tests\\util\n",
      "  copying pandas\\tests\\util\\test_deprecate.py -> build\\lib.win-amd64-3.8\\pandas\\tests\\util\n",
      "  copying pandas\\tests\\util\\test_deprecate_kwarg.py -> build\\lib.win-amd64-3.8\\pandas\\tests\\util\n",
      "  copying pandas\\tests\\util\\test_hashing.py -> build\\lib.win-amd64-3.8\\pandas\\tests\\util\n",
      "  copying pandas\\tests\\util\\test_locale.py -> build\\lib.win-amd64-3.8\\pandas\\tests\\util\n",
      "  copying pandas\\tests\\util\\test_move.py -> build\\lib.win-amd64-3.8\\pandas\\tests\\util\n",
      "  copying pandas\\tests\\util\\test_safe_import.py -> build\\lib.win-amd64-3.8\\pandas\\tests\\util\n",
      "  copying pandas\\tests\\util\\test_util.py -> build\\lib.win-amd64-3.8\\pandas\\tests\\util\n",
      "  copying pandas\\tests\\util\\test_validate_args.py -> build\\lib.win-amd64-3.8\\pandas\\tests\\util\n",
      "  copying pandas\\tests\\util\\test_validate_args_and_kwargs.py -> build\\lib.win-amd64-3.8\\pandas\\tests\\util\n",
      "  copying pandas\\tests\\util\\test_validate_kwargs.py -> build\\lib.win-amd64-3.8\\pandas\\tests\\util\n",
      "  copying pandas\\tests\\util\\__init__.py -> build\\lib.win-amd64-3.8\\pandas\\tests\\util\n",
      "  creating build\\lib.win-amd64-3.8\\pandas\\tests\\arrays\\categorical\n",
      "  copying pandas\\tests\\arrays\\categorical\\common.py -> build\\lib.win-amd64-3.8\\pandas\\tests\\arrays\\categorical\n",
      "  copying pandas\\tests\\arrays\\categorical\\conftest.py -> build\\lib.win-amd64-3.8\\pandas\\tests\\arrays\\categorical\n",
      "  copying pandas\\tests\\arrays\\categorical\\test_algos.py -> build\\lib.win-amd64-3.8\\pandas\\tests\\arrays\\categorical\n",
      "  copying pandas\\tests\\arrays\\categorical\\test_analytics.py -> build\\lib.win-amd64-3.8\\pandas\\tests\\arrays\\categorical\n",
      "  copying pandas\\tests\\arrays\\categorical\\test_api.py -> build\\lib.win-amd64-3.8\\pandas\\tests\\arrays\\categorical\n",
      "  copying pandas\\tests\\arrays\\categorical\\test_constructors.py -> build\\lib.win-amd64-3.8\\pandas\\tests\\arrays\\categorical\n",
      "  copying pandas\\tests\\arrays\\categorical\\test_dtypes.py -> build\\lib.win-amd64-3.8\\pandas\\tests\\arrays\\categorical\n",
      "  copying pandas\\tests\\arrays\\categorical\\test_indexing.py -> build\\lib.win-amd64-3.8\\pandas\\tests\\arrays\\categorical\n",
      "  copying pandas\\tests\\arrays\\categorical\\test_missing.py -> build\\lib.win-amd64-3.8\\pandas\\tests\\arrays\\categorical\n",
      "  copying pandas\\tests\\arrays\\categorical\\test_operators.py -> build\\lib.win-amd64-3.8\\pandas\\tests\\arrays\\categorical\n",
      "  copying pandas\\tests\\arrays\\categorical\\test_repr.py -> build\\lib.win-amd64-3.8\\pandas\\tests\\arrays\\categorical\n",
      "  copying pandas\\tests\\arrays\\categorical\\test_sorting.py -> build\\lib.win-amd64-3.8\\pandas\\tests\\arrays\\categorical\n",
      "  copying pandas\\tests\\arrays\\categorical\\test_subclass.py -> build\\lib.win-amd64-3.8\\pandas\\tests\\arrays\\categorical\n",
      "  copying pandas\\tests\\arrays\\categorical\\test_warnings.py -> build\\lib.win-amd64-3.8\\pandas\\tests\\arrays\\categorical\n",
      "  copying pandas\\tests\\arrays\\categorical\\__init__.py -> build\\lib.win-amd64-3.8\\pandas\\tests\\arrays\\categorical\n",
      "  creating build\\lib.win-amd64-3.8\\pandas\\tests\\arrays\\interval\n",
      "  copying pandas\\tests\\arrays\\interval\\test_interval.py -> build\\lib.win-amd64-3.8\\pandas\\tests\\arrays\\interval\n",
      "  copying pandas\\tests\\arrays\\interval\\test_ops.py -> build\\lib.win-amd64-3.8\\pandas\\tests\\arrays\\interval\n",
      "  copying pandas\\tests\\arrays\\interval\\__init__.py -> build\\lib.win-amd64-3.8\\pandas\\tests\\arrays\\interval\n",
      "  creating build\\lib.win-amd64-3.8\\pandas\\tests\\arrays\\sparse\n",
      "  copying pandas\\tests\\arrays\\sparse\\test_arithmetics.py -> build\\lib.win-amd64-3.8\\pandas\\tests\\arrays\\sparse\n",
      "  copying pandas\\tests\\arrays\\sparse\\test_array.py -> build\\lib.win-amd64-3.8\\pandas\\tests\\arrays\\sparse\n",
      "  copying pandas\\tests\\arrays\\sparse\\test_dtype.py -> build\\lib.win-amd64-3.8\\pandas\\tests\\arrays\\sparse\n",
      "  copying pandas\\tests\\arrays\\sparse\\test_libsparse.py -> build\\lib.win-amd64-3.8\\pandas\\tests\\arrays\\sparse\n",
      "  copying pandas\\tests\\arrays\\sparse\\__init__.py -> build\\lib.win-amd64-3.8\\pandas\\tests\\arrays\\sparse\n",
      "  creating build\\lib.win-amd64-3.8\\pandas\\tests\\dtypes\\cast\n",
      "  copying pandas\\tests\\dtypes\\cast\\test_construct_from_scalar.py -> build\\lib.win-amd64-3.8\\pandas\\tests\\dtypes\\cast\n",
      "  copying pandas\\tests\\dtypes\\cast\\test_construct_ndarray.py -> build\\lib.win-amd64-3.8\\pandas\\tests\\dtypes\\cast\n",
      "  copying pandas\\tests\\dtypes\\cast\\test_construct_object_arr.py -> build\\lib.win-amd64-3.8\\pandas\\tests\\dtypes\\cast\n",
      "  copying pandas\\tests\\dtypes\\cast\\test_convert_objects.py -> build\\lib.win-amd64-3.8\\pandas\\tests\\dtypes\\cast\n",
      "  copying pandas\\tests\\dtypes\\cast\\test_downcast.py -> build\\lib.win-amd64-3.8\\pandas\\tests\\dtypes\\cast\n",
      "  copying pandas\\tests\\dtypes\\cast\\test_find_common_type.py -> build\\lib.win-amd64-3.8\\pandas\\tests\\dtypes\\cast\n",
      "  copying pandas\\tests\\dtypes\\cast\\test_infer_datetimelike.py -> build\\lib.win-amd64-3.8\\pandas\\tests\\dtypes\\cast\n",
      "  copying pandas\\tests\\dtypes\\cast\\test_infer_dtype.py -> build\\lib.win-amd64-3.8\\pandas\\tests\\dtypes\\cast\n",
      "  copying pandas\\tests\\dtypes\\cast\\__init__.py -> build\\lib.win-amd64-3.8\\pandas\\tests\\dtypes\\cast\n",
      "  creating build\\lib.win-amd64-3.8\\pandas\\tests\\extension\\arrow\n",
      "  copying pandas\\tests\\extension\\arrow\\bool.py -> build\\lib.win-amd64-3.8\\pandas\\tests\\extension\\arrow\n",
      "  copying pandas\\tests\\extension\\arrow\\test_bool.py -> build\\lib.win-amd64-3.8\\pandas\\tests\\extension\\arrow\n",
      "  copying pandas\\tests\\extension\\arrow\\__init__.py -> build\\lib.win-amd64-3.8\\pandas\\tests\\extension\\arrow\n",
      "  creating build\\lib.win-amd64-3.8\\pandas\\tests\\extension\\base\n",
      "  copying pandas\\tests\\extension\\base\\base.py -> build\\lib.win-amd64-3.8\\pandas\\tests\\extension\\base\n",
      "  copying pandas\\tests\\extension\\base\\casting.py -> build\\lib.win-amd64-3.8\\pandas\\tests\\extension\\base\n",
      "  copying pandas\\tests\\extension\\base\\constructors.py -> build\\lib.win-amd64-3.8\\pandas\\tests\\extension\\base\n",
      "  copying pandas\\tests\\extension\\base\\dtype.py -> build\\lib.win-amd64-3.8\\pandas\\tests\\extension\\base\n",
      "  copying pandas\\tests\\extension\\base\\getitem.py -> build\\lib.win-amd64-3.8\\pandas\\tests\\extension\\base\n",
      "  copying pandas\\tests\\extension\\base\\groupby.py -> build\\lib.win-amd64-3.8\\pandas\\tests\\extension\\base\n",
      "  copying pandas\\tests\\extension\\base\\interface.py -> build\\lib.win-amd64-3.8\\pandas\\tests\\extension\\base\n",
      "  copying pandas\\tests\\extension\\base\\io.py -> build\\lib.win-amd64-3.8\\pandas\\tests\\extension\\base\n",
      "  copying pandas\\tests\\extension\\base\\methods.py -> build\\lib.win-amd64-3.8\\pandas\\tests\\extension\\base\n",
      "  copying pandas\\tests\\extension\\base\\missing.py -> build\\lib.win-amd64-3.8\\pandas\\tests\\extension\\base\n",
      "  copying pandas\\tests\\extension\\base\\ops.py -> build\\lib.win-amd64-3.8\\pandas\\tests\\extension\\base\n",
      "  copying pandas\\tests\\extension\\base\\printing.py -> build\\lib.win-amd64-3.8\\pandas\\tests\\extension\\base\n",
      "  copying pandas\\tests\\extension\\base\\reduce.py -> build\\lib.win-amd64-3.8\\pandas\\tests\\extension\\base\n",
      "  copying pandas\\tests\\extension\\base\\reshaping.py -> build\\lib.win-amd64-3.8\\pandas\\tests\\extension\\base\n",
      "  copying pandas\\tests\\extension\\base\\setitem.py -> build\\lib.win-amd64-3.8\\pandas\\tests\\extension\\base\n",
      "  copying pandas\\tests\\extension\\base\\__init__.py -> build\\lib.win-amd64-3.8\\pandas\\tests\\extension\\base\n",
      "  creating build\\lib.win-amd64-3.8\\pandas\\tests\\extension\\decimal\n",
      "  copying pandas\\tests\\extension\\decimal\\array.py -> build\\lib.win-amd64-3.8\\pandas\\tests\\extension\\decimal\n",
      "  copying pandas\\tests\\extension\\decimal\\test_decimal.py -> build\\lib.win-amd64-3.8\\pandas\\tests\\extension\\decimal\n",
      "  copying pandas\\tests\\extension\\decimal\\__init__.py -> build\\lib.win-amd64-3.8\\pandas\\tests\\extension\\decimal\n",
      "  creating build\\lib.win-amd64-3.8\\pandas\\tests\\extension\\json\n",
      "  copying pandas\\tests\\extension\\json\\array.py -> build\\lib.win-amd64-3.8\\pandas\\tests\\extension\\json\n",
      "  copying pandas\\tests\\extension\\json\\test_json.py -> build\\lib.win-amd64-3.8\\pandas\\tests\\extension\\json\n",
      "  copying pandas\\tests\\extension\\json\\__init__.py -> build\\lib.win-amd64-3.8\\pandas\\tests\\extension\\json\n",
      "  creating build\\lib.win-amd64-3.8\\pandas\\tests\\extension\\numpy_\n",
      "  copying pandas\\tests\\extension\\numpy_\\conftest.py -> build\\lib.win-amd64-3.8\\pandas\\tests\\extension\\numpy_\n",
      "  copying pandas\\tests\\extension\\numpy_\\test_numpy.py -> build\\lib.win-amd64-3.8\\pandas\\tests\\extension\\numpy_\n",
      "  copying pandas\\tests\\extension\\numpy_\\test_numpy_nested.py -> build\\lib.win-amd64-3.8\\pandas\\tests\\extension\\numpy_\n",
      "  copying pandas\\tests\\extension\\numpy_\\__init__.py -> build\\lib.win-amd64-3.8\\pandas\\tests\\extension\\numpy_\n",
      "  creating build\\lib.win-amd64-3.8\\pandas\\tests\\groupby\\aggregate\n",
      "  copying pandas\\tests\\groupby\\aggregate\\test_aggregate.py -> build\\lib.win-amd64-3.8\\pandas\\tests\\groupby\\aggregate\n",
      "  copying pandas\\tests\\groupby\\aggregate\\test_cython.py -> build\\lib.win-amd64-3.8\\pandas\\tests\\groupby\\aggregate\n",
      "  copying pandas\\tests\\groupby\\aggregate\\test_other.py -> build\\lib.win-amd64-3.8\\pandas\\tests\\groupby\\aggregate\n",
      "  copying pandas\\tests\\groupby\\aggregate\\__init__.py -> build\\lib.win-amd64-3.8\\pandas\\tests\\groupby\\aggregate\n",
      "  creating build\\lib.win-amd64-3.8\\pandas\\tests\\indexes\\datetimes\n",
      "  copying pandas\\tests\\indexes\\datetimes\\test_arithmetic.py -> build\\lib.win-amd64-3.8\\pandas\\tests\\indexes\\datetimes\n",
      "  copying pandas\\tests\\indexes\\datetimes\\test_astype.py -> build\\lib.win-amd64-3.8\\pandas\\tests\\indexes\\datetimes\n",
      "  copying pandas\\tests\\indexes\\datetimes\\test_construction.py -> build\\lib.win-amd64-3.8\\pandas\\tests\\indexes\\datetimes\n",
      "  copying pandas\\tests\\indexes\\datetimes\\test_datetime.py -> build\\lib.win-amd64-3.8\\pandas\\tests\\indexes\\datetimes\n",
      "  copying pandas\\tests\\indexes\\datetimes\\test_datetimelike.py -> build\\lib.win-amd64-3.8\\pandas\\tests\\indexes\\datetimes\n",
      "  copying pandas\\tests\\indexes\\datetimes\\test_date_range.py -> build\\lib.win-amd64-3.8\\pandas\\tests\\indexes\\datetimes\n",
      "  copying pandas\\tests\\indexes\\datetimes\\test_formats.py -> build\\lib.win-amd64-3.8\\pandas\\tests\\indexes\\datetimes\n",
      "  copying pandas\\tests\\indexes\\datetimes\\test_indexing.py -> build\\lib.win-amd64-3.8\\pandas\\tests\\indexes\\datetimes\n",
      "  copying pandas\\tests\\indexes\\datetimes\\test_misc.py -> build\\lib.win-amd64-3.8\\pandas\\tests\\indexes\\datetimes\n",
      "  copying pandas\\tests\\indexes\\datetimes\\test_missing.py -> build\\lib.win-amd64-3.8\\pandas\\tests\\indexes\\datetimes\n",
      "  copying pandas\\tests\\indexes\\datetimes\\test_ops.py -> build\\lib.win-amd64-3.8\\pandas\\tests\\indexes\\datetimes\n",
      "  copying pandas\\tests\\indexes\\datetimes\\test_partial_slicing.py -> build\\lib.win-amd64-3.8\\pandas\\tests\\indexes\\datetimes\n",
      "  copying pandas\\tests\\indexes\\datetimes\\test_scalar_compat.py -> build\\lib.win-amd64-3.8\\pandas\\tests\\indexes\\datetimes\n",
      "  copying pandas\\tests\\indexes\\datetimes\\test_setops.py -> build\\lib.win-amd64-3.8\\pandas\\tests\\indexes\\datetimes\n",
      "  copying pandas\\tests\\indexes\\datetimes\\test_timezones.py -> build\\lib.win-amd64-3.8\\pandas\\tests\\indexes\\datetimes\n",
      "  copying pandas\\tests\\indexes\\datetimes\\test_tools.py -> build\\lib.win-amd64-3.8\\pandas\\tests\\indexes\\datetimes\n",
      "  copying pandas\\tests\\indexes\\datetimes\\__init__.py -> build\\lib.win-amd64-3.8\\pandas\\tests\\indexes\\datetimes\n",
      "  creating build\\lib.win-amd64-3.8\\pandas\\tests\\indexes\\interval\n",
      "  copying pandas\\tests\\indexes\\interval\\test_astype.py -> build\\lib.win-amd64-3.8\\pandas\\tests\\indexes\\interval\n",
      "  copying pandas\\tests\\indexes\\interval\\test_construction.py -> build\\lib.win-amd64-3.8\\pandas\\tests\\indexes\\interval\n",
      "  copying pandas\\tests\\indexes\\interval\\test_interval.py -> build\\lib.win-amd64-3.8\\pandas\\tests\\indexes\\interval\n",
      "  copying pandas\\tests\\indexes\\interval\\test_interval_new.py -> build\\lib.win-amd64-3.8\\pandas\\tests\\indexes\\interval\n",
      "  copying pandas\\tests\\indexes\\interval\\test_interval_range.py -> build\\lib.win-amd64-3.8\\pandas\\tests\\indexes\\interval\n",
      "  copying pandas\\tests\\indexes\\interval\\test_interval_tree.py -> build\\lib.win-amd64-3.8\\pandas\\tests\\indexes\\interval\n",
      "  copying pandas\\tests\\indexes\\interval\\__init__.py -> build\\lib.win-amd64-3.8\\pandas\\tests\\indexes\\interval\n",
      "  creating build\\lib.win-amd64-3.8\\pandas\\tests\\indexes\\multi\n",
      "  copying pandas\\tests\\indexes\\multi\\conftest.py -> build\\lib.win-amd64-3.8\\pandas\\tests\\indexes\\multi\n",
      "  copying pandas\\tests\\indexes\\multi\\test_analytics.py -> build\\lib.win-amd64-3.8\\pandas\\tests\\indexes\\multi\n",
      "  copying pandas\\tests\\indexes\\multi\\test_astype.py -> build\\lib.win-amd64-3.8\\pandas\\tests\\indexes\\multi\n",
      "  copying pandas\\tests\\indexes\\multi\\test_compat.py -> build\\lib.win-amd64-3.8\\pandas\\tests\\indexes\\multi\n",
      "  copying pandas\\tests\\indexes\\multi\\test_constructor.py -> build\\lib.win-amd64-3.8\\pandas\\tests\\indexes\\multi\n",
      "  copying pandas\\tests\\indexes\\multi\\test_contains.py -> build\\lib.win-amd64-3.8\\pandas\\tests\\indexes\\multi\n",
      "  copying pandas\\tests\\indexes\\multi\\test_conversion.py -> build\\lib.win-amd64-3.8\\pandas\\tests\\indexes\\multi\n",
      "  copying pandas\\tests\\indexes\\multi\\test_copy.py -> build\\lib.win-amd64-3.8\\pandas\\tests\\indexes\\multi\n",
      "  copying pandas\\tests\\indexes\\multi\\test_drop.py -> build\\lib.win-amd64-3.8\\pandas\\tests\\indexes\\multi\n",
      "  copying pandas\\tests\\indexes\\multi\\test_duplicates.py -> build\\lib.win-amd64-3.8\\pandas\\tests\\indexes\\multi\n",
      "  copying pandas\\tests\\indexes\\multi\\test_equivalence.py -> build\\lib.win-amd64-3.8\\pandas\\tests\\indexes\\multi\n",
      "  copying pandas\\tests\\indexes\\multi\\test_format.py -> build\\lib.win-amd64-3.8\\pandas\\tests\\indexes\\multi\n",
      "  copying pandas\\tests\\indexes\\multi\\test_get_set.py -> build\\lib.win-amd64-3.8\\pandas\\tests\\indexes\\multi\n",
      "  copying pandas\\tests\\indexes\\multi\\test_indexing.py -> build\\lib.win-amd64-3.8\\pandas\\tests\\indexes\\multi\n",
      "  copying pandas\\tests\\indexes\\multi\\test_integrity.py -> build\\lib.win-amd64-3.8\\pandas\\tests\\indexes\\multi\n",
      "  copying pandas\\tests\\indexes\\multi\\test_join.py -> build\\lib.win-amd64-3.8\\pandas\\tests\\indexes\\multi\n",
      "  copying pandas\\tests\\indexes\\multi\\test_missing.py -> build\\lib.win-amd64-3.8\\pandas\\tests\\indexes\\multi\n",
      "  copying pandas\\tests\\indexes\\multi\\test_monotonic.py -> build\\lib.win-amd64-3.8\\pandas\\tests\\indexes\\multi\n",
      "  copying pandas\\tests\\indexes\\multi\\test_names.py -> build\\lib.win-amd64-3.8\\pandas\\tests\\indexes\\multi\n",
      "  copying pandas\\tests\\indexes\\multi\\test_partial_indexing.py -> build\\lib.win-amd64-3.8\\pandas\\tests\\indexes\\multi\n",
      "  copying pandas\\tests\\indexes\\multi\\test_reindex.py -> build\\lib.win-amd64-3.8\\pandas\\tests\\indexes\\multi\n",
      "  copying pandas\\tests\\indexes\\multi\\test_reshape.py -> build\\lib.win-amd64-3.8\\pandas\\tests\\indexes\\multi\n",
      "  copying pandas\\tests\\indexes\\multi\\test_set_ops.py -> build\\lib.win-amd64-3.8\\pandas\\tests\\indexes\\multi\n",
      "  copying pandas\\tests\\indexes\\multi\\test_sorting.py -> build\\lib.win-amd64-3.8\\pandas\\tests\\indexes\\multi\n",
      "  copying pandas\\tests\\indexes\\multi\\__init__.py -> build\\lib.win-amd64-3.8\\pandas\\tests\\indexes\\multi\n",
      "  creating build\\lib.win-amd64-3.8\\pandas\\tests\\indexes\\period\n",
      "  copying pandas\\tests\\indexes\\period\\test_arithmetic.py -> build\\lib.win-amd64-3.8\\pandas\\tests\\indexes\\period\n",
      "  copying pandas\\tests\\indexes\\period\\test_asfreq.py -> build\\lib.win-amd64-3.8\\pandas\\tests\\indexes\\period\n",
      "  copying pandas\\tests\\indexes\\period\\test_astype.py -> build\\lib.win-amd64-3.8\\pandas\\tests\\indexes\\period\n",
      "  copying pandas\\tests\\indexes\\period\\test_construction.py -> build\\lib.win-amd64-3.8\\pandas\\tests\\indexes\\period\n",
      "  copying pandas\\tests\\indexes\\period\\test_formats.py -> build\\lib.win-amd64-3.8\\pandas\\tests\\indexes\\period\n",
      "  copying pandas\\tests\\indexes\\period\\test_indexing.py -> build\\lib.win-amd64-3.8\\pandas\\tests\\indexes\\period\n",
      "  copying pandas\\tests\\indexes\\period\\test_ops.py -> build\\lib.win-amd64-3.8\\pandas\\tests\\indexes\\period\n",
      "  copying pandas\\tests\\indexes\\period\\test_partial_slicing.py -> build\\lib.win-amd64-3.8\\pandas\\tests\\indexes\\period\n",
      "  copying pandas\\tests\\indexes\\period\\test_period.py -> build\\lib.win-amd64-3.8\\pandas\\tests\\indexes\\period\n",
      "  copying pandas\\tests\\indexes\\period\\test_period_range.py -> build\\lib.win-amd64-3.8\\pandas\\tests\\indexes\\period\n",
      "  copying pandas\\tests\\indexes\\period\\test_scalar_compat.py -> build\\lib.win-amd64-3.8\\pandas\\tests\\indexes\\period\n",
      "  copying pandas\\tests\\indexes\\period\\test_setops.py -> build\\lib.win-amd64-3.8\\pandas\\tests\\indexes\\period\n",
      "  copying pandas\\tests\\indexes\\period\\test_tools.py -> build\\lib.win-amd64-3.8\\pandas\\tests\\indexes\\period\n",
      "  copying pandas\\tests\\indexes\\period\\__init__.py -> build\\lib.win-amd64-3.8\\pandas\\tests\\indexes\\period\n",
      "  creating build\\lib.win-amd64-3.8\\pandas\\tests\\indexes\\timedeltas\n",
      "  copying pandas\\tests\\indexes\\timedeltas\\test_arithmetic.py -> build\\lib.win-amd64-3.8\\pandas\\tests\\indexes\\timedeltas\n",
      "  copying pandas\\tests\\indexes\\timedeltas\\test_astype.py -> build\\lib.win-amd64-3.8\\pandas\\tests\\indexes\\timedeltas\n",
      "  copying pandas\\tests\\indexes\\timedeltas\\test_construction.py -> build\\lib.win-amd64-3.8\\pandas\\tests\\indexes\\timedeltas\n",
      "  copying pandas\\tests\\indexes\\timedeltas\\test_formats.py -> build\\lib.win-amd64-3.8\\pandas\\tests\\indexes\\timedeltas\n",
      "  copying pandas\\tests\\indexes\\timedeltas\\test_indexing.py -> build\\lib.win-amd64-3.8\\pandas\\tests\\indexes\\timedeltas\n",
      "  copying pandas\\tests\\indexes\\timedeltas\\test_ops.py -> build\\lib.win-amd64-3.8\\pandas\\tests\\indexes\\timedeltas\n",
      "  copying pandas\\tests\\indexes\\timedeltas\\test_partial_slicing.py -> build\\lib.win-amd64-3.8\\pandas\\tests\\indexes\\timedeltas\n",
      "  copying pandas\\tests\\indexes\\timedeltas\\test_scalar_compat.py -> build\\lib.win-amd64-3.8\\pandas\\tests\\indexes\\timedeltas\n",
      "  copying pandas\\tests\\indexes\\timedeltas\\test_setops.py -> build\\lib.win-amd64-3.8\\pandas\\tests\\indexes\\timedeltas\n",
      "  copying pandas\\tests\\indexes\\timedeltas\\test_timedelta.py -> build\\lib.win-amd64-3.8\\pandas\\tests\\indexes\\timedeltas\n",
      "  copying pandas\\tests\\indexes\\timedeltas\\test_timedelta_range.py -> build\\lib.win-amd64-3.8\\pandas\\tests\\indexes\\timedeltas\n",
      "  copying pandas\\tests\\indexes\\timedeltas\\test_tools.py -> build\\lib.win-amd64-3.8\\pandas\\tests\\indexes\\timedeltas\n",
      "  copying pandas\\tests\\indexes\\timedeltas\\__init__.py -> build\\lib.win-amd64-3.8\\pandas\\tests\\indexes\\timedeltas\n",
      "  creating build\\lib.win-amd64-3.8\\pandas\\tests\\indexing\\interval\n",
      "  copying pandas\\tests\\indexing\\interval\\test_interval.py -> build\\lib.win-amd64-3.8\\pandas\\tests\\indexing\\interval\n",
      "  copying pandas\\tests\\indexing\\interval\\test_interval_new.py -> build\\lib.win-amd64-3.8\\pandas\\tests\\indexing\\interval\n",
      "  copying pandas\\tests\\indexing\\interval\\__init__.py -> build\\lib.win-amd64-3.8\\pandas\\tests\\indexing\\interval\n",
      "  creating build\\lib.win-amd64-3.8\\pandas\\tests\\indexing\\multiindex\n",
      "  copying pandas\\tests\\indexing\\multiindex\\conftest.py -> build\\lib.win-amd64-3.8\\pandas\\tests\\indexing\\multiindex\n",
      "  copying pandas\\tests\\indexing\\multiindex\\test_chaining_and_caching.py -> build\\lib.win-amd64-3.8\\pandas\\tests\\indexing\\multiindex\n",
      "  copying pandas\\tests\\indexing\\multiindex\\test_datetime.py -> build\\lib.win-amd64-3.8\\pandas\\tests\\indexing\\multiindex\n",
      "  copying pandas\\tests\\indexing\\multiindex\\test_getitem.py -> build\\lib.win-amd64-3.8\\pandas\\tests\\indexing\\multiindex\n",
      "  copying pandas\\tests\\indexing\\multiindex\\test_iloc.py -> build\\lib.win-amd64-3.8\\pandas\\tests\\indexing\\multiindex\n",
      "  copying pandas\\tests\\indexing\\multiindex\\test_indexing_slow.py -> build\\lib.win-amd64-3.8\\pandas\\tests\\indexing\\multiindex\n",
      "  copying pandas\\tests\\indexing\\multiindex\\test_ix.py -> build\\lib.win-amd64-3.8\\pandas\\tests\\indexing\\multiindex\n",
      "  copying pandas\\tests\\indexing\\multiindex\\test_loc.py -> build\\lib.win-amd64-3.8\\pandas\\tests\\indexing\\multiindex\n",
      "  copying pandas\\tests\\indexing\\multiindex\\test_multiindex.py -> build\\lib.win-amd64-3.8\\pandas\\tests\\indexing\\multiindex\n",
      "  copying pandas\\tests\\indexing\\multiindex\\test_panel.py -> build\\lib.win-amd64-3.8\\pandas\\tests\\indexing\\multiindex\n",
      "  copying pandas\\tests\\indexing\\multiindex\\test_partial.py -> build\\lib.win-amd64-3.8\\pandas\\tests\\indexing\\multiindex\n",
      "  copying pandas\\tests\\indexing\\multiindex\\test_setitem.py -> build\\lib.win-amd64-3.8\\pandas\\tests\\indexing\\multiindex\n",
      "  copying pandas\\tests\\indexing\\multiindex\\test_set_ops.py -> build\\lib.win-amd64-3.8\\pandas\\tests\\indexing\\multiindex\n",
      "  copying pandas\\tests\\indexing\\multiindex\\test_slice.py -> build\\lib.win-amd64-3.8\\pandas\\tests\\indexing\\multiindex\n",
      "  copying pandas\\tests\\indexing\\multiindex\\test_sorted.py -> build\\lib.win-amd64-3.8\\pandas\\tests\\indexing\\multiindex\n",
      "  copying pandas\\tests\\indexing\\multiindex\\test_xs.py -> build\\lib.win-amd64-3.8\\pandas\\tests\\indexing\\multiindex\n",
      "  copying pandas\\tests\\indexing\\multiindex\\__init__.py -> build\\lib.win-amd64-3.8\\pandas\\tests\\indexing\\multiindex\n",
      "  creating build\\lib.win-amd64-3.8\\pandas\\tests\\io\\formats\n",
      "  copying pandas\\tests\\io\\formats\\test_console.py -> build\\lib.win-amd64-3.8\\pandas\\tests\\io\\formats\n",
      "  copying pandas\\tests\\io\\formats\\test_css.py -> build\\lib.win-amd64-3.8\\pandas\\tests\\io\\formats\n",
      "  copying pandas\\tests\\io\\formats\\test_eng_formatting.py -> build\\lib.win-amd64-3.8\\pandas\\tests\\io\\formats\n",
      "  copying pandas\\tests\\io\\formats\\test_format.py -> build\\lib.win-amd64-3.8\\pandas\\tests\\io\\formats\n",
      "  copying pandas\\tests\\io\\formats\\test_printing.py -> build\\lib.win-amd64-3.8\\pandas\\tests\\io\\formats\n",
      "  copying pandas\\tests\\io\\formats\\test_style.py -> build\\lib.win-amd64-3.8\\pandas\\tests\\io\\formats\n",
      "  copying pandas\\tests\\io\\formats\\test_to_csv.py -> build\\lib.win-amd64-3.8\\pandas\\tests\\io\\formats\n",
      "  copying pandas\\tests\\io\\formats\\test_to_excel.py -> build\\lib.win-amd64-3.8\\pandas\\tests\\io\\formats\n",
      "  copying pandas\\tests\\io\\formats\\test_to_html.py -> build\\lib.win-amd64-3.8\\pandas\\tests\\io\\formats\n",
      "  copying pandas\\tests\\io\\formats\\test_to_latex.py -> build\\lib.win-amd64-3.8\\pandas\\tests\\io\\formats\n",
      "  copying pandas\\tests\\io\\formats\\__init__.py -> build\\lib.win-amd64-3.8\\pandas\\tests\\io\\formats\n",
      "  creating build\\lib.win-amd64-3.8\\pandas\\tests\\io\\json\n",
      "  copying pandas\\tests\\io\\json\\test_compression.py -> build\\lib.win-amd64-3.8\\pandas\\tests\\io\\json\n",
      "  copying pandas\\tests\\io\\json\\test_json_table_schema.py -> build\\lib.win-amd64-3.8\\pandas\\tests\\io\\json\n",
      "  copying pandas\\tests\\io\\json\\test_normalize.py -> build\\lib.win-amd64-3.8\\pandas\\tests\\io\\json\n",
      "  copying pandas\\tests\\io\\json\\test_pandas.py -> build\\lib.win-amd64-3.8\\pandas\\tests\\io\\json\n",
      "  copying pandas\\tests\\io\\json\\test_readlines.py -> build\\lib.win-amd64-3.8\\pandas\\tests\\io\\json\n",
      "  copying pandas\\tests\\io\\json\\test_ujson.py -> build\\lib.win-amd64-3.8\\pandas\\tests\\io\\json\n",
      "  copying pandas\\tests\\io\\json\\__init__.py -> build\\lib.win-amd64-3.8\\pandas\\tests\\io\\json\n",
      "  creating build\\lib.win-amd64-3.8\\pandas\\tests\\io\\msgpack\n",
      "  copying pandas\\tests\\io\\msgpack\\common.py -> build\\lib.win-amd64-3.8\\pandas\\tests\\io\\msgpack\n",
      "  copying pandas\\tests\\io\\msgpack\\test_buffer.py -> build\\lib.win-amd64-3.8\\pandas\\tests\\io\\msgpack\n",
      "  copying pandas\\tests\\io\\msgpack\\test_case.py -> build\\lib.win-amd64-3.8\\pandas\\tests\\io\\msgpack\n",
      "  copying pandas\\tests\\io\\msgpack\\test_except.py -> build\\lib.win-amd64-3.8\\pandas\\tests\\io\\msgpack\n",
      "  copying pandas\\tests\\io\\msgpack\\test_extension.py -> build\\lib.win-amd64-3.8\\pandas\\tests\\io\\msgpack\n",
      "  copying pandas\\tests\\io\\msgpack\\test_format.py -> build\\lib.win-amd64-3.8\\pandas\\tests\\io\\msgpack\n",
      "  copying pandas\\tests\\io\\msgpack\\test_limits.py -> build\\lib.win-amd64-3.8\\pandas\\tests\\io\\msgpack\n",
      "  copying pandas\\tests\\io\\msgpack\\test_newspec.py -> build\\lib.win-amd64-3.8\\pandas\\tests\\io\\msgpack\n",
      "  copying pandas\\tests\\io\\msgpack\\test_obj.py -> build\\lib.win-amd64-3.8\\pandas\\tests\\io\\msgpack\n",
      "  copying pandas\\tests\\io\\msgpack\\test_pack.py -> build\\lib.win-amd64-3.8\\pandas\\tests\\io\\msgpack\n",
      "  copying pandas\\tests\\io\\msgpack\\test_read_size.py -> build\\lib.win-amd64-3.8\\pandas\\tests\\io\\msgpack\n",
      "  copying pandas\\tests\\io\\msgpack\\test_seq.py -> build\\lib.win-amd64-3.8\\pandas\\tests\\io\\msgpack\n",
      "  copying pandas\\tests\\io\\msgpack\\test_sequnpack.py -> build\\lib.win-amd64-3.8\\pandas\\tests\\io\\msgpack\n",
      "  copying pandas\\tests\\io\\msgpack\\test_subtype.py -> build\\lib.win-amd64-3.8\\pandas\\tests\\io\\msgpack\n",
      "  copying pandas\\tests\\io\\msgpack\\test_unpack.py -> build\\lib.win-amd64-3.8\\pandas\\tests\\io\\msgpack\n",
      "  copying pandas\\tests\\io\\msgpack\\test_unpack_raw.py -> build\\lib.win-amd64-3.8\\pandas\\tests\\io\\msgpack\n",
      "  copying pandas\\tests\\io\\msgpack\\__init__.py -> build\\lib.win-amd64-3.8\\pandas\\tests\\io\\msgpack\n",
      "  creating build\\lib.win-amd64-3.8\\pandas\\tests\\io\\parser\n",
      "  copying pandas\\tests\\io\\parser\\conftest.py -> build\\lib.win-amd64-3.8\\pandas\\tests\\io\\parser\n",
      "  copying pandas\\tests\\io\\parser\\test_comment.py -> build\\lib.win-amd64-3.8\\pandas\\tests\\io\\parser\n",
      "  copying pandas\\tests\\io\\parser\\test_common.py -> build\\lib.win-amd64-3.8\\pandas\\tests\\io\\parser\n",
      "  copying pandas\\tests\\io\\parser\\test_compression.py -> build\\lib.win-amd64-3.8\\pandas\\tests\\io\\parser\n",
      "  copying pandas\\tests\\io\\parser\\test_converters.py -> build\\lib.win-amd64-3.8\\pandas\\tests\\io\\parser\n",
      "  copying pandas\\tests\\io\\parser\\test_c_parser_only.py -> build\\lib.win-amd64-3.8\\pandas\\tests\\io\\parser\n",
      "  copying pandas\\tests\\io\\parser\\test_dialect.py -> build\\lib.win-amd64-3.8\\pandas\\tests\\io\\parser\n",
      "  copying pandas\\tests\\io\\parser\\test_dtypes.py -> build\\lib.win-amd64-3.8\\pandas\\tests\\io\\parser\n",
      "  copying pandas\\tests\\io\\parser\\test_header.py -> build\\lib.win-amd64-3.8\\pandas\\tests\\io\\parser\n",
      "  copying pandas\\tests\\io\\parser\\test_index_col.py -> build\\lib.win-amd64-3.8\\pandas\\tests\\io\\parser\n",
      "  copying pandas\\tests\\io\\parser\\test_mangle_dupes.py -> build\\lib.win-amd64-3.8\\pandas\\tests\\io\\parser\n",
      "  copying pandas\\tests\\io\\parser\\test_multi_thread.py -> build\\lib.win-amd64-3.8\\pandas\\tests\\io\\parser\n",
      "  copying pandas\\tests\\io\\parser\\test_na_values.py -> build\\lib.win-amd64-3.8\\pandas\\tests\\io\\parser\n",
      "  copying pandas\\tests\\io\\parser\\test_network.py -> build\\lib.win-amd64-3.8\\pandas\\tests\\io\\parser\n",
      "  copying pandas\\tests\\io\\parser\\test_parse_dates.py -> build\\lib.win-amd64-3.8\\pandas\\tests\\io\\parser\n",
      "  copying pandas\\tests\\io\\parser\\test_python_parser_only.py -> build\\lib.win-amd64-3.8\\pandas\\tests\\io\\parser\n",
      "  copying pandas\\tests\\io\\parser\\test_quoting.py -> build\\lib.win-amd64-3.8\\pandas\\tests\\io\\parser\n",
      "  copying pandas\\tests\\io\\parser\\test_read_fwf.py -> build\\lib.win-amd64-3.8\\pandas\\tests\\io\\parser\n",
      "  copying pandas\\tests\\io\\parser\\test_skiprows.py -> build\\lib.win-amd64-3.8\\pandas\\tests\\io\\parser\n",
      "  copying pandas\\tests\\io\\parser\\test_textreader.py -> build\\lib.win-amd64-3.8\\pandas\\tests\\io\\parser\n",
      "  copying pandas\\tests\\io\\parser\\test_unsupported.py -> build\\lib.win-amd64-3.8\\pandas\\tests\\io\\parser\n",
      "  copying pandas\\tests\\io\\parser\\test_usecols.py -> build\\lib.win-amd64-3.8\\pandas\\tests\\io\\parser\n",
      "  copying pandas\\tests\\io\\parser\\__init__.py -> build\\lib.win-amd64-3.8\\pandas\\tests\\io\\parser\n",
      "  creating build\\lib.win-amd64-3.8\\pandas\\tests\\io\\sas\n",
      "  copying pandas\\tests\\io\\sas\\test_sas.py -> build\\lib.win-amd64-3.8\\pandas\\tests\\io\\sas\n",
      "  copying pandas\\tests\\io\\sas\\test_sas7bdat.py -> build\\lib.win-amd64-3.8\\pandas\\tests\\io\\sas\n",
      "  copying pandas\\tests\\io\\sas\\test_xport.py -> build\\lib.win-amd64-3.8\\pandas\\tests\\io\\sas\n",
      "  copying pandas\\tests\\io\\sas\\__init__.py -> build\\lib.win-amd64-3.8\\pandas\\tests\\io\\sas\n",
      "  creating build\\lib.win-amd64-3.8\\pandas\\tests\\reshape\\merge\n",
      "  copying pandas\\tests\\reshape\\merge\\test_join.py -> build\\lib.win-amd64-3.8\\pandas\\tests\\reshape\\merge\n",
      "  copying pandas\\tests\\reshape\\merge\\test_merge.py -> build\\lib.win-amd64-3.8\\pandas\\tests\\reshape\\merge\n",
      "  copying pandas\\tests\\reshape\\merge\\test_merge_asof.py -> build\\lib.win-amd64-3.8\\pandas\\tests\\reshape\\merge\n",
      "  copying pandas\\tests\\reshape\\merge\\test_merge_index_as_string.py -> build\\lib.win-amd64-3.8\\pandas\\tests\\reshape\\merge\n",
      "  copying pandas\\tests\\reshape\\merge\\test_merge_ordered.py -> build\\lib.win-amd64-3.8\\pandas\\tests\\reshape\\merge\n",
      "  copying pandas\\tests\\reshape\\merge\\test_multi.py -> build\\lib.win-amd64-3.8\\pandas\\tests\\reshape\\merge\n",
      "  copying pandas\\tests\\reshape\\merge\\__init__.py -> build\\lib.win-amd64-3.8\\pandas\\tests\\reshape\\merge\n",
      "  creating build\\lib.win-amd64-3.8\\pandas\\tests\\scalar\\interval\n",
      "  copying pandas\\tests\\scalar\\interval\\test_interval.py -> build\\lib.win-amd64-3.8\\pandas\\tests\\scalar\\interval\n",
      "  copying pandas\\tests\\scalar\\interval\\test_ops.py -> build\\lib.win-amd64-3.8\\pandas\\tests\\scalar\\interval\n",
      "  copying pandas\\tests\\scalar\\interval\\__init__.py -> build\\lib.win-amd64-3.8\\pandas\\tests\\scalar\\interval\n",
      "  creating build\\lib.win-amd64-3.8\\pandas\\tests\\scalar\\period\n",
      "  copying pandas\\tests\\scalar\\period\\test_asfreq.py -> build\\lib.win-amd64-3.8\\pandas\\tests\\scalar\\period\n",
      "  copying pandas\\tests\\scalar\\period\\test_period.py -> build\\lib.win-amd64-3.8\\pandas\\tests\\scalar\\period\n",
      "  copying pandas\\tests\\scalar\\period\\__init__.py -> build\\lib.win-amd64-3.8\\pandas\\tests\\scalar\\period\n",
      "  creating build\\lib.win-amd64-3.8\\pandas\\tests\\scalar\\timedelta\n",
      "  copying pandas\\tests\\scalar\\timedelta\\test_arithmetic.py -> build\\lib.win-amd64-3.8\\pandas\\tests\\scalar\\timedelta\n",
      "  copying pandas\\tests\\scalar\\timedelta\\test_construction.py -> build\\lib.win-amd64-3.8\\pandas\\tests\\scalar\\timedelta\n",
      "  copying pandas\\tests\\scalar\\timedelta\\test_formats.py -> build\\lib.win-amd64-3.8\\pandas\\tests\\scalar\\timedelta\n",
      "  copying pandas\\tests\\scalar\\timedelta\\test_timedelta.py -> build\\lib.win-amd64-3.8\\pandas\\tests\\scalar\\timedelta\n",
      "  copying pandas\\tests\\scalar\\timedelta\\__init__.py -> build\\lib.win-amd64-3.8\\pandas\\tests\\scalar\\timedelta\n",
      "  creating build\\lib.win-amd64-3.8\\pandas\\tests\\scalar\\timestamp\n",
      "  copying pandas\\tests\\scalar\\timestamp\\test_arithmetic.py -> build\\lib.win-amd64-3.8\\pandas\\tests\\scalar\\timestamp\n",
      "  copying pandas\\tests\\scalar\\timestamp\\test_comparisons.py -> build\\lib.win-amd64-3.8\\pandas\\tests\\scalar\\timestamp\n",
      "  copying pandas\\tests\\scalar\\timestamp\\test_rendering.py -> build\\lib.win-amd64-3.8\\pandas\\tests\\scalar\\timestamp\n",
      "  copying pandas\\tests\\scalar\\timestamp\\test_timestamp.py -> build\\lib.win-amd64-3.8\\pandas\\tests\\scalar\\timestamp\n",
      "  copying pandas\\tests\\scalar\\timestamp\\test_timezones.py -> build\\lib.win-amd64-3.8\\pandas\\tests\\scalar\\timestamp\n",
      "  copying pandas\\tests\\scalar\\timestamp\\test_unary_ops.py -> build\\lib.win-amd64-3.8\\pandas\\tests\\scalar\\timestamp\n",
      "  copying pandas\\tests\\scalar\\timestamp\\__init__.py -> build\\lib.win-amd64-3.8\\pandas\\tests\\scalar\\timestamp\n",
      "  creating build\\lib.win-amd64-3.8\\pandas\\tests\\series\\indexing\n",
      "  copying pandas\\tests\\series\\indexing\\conftest.py -> build\\lib.win-amd64-3.8\\pandas\\tests\\series\\indexing\n",
      "  copying pandas\\tests\\series\\indexing\\test_alter_index.py -> build\\lib.win-amd64-3.8\\pandas\\tests\\series\\indexing\n",
      "  copying pandas\\tests\\series\\indexing\\test_boolean.py -> build\\lib.win-amd64-3.8\\pandas\\tests\\series\\indexing\n",
      "  copying pandas\\tests\\series\\indexing\\test_callable.py -> build\\lib.win-amd64-3.8\\pandas\\tests\\series\\indexing\n",
      "  copying pandas\\tests\\series\\indexing\\test_datetime.py -> build\\lib.win-amd64-3.8\\pandas\\tests\\series\\indexing\n",
      "  copying pandas\\tests\\series\\indexing\\test_iloc.py -> build\\lib.win-amd64-3.8\\pandas\\tests\\series\\indexing\n",
      "  copying pandas\\tests\\series\\indexing\\test_indexing.py -> build\\lib.win-amd64-3.8\\pandas\\tests\\series\\indexing\n",
      "  copying pandas\\tests\\series\\indexing\\test_loc.py -> build\\lib.win-amd64-3.8\\pandas\\tests\\series\\indexing\n",
      "  copying pandas\\tests\\series\\indexing\\test_numeric.py -> build\\lib.win-amd64-3.8\\pandas\\tests\\series\\indexing\n",
      "  copying pandas\\tests\\series\\indexing\\__init__.py -> build\\lib.win-amd64-3.8\\pandas\\tests\\series\\indexing\n",
      "  creating build\\lib.win-amd64-3.8\\pandas\\tests\\sparse\\frame\n",
      "  copying pandas\\tests\\sparse\\frame\\conftest.py -> build\\lib.win-amd64-3.8\\pandas\\tests\\sparse\\frame\n",
      "  copying pandas\\tests\\sparse\\frame\\test_analytics.py -> build\\lib.win-amd64-3.8\\pandas\\tests\\sparse\\frame\n",
      "  copying pandas\\tests\\sparse\\frame\\test_apply.py -> build\\lib.win-amd64-3.8\\pandas\\tests\\sparse\\frame\n",
      "  copying pandas\\tests\\sparse\\frame\\test_frame.py -> build\\lib.win-amd64-3.8\\pandas\\tests\\sparse\\frame\n",
      "  copying pandas\\tests\\sparse\\frame\\test_indexing.py -> build\\lib.win-amd64-3.8\\pandas\\tests\\sparse\\frame\n",
      "  copying pandas\\tests\\sparse\\frame\\test_to_csv.py -> build\\lib.win-amd64-3.8\\pandas\\tests\\sparse\\frame\n",
      "  copying pandas\\tests\\sparse\\frame\\test_to_from_scipy.py -> build\\lib.win-amd64-3.8\\pandas\\tests\\sparse\\frame\n",
      "  copying pandas\\tests\\sparse\\frame\\__init__.py -> build\\lib.win-amd64-3.8\\pandas\\tests\\sparse\\frame\n",
      "  creating build\\lib.win-amd64-3.8\\pandas\\tests\\sparse\\series\n",
      "  copying pandas\\tests\\sparse\\series\\test_indexing.py -> build\\lib.win-amd64-3.8\\pandas\\tests\\sparse\\series\n",
      "  copying pandas\\tests\\sparse\\series\\test_series.py -> build\\lib.win-amd64-3.8\\pandas\\tests\\sparse\\series\n",
      "  copying pandas\\tests\\sparse\\series\\__init__.py -> build\\lib.win-amd64-3.8\\pandas\\tests\\sparse\\series\n",
      "  creating build\\lib.win-amd64-3.8\\pandas\\tests\\tseries\\offsets\n",
      "  copying pandas\\tests\\tseries\\offsets\\common.py -> build\\lib.win-amd64-3.8\\pandas\\tests\\tseries\\offsets\n",
      "  copying pandas\\tests\\tseries\\offsets\\conftest.py -> build\\lib.win-amd64-3.8\\pandas\\tests\\tseries\\offsets\n",
      "  copying pandas\\tests\\tseries\\offsets\\test_fiscal.py -> build\\lib.win-amd64-3.8\\pandas\\tests\\tseries\\offsets\n",
      "  copying pandas\\tests\\tseries\\offsets\\test_offsets.py -> build\\lib.win-amd64-3.8\\pandas\\tests\\tseries\\offsets\n",
      "  copying pandas\\tests\\tseries\\offsets\\test_offsets_properties.py -> build\\lib.win-amd64-3.8\\pandas\\tests\\tseries\\offsets\n",
      "  copying pandas\\tests\\tseries\\offsets\\test_ticks.py -> build\\lib.win-amd64-3.8\\pandas\\tests\\tseries\\offsets\n",
      "  copying pandas\\tests\\tseries\\offsets\\test_yqm_offsets.py -> build\\lib.win-amd64-3.8\\pandas\\tests\\tseries\\offsets\n",
      "  copying pandas\\tests\\tseries\\offsets\\__init__.py -> build\\lib.win-amd64-3.8\\pandas\\tests\\tseries\\offsets\n",
      "  creating build\\lib.win-amd64-3.8\\pandas\\_libs\\tslibs\n",
      "  copying pandas\\_libs\\tslibs\\__init__.py -> build\\lib.win-amd64-3.8\\pandas\\_libs\\tslibs\n",
      "  creating build\\lib.win-amd64-3.8\\pandas\\io\\formats\\templates\n",
      "  copying pandas\\io\\formats\\templates\\html.tpl -> build\\lib.win-amd64-3.8\\pandas\\io\\formats\\templates\n",
      "  UPDATING build\\lib.win-amd64-3.8\\pandas/_version.py\n",
      "  set build\\lib.win-amd64-3.8\\pandas/_version.py to '0.24.2'\n",
      "  running build_ext\n",
      "  building 'pandas._libs.algos' extension\n",
      "  error: Microsoft Visual C++ 14.0 is required. Get it with \"Build Tools for Visual Studio\": https://visualstudio.microsoft.com/downloads/\n",
      "  ----------------------------------------\n",
      "  ERROR: Failed building wheel for pandas\n",
      "DEPRECATION: Could not build wheels for pandas which do not use PEP 517. pip will fall back to legacy 'setup.py install' for these. pip 21.0 will remove support for this functionality. A possible replacement is to fix the wheel build issue reported above. You can find discussion regarding this at https://github.com/pypa/pip/issues/8368.\n",
      "ERROR: Could not install packages due to an EnvironmentError: [WinError 5] Access is denied: 'C:\\\\Users\\\\anshu\\\\AppData\\\\Local\\\\Programs\\\\Python\\\\Python38\\\\Lib\\\\site-packages\\\\~ornado\\\\speedups.cp38-win_amd64.pyd'\n",
      "Consider using the `--user` option or check the permissions.\n",
      "\n",
      "WARNING: You are using pip version 20.2.2; however, version 20.2.3 is available.\n",
      "You should consider upgrading via the 'c:\\users\\anshu\\appdata\\local\\programs\\python\\python38\\python.exe -m pip install --upgrade pip' command.\n"
     ]
    }
   ],
   "source": [
    "ls"
   ]
  },
  {
   "cell_type": "markdown",
   "metadata": {
    "id": "l5ThlIU9pHCU"
   },
   "source": [
    "### **Save Your Best Model Durinng Training Time**"
   ]
  },
  {
   "cell_type": "code",
   "execution_count": 33,
   "metadata": {
    "id": "a4UnxmOSp9nO"
   },
   "outputs": [],
   "source": [
    "from tensorflow.keras.callbacks import ModelCheckpoint"
   ]
  },
  {
   "cell_type": "code",
   "execution_count": 34,
   "metadata": {
    "colab": {
     "base_uri": "https://localhost:8080/",
     "height": 34
    },
    "id": "Hjq_55XhqF7w",
    "outputId": "0c84e1fd-2a42-4d9e-a382-128f4366cb18"
   },
   "outputs": [
    {
     "name": "stdout",
     "output_type": "stream",
     "text": [
      "WARNING:tensorflow:ModelCheckpoint mode <built-in function max> is unknown, fallback to auto mode.\n"
     ]
    }
   ],
   "source": [
    "#file_path = \"mnist_best_model.hdf5\"\n",
    "file_path = \"mnist_best_model-{epoch:02d}--{val_accuracy:.2f}.hdf5\"\n",
    "checkPoint = ModelCheckpoint(file_path, monitor=\"val_accuracy\",  save_best_only=True, mode = max)"
   ]
  },
  {
   "cell_type": "code",
   "execution_count": 35,
   "metadata": {
    "colab": {
     "base_uri": "https://localhost:8080/",
     "height": 357
    },
    "id": "tuA1LTDPpPmy",
    "outputId": "dd001eba-8f3e-4dcc-822b-9d515e875a78"
   },
   "outputs": [
    {
     "name": "stdout",
     "output_type": "stream",
     "text": [
      "Epoch 1/10\n",
      "960/960 [==============================] - 4s 5ms/step - loss: 0.3499 - accuracy: 0.8927 - val_loss: 0.1330 - val_accuracy: 0.9579\n",
      "Epoch 2/10\n",
      "960/960 [==============================] - 4s 4ms/step - loss: 0.1573 - accuracy: 0.9534 - val_loss: 0.1021 - val_accuracy: 0.9678\n",
      "Epoch 3/10\n",
      "960/960 [==============================] - 4s 4ms/step - loss: 0.1214 - accuracy: 0.9626 - val_loss: 0.0885 - val_accuracy: 0.9722\n",
      "Epoch 4/10\n",
      "960/960 [==============================] - 4s 4ms/step - loss: 0.0988 - accuracy: 0.9706 - val_loss: 0.0883 - val_accuracy: 0.9725\n",
      "Epoch 5/10\n",
      "960/960 [==============================] - 4s 4ms/step - loss: 0.0841 - accuracy: 0.9745 - val_loss: 0.0842 - val_accuracy: 0.9758\n",
      "Epoch 6/10\n",
      "960/960 [==============================] - 4s 4ms/step - loss: 0.0760 - accuracy: 0.9768 - val_loss: 0.0839 - val_accuracy: 0.9762\n",
      "Epoch 7/10\n",
      "960/960 [==============================] - 4s 5ms/step - loss: 0.0695 - accuracy: 0.9784 - val_loss: 0.0849 - val_accuracy: 0.9756\n",
      "Epoch 8/10\n",
      "960/960 [==============================] - 4s 5ms/step - loss: 0.0619 - accuracy: 0.9803 - val_loss: 0.0804 - val_accuracy: 0.9761\n",
      "Epoch 9/10\n",
      "960/960 [==============================] - 4s 5ms/step - loss: 0.0545 - accuracy: 0.9828 - val_loss: 0.0830 - val_accuracy: 0.9780\n",
      "Epoch 10/10\n",
      "960/960 [==============================] - 5s 5ms/step - loss: 0.0538 - accuracy: 0.9831 - val_loss: 0.0810 - val_accuracy: 0.9781\n"
     ]
    }
   ],
   "source": [
    "model = Sequential()\n",
    "model.add(Flatten(input_shape = (28, 28)))\n",
    "model.add(Dense(784, activation=\"relu\"))\n",
    "model.add(Dropout(0.4))\n",
    "model.add(Dense(130, activation=\"relu\"))\n",
    "model.add(Dropout(0.4))\n",
    "\n",
    "##o/p layer\n",
    "model.add(Dense(10, activation=\"softmax\"))\n",
    "\n",
    "model.compile(loss=\"categorical_crossentropy\", optimizer=\"adam\", metrics=[\"accuracy\"])\n",
    "H = model.fit(trainX, trainY, epochs=10, batch_size=50, validation_split=0.2, callbacks=[checkPoint])"
   ]
  },
  {
   "cell_type": "code",
   "execution_count": 36,
   "metadata": {
    "colab": {
     "base_uri": "https://localhost:8080/",
     "height": 136
    },
    "id": "2fwTsZfprI4e",
    "outputId": "93980897-eace-42e5-aa2d-9c35705d0b26"
   },
   "outputs": [
    {
     "name": "stdout",
     "output_type": "stream",
     "text": [
      " Volume in drive E has no label.\n",
      " Volume Serial Number is D49E-A32D\n",
      "\n",
      " Directory of E:\\MLOps\\mlops\n",
      "\n",
      "30-09-2020  07:02    <DIR>          .\n",
      "30-09-2020  07:02    <DIR>          ..\n",
      "20-08-2020  06:23                42 .gitignore\n",
      "30-09-2020  07:00    <DIR>          .ipynb_checkpoints\n",
      "07-09-2020  13:15            45,029 1. Basic Python with NumPy.ipynb\n",
      "12-09-2020  06:28           514,830 10. KNN - From Scratch & Play with Hand Written Digits...ipynb\n",
      "16-09-2020  06:33            14,616 11. Hand Written Digit Classification (1).ipynb\n",
      "11-09-2020  21:18            68,422 12. Movie Recommendation System .ipynb\n",
      "14-09-2020  06:49            52,859 13 Naive Bayes - With Python.ipynb\n",
      "16-09-2020  06:31            35,010 14 K-Mean from Scratch with IRIS And MNIST.ipynb\n",
      "16-09-2020  06:36            50,707 15 Mall Customer Seg..ipynb\n",
      "16-09-2020  08:43            89,985 16 Customer Clustering (K-Mean) -RFM.ipynb\n",
      "17-09-2020  12:16            87,782 16 Customer Clustering (K-Means) - RFM (1).ipynb\n",
      "23-09-2020  06:16            35,002 17 DT Algo - TTT Game.ipynb\n",
      "19-09-2020  07:07            61,713 18. Basic Topics for Deep Learning.ipynb\n",
      "22-09-2020  08:13             3,322 19. Basic Deep Learning_Single Neuron .ipynb\n",
      "07-09-2020  01:24            20,803 2. Play with Images and CV2.ipynb\n",
      "24-09-2020  06:40            27,643 20. Deep learning with wine dataset.ipynb\n",
      "30-09-2020  07:00            96,703 21 DeepLearning_17Aug_2020_mnist_with_DropOut.ipynb\n",
      "24-09-2020  07:32            19,018 21. Deep Learning - iris data.ipynb\n",
      "30-09-2020  07:00                72 22. Grid Search.ipynb\n",
      "28-08-2020  08:12            87,441 2p.jpg\n",
      "26-08-2020  07:00           266,416 3. Data Analytics with Pandas.ipynb\n",
      "28-08-2020  08:16           591,999 3p.PNG\n",
      "31-08-2020  06:17         3,823,232 4. MatplotLib and PlotLy.ipynb\n",
      "28-08-2020  08:24            98,012 4p.gif\n",
      "01-09-2020  23:32            33,082 5. Linear Regression.ipynb\n",
      "24-08-2020  06:31             2,438 50_Startups.csv\n",
      "01-09-2020  23:32         1,578,672 6. Face_Detection_with_opencv.ipynb\n",
      "03-09-2020  07:01            13,528 7. Logistic Regression.ipynb\n",
      "01-09-2020  13:49             9,430 8.Play with Browser - Automation.ipynb\n",
      "03-09-2020  07:53            85,778 9. Automation of Indeed and scrap data.ipynb\n",
      "03-09-2020  07:21             1,299 ai.csv\n",
      "16-09-2020  06:45         3,239,702 appointment.csv\n",
      "18-09-2020  08:51    <DIR>          Attendance system\n",
      "17-08-2020  20:44            18,451 book.png\n",
      "07-09-2020  13:14               206 Calculator.py\n",
      "22-08-2020  22:53         9,615,360 chromedriver.exe\n",
      "01-09-2020  06:34         5,204,437 chromedriver_win32.zip\n",
      "16-09-2020  06:44            78,070 College.csv\n",
      "03-09-2020  07:21         1,807,296 data_analyst.csv\n",
      "03-09-2020  07:21         1,987,434 datascience2.csv\n",
      "24-08-2020  06:24                99 Demo.csv\n",
      "24-08-2020  06:31            23,873 diabetes.csv\n",
      "28-08-2020  08:27            56,466 do.jpg\n",
      "18-09-2020  08:51    <DIR>          Face_Detection_With_OpenCV\n",
      "28-08-2020  07:54           930,127 haarcascade_frontalface_default.xml\n",
      "29-08-2020  06:28               194 Height_weight.csv\n",
      "24-08-2020  06:31         1,423,529 housing.csv\n",
      "24-08-2020  06:31           566,785 HR_comma_sep.csv\n",
      "18-09-2020  08:51    <DIR>          Images\n",
      "27-08-2020  07:11             3,975 iris.csv\n",
      "14-09-2020  08:18            23,252 K-Means Clustering.ipynb\n",
      "20-08-2020  06:23    <DIR>          Lib\n",
      "24-08-2020  06:31            78,807 loanf.csv\n",
      "03-09-2020  07:21         2,349,056 machinelearning.csv\n",
      "03-09-2020  07:21            11,394 MachineLearningJobs.csv\n",
      "16-09-2020  06:31             3,979 Mall_Customers.csv\n",
      "28-08-2020  06:25                 0 ML Concepts\n",
      "27-08-2020  07:26           882,242 MLOps_Internship_Course_Content.pdf\n",
      "30-09-2020  07:01         8,660,400 mnist_best_model-01--0.96.hdf5\n",
      "30-09-2020  07:01         8,660,400 mnist_best_model-02--0.97.hdf5\n",
      "30-09-2020  07:01         8,660,400 mnist_best_model-03--0.97.hdf5\n",
      "30-09-2020  07:01         8,660,400 mnist_best_model-04--0.97.hdf5\n",
      "30-09-2020  07:01         8,660,400 mnist_best_model-05--0.98.hdf5\n",
      "30-09-2020  07:01         8,660,400 mnist_best_model-06--0.98.hdf5\n",
      "30-09-2020  07:02         8,660,400 mnist_best_model-09--0.98.hdf5\n",
      "30-09-2020  07:02         8,660,400 mnist_best_model-10--0.98.hdf5\n",
      "30-09-2020  06:54         8,660,304 mnist_with_dropout.h5\n",
      "10-09-2020  16:11           494,431 movies.csv\n",
      "16-09-2020  08:43            63,962 My_First_Cluster.csv\n",
      "27-08-2020  08:07             4,596 mytextimage.png\n",
      "21-08-2020  08:07             8,931 mytextimagewithlogo.png\n",
      "12-09-2020  21:59         1,828,568 NB.pdf\n",
      "24-08-2020  06:31            32,823 nba.csv\n",
      "07-09-2020  13:15             1,971 Neighbors.py\n",
      "18-09-2020  09:30    <DIR>          nlp-in-python-tutorial-master\n",
      "24-08-2020  06:31             1,395 nyc_weather.csv\n",
      "24-08-2020  06:32        45,005,763 Online Retail.csv\n",
      "07-09-2020  13:14               635 openImage.py\n",
      "27-08-2020  08:01            56,761 p1.jfif\n",
      "30-08-2020  16:40             3,895 paining.py\n",
      "26-08-2020  07:44            23,825 pi-plot.png\n",
      "18-09-2020  08:51    <DIR>          Projects\n",
      "20-08-2020  06:23               405 pyvenv.cfg\n",
      "18-09-2020  08:51    <DIR>          Rock-Paper-Scissors\n",
      "24-08-2020  06:32        24,956,107 Sale.csv\n",
      "20-08-2020  06:29    <DIR>          Scripts\n",
      "28-08-2020  06:20         3,426,718 temp-plot.html\n",
      "16-09-2020  06:31            46,036 tic-tac-toe-endgame.csv\n",
      "30-08-2020  16:15             6,624 Virtual Painting App Using OpenCV.ipynb\n",
      "              80 File(s)    190,026,569 bytes\n",
      "              11 Dir(s)  359,619,055,616 bytes free\n"
     ]
    }
   ],
   "source": [
    "ls"
   ]
  },
  {
   "cell_type": "code",
   "execution_count": 37,
   "metadata": {
    "id": "qp5SXIPSrRnE"
   },
   "outputs": [],
   "source": [
    "### train your model with pre_trained_model"
   ]
  },
  {
   "cell_type": "code",
   "execution_count": 38,
   "metadata": {
    "id": "S84h3ZrNsszB",
    "scrolled": true
   },
   "outputs": [
    {
     "ename": "OSError",
     "evalue": "Unable to open file (unable to open file: name = 'mnist_best_model.hdf5', errno = 2, error message = 'No such file or directory', flags = 0, o_flags = 0)",
     "output_type": "error",
     "traceback": [
      "\u001b[1;31m---------------------------------------------------------------------------\u001b[0m",
      "\u001b[1;31mOSError\u001b[0m                                   Traceback (most recent call last)",
      "\u001b[1;32m<ipython-input-38-a2b959dd2979>\u001b[0m in \u001b[0;36m<module>\u001b[1;34m\u001b[0m\n\u001b[0;32m     10\u001b[0m \u001b[1;33m\u001b[0m\u001b[0m\n\u001b[0;32m     11\u001b[0m \u001b[0mmodel\u001b[0m\u001b[1;33m.\u001b[0m\u001b[0mcompile\u001b[0m\u001b[1;33m(\u001b[0m\u001b[0mloss\u001b[0m\u001b[1;33m=\u001b[0m\u001b[1;34m\"categorical_crossentropy\"\u001b[0m\u001b[1;33m,\u001b[0m \u001b[0moptimizer\u001b[0m\u001b[1;33m=\u001b[0m\u001b[1;34m\"adam\"\u001b[0m\u001b[1;33m,\u001b[0m \u001b[0mmetrics\u001b[0m\u001b[1;33m=\u001b[0m\u001b[1;33m[\u001b[0m\u001b[1;34m\"accuracy\"\u001b[0m\u001b[1;33m]\u001b[0m\u001b[1;33m)\u001b[0m\u001b[1;33m\u001b[0m\u001b[1;33m\u001b[0m\u001b[0m\n\u001b[1;32m---> 12\u001b[1;33m \u001b[0mmodel\u001b[0m\u001b[1;33m.\u001b[0m\u001b[0mload_weights\u001b[0m\u001b[1;33m(\u001b[0m\u001b[1;34m\"mnist_best_model.hdf5\"\u001b[0m\u001b[1;33m)\u001b[0m\u001b[1;33m\u001b[0m\u001b[1;33m\u001b[0m\u001b[0m\n\u001b[0m\u001b[0;32m     13\u001b[0m \u001b[1;31m#H = model.fit(trainX, trainY, epochs=10, batch_size=50, validation_split=0.2, callbacks=[checkPoint])\u001b[0m\u001b[1;33m\u001b[0m\u001b[1;33m\u001b[0m\u001b[1;33m\u001b[0m\u001b[0m\n",
      "\u001b[1;32mc:\\users\\anshu\\appdata\\local\\programs\\python\\python38\\lib\\site-packages\\tensorflow\\python\\keras\\engine\\training.py\u001b[0m in \u001b[0;36mload_weights\u001b[1;34m(self, filepath, by_name, skip_mismatch, options)\u001b[0m\n\u001b[0;32m   2202\u001b[0m           'first, then load the weights.')\n\u001b[0;32m   2203\u001b[0m     \u001b[0mself\u001b[0m\u001b[1;33m.\u001b[0m\u001b[0m_assert_weights_created\u001b[0m\u001b[1;33m(\u001b[0m\u001b[1;33m)\u001b[0m\u001b[1;33m\u001b[0m\u001b[1;33m\u001b[0m\u001b[0m\n\u001b[1;32m-> 2204\u001b[1;33m     \u001b[1;32mwith\u001b[0m \u001b[0mh5py\u001b[0m\u001b[1;33m.\u001b[0m\u001b[0mFile\u001b[0m\u001b[1;33m(\u001b[0m\u001b[0mfilepath\u001b[0m\u001b[1;33m,\u001b[0m \u001b[1;34m'r'\u001b[0m\u001b[1;33m)\u001b[0m \u001b[1;32mas\u001b[0m \u001b[0mf\u001b[0m\u001b[1;33m:\u001b[0m\u001b[1;33m\u001b[0m\u001b[1;33m\u001b[0m\u001b[0m\n\u001b[0m\u001b[0;32m   2205\u001b[0m       \u001b[1;32mif\u001b[0m \u001b[1;34m'layer_names'\u001b[0m \u001b[1;32mnot\u001b[0m \u001b[1;32min\u001b[0m \u001b[0mf\u001b[0m\u001b[1;33m.\u001b[0m\u001b[0mattrs\u001b[0m \u001b[1;32mand\u001b[0m \u001b[1;34m'model_weights'\u001b[0m \u001b[1;32min\u001b[0m \u001b[0mf\u001b[0m\u001b[1;33m:\u001b[0m\u001b[1;33m\u001b[0m\u001b[1;33m\u001b[0m\u001b[0m\n\u001b[0;32m   2206\u001b[0m         \u001b[0mf\u001b[0m \u001b[1;33m=\u001b[0m \u001b[0mf\u001b[0m\u001b[1;33m[\u001b[0m\u001b[1;34m'model_weights'\u001b[0m\u001b[1;33m]\u001b[0m\u001b[1;33m\u001b[0m\u001b[1;33m\u001b[0m\u001b[0m\n",
      "\u001b[1;32mc:\\users\\anshu\\appdata\\local\\programs\\python\\python38\\lib\\site-packages\\h5py\\_hl\\files.py\u001b[0m in \u001b[0;36m__init__\u001b[1;34m(self, name, mode, driver, libver, userblock_size, swmr, rdcc_nslots, rdcc_nbytes, rdcc_w0, track_order, **kwds)\u001b[0m\n\u001b[0;32m    404\u001b[0m             \u001b[1;32mwith\u001b[0m \u001b[0mphil\u001b[0m\u001b[1;33m:\u001b[0m\u001b[1;33m\u001b[0m\u001b[1;33m\u001b[0m\u001b[0m\n\u001b[0;32m    405\u001b[0m                 \u001b[0mfapl\u001b[0m \u001b[1;33m=\u001b[0m \u001b[0mmake_fapl\u001b[0m\u001b[1;33m(\u001b[0m\u001b[0mdriver\u001b[0m\u001b[1;33m,\u001b[0m \u001b[0mlibver\u001b[0m\u001b[1;33m,\u001b[0m \u001b[0mrdcc_nslots\u001b[0m\u001b[1;33m,\u001b[0m \u001b[0mrdcc_nbytes\u001b[0m\u001b[1;33m,\u001b[0m \u001b[0mrdcc_w0\u001b[0m\u001b[1;33m,\u001b[0m \u001b[1;33m**\u001b[0m\u001b[0mkwds\u001b[0m\u001b[1;33m)\u001b[0m\u001b[1;33m\u001b[0m\u001b[1;33m\u001b[0m\u001b[0m\n\u001b[1;32m--> 406\u001b[1;33m                 fid = make_fid(name, mode, userblock_size,\n\u001b[0m\u001b[0;32m    407\u001b[0m                                \u001b[0mfapl\u001b[0m\u001b[1;33m,\u001b[0m \u001b[0mfcpl\u001b[0m\u001b[1;33m=\u001b[0m\u001b[0mmake_fcpl\u001b[0m\u001b[1;33m(\u001b[0m\u001b[0mtrack_order\u001b[0m\u001b[1;33m=\u001b[0m\u001b[0mtrack_order\u001b[0m\u001b[1;33m)\u001b[0m\u001b[1;33m,\u001b[0m\u001b[1;33m\u001b[0m\u001b[1;33m\u001b[0m\u001b[0m\n\u001b[0;32m    408\u001b[0m                                swmr=swmr)\n",
      "\u001b[1;32mc:\\users\\anshu\\appdata\\local\\programs\\python\\python38\\lib\\site-packages\\h5py\\_hl\\files.py\u001b[0m in \u001b[0;36mmake_fid\u001b[1;34m(name, mode, userblock_size, fapl, fcpl, swmr)\u001b[0m\n\u001b[0;32m    171\u001b[0m         \u001b[1;32mif\u001b[0m \u001b[0mswmr\u001b[0m \u001b[1;32mand\u001b[0m \u001b[0mswmr_support\u001b[0m\u001b[1;33m:\u001b[0m\u001b[1;33m\u001b[0m\u001b[1;33m\u001b[0m\u001b[0m\n\u001b[0;32m    172\u001b[0m             \u001b[0mflags\u001b[0m \u001b[1;33m|=\u001b[0m \u001b[0mh5f\u001b[0m\u001b[1;33m.\u001b[0m\u001b[0mACC_SWMR_READ\u001b[0m\u001b[1;33m\u001b[0m\u001b[1;33m\u001b[0m\u001b[0m\n\u001b[1;32m--> 173\u001b[1;33m         \u001b[0mfid\u001b[0m \u001b[1;33m=\u001b[0m \u001b[0mh5f\u001b[0m\u001b[1;33m.\u001b[0m\u001b[0mopen\u001b[0m\u001b[1;33m(\u001b[0m\u001b[0mname\u001b[0m\u001b[1;33m,\u001b[0m \u001b[0mflags\u001b[0m\u001b[1;33m,\u001b[0m \u001b[0mfapl\u001b[0m\u001b[1;33m=\u001b[0m\u001b[0mfapl\u001b[0m\u001b[1;33m)\u001b[0m\u001b[1;33m\u001b[0m\u001b[1;33m\u001b[0m\u001b[0m\n\u001b[0m\u001b[0;32m    174\u001b[0m     \u001b[1;32melif\u001b[0m \u001b[0mmode\u001b[0m \u001b[1;33m==\u001b[0m \u001b[1;34m'r+'\u001b[0m\u001b[1;33m:\u001b[0m\u001b[1;33m\u001b[0m\u001b[1;33m\u001b[0m\u001b[0m\n\u001b[0;32m    175\u001b[0m         \u001b[0mfid\u001b[0m \u001b[1;33m=\u001b[0m \u001b[0mh5f\u001b[0m\u001b[1;33m.\u001b[0m\u001b[0mopen\u001b[0m\u001b[1;33m(\u001b[0m\u001b[0mname\u001b[0m\u001b[1;33m,\u001b[0m \u001b[0mh5f\u001b[0m\u001b[1;33m.\u001b[0m\u001b[0mACC_RDWR\u001b[0m\u001b[1;33m,\u001b[0m \u001b[0mfapl\u001b[0m\u001b[1;33m=\u001b[0m\u001b[0mfapl\u001b[0m\u001b[1;33m)\u001b[0m\u001b[1;33m\u001b[0m\u001b[1;33m\u001b[0m\u001b[0m\n",
      "\u001b[1;32mh5py\\_objects.pyx\u001b[0m in \u001b[0;36mh5py._objects.with_phil.wrapper\u001b[1;34m()\u001b[0m\n",
      "\u001b[1;32mh5py\\_objects.pyx\u001b[0m in \u001b[0;36mh5py._objects.with_phil.wrapper\u001b[1;34m()\u001b[0m\n",
      "\u001b[1;32mh5py\\h5f.pyx\u001b[0m in \u001b[0;36mh5py.h5f.open\u001b[1;34m()\u001b[0m\n",
      "\u001b[1;31mOSError\u001b[0m: Unable to open file (unable to open file: name = 'mnist_best_model.hdf5', errno = 2, error message = 'No such file or directory', flags = 0, o_flags = 0)"
     ]
    }
   ],
   "source": [
    "model = Sequential()\n",
    "model.add(Flatten(input_shape = (28, 28)))\n",
    "model.add(Dense(784, activation=\"relu\"))\n",
    "model.add(Dropout(0.4))\n",
    "model.add(Dense(130, activation=\"relu\"))\n",
    "model.add(Dropout(0.4))\n",
    "\n",
    "##o/p layer\n",
    "model.add(Dense(10, activation=\"softmax\"))\n",
    "\n",
    "model.compile(loss=\"categorical_crossentropy\", optimizer=\"adam\", metrics=[\"accuracy\"])\n",
    "model.load_weights(\"mnist_best_model.hdf5\")\n",
    "#H = model.fit(trainX, trainY, epochs=10, batch_size=50, validation_split=0.2, callbacks=[checkPoint])"
   ]
  },
  {
   "cell_type": "code",
   "execution_count": null,
   "metadata": {
    "colab": {
     "base_uri": "https://localhost:8080/",
     "height": 1000
    },
    "id": "-fQRscSist5R",
    "outputId": "80bbbcf8-9dfa-4d3d-e0bb-412ae57a880a"
   },
   "outputs": [],
   "source": [
    "model.load_weights(\"mnist_best_model.hdf5\")\n",
    "model.weights"
   ]
  },
  {
   "cell_type": "code",
   "execution_count": null,
   "metadata": {
    "colab": {
     "base_uri": "https://localhost:8080/",
     "height": 357
    },
    "id": "2Wf8eMWhtOT6",
    "outputId": "7c90cc68-5d63-42e6-ce62-314a218e9d3c"
   },
   "outputs": [],
   "source": [
    "model.summary()"
   ]
  },
  {
   "cell_type": "code",
   "execution_count": null,
   "metadata": {
    "id": "_oytNJ5NtliK"
   },
   "outputs": [],
   "source": []
  },
  {
   "cell_type": "code",
   "execution_count": null,
   "metadata": {},
   "outputs": [],
   "source": []
  }
 ],
 "metadata": {
  "accelerator": "GPU",
  "colab": {
   "name": "DeepLearning_17Aug_2020_mnist_with_DropOut.ipynb",
   "provenance": []
  },
  "kernelspec": {
   "display_name": "Python 3",
   "language": "python",
   "name": "python3"
  },
  "language_info": {
   "codemirror_mode": {
    "name": "ipython",
    "version": 3
   },
   "file_extension": ".py",
   "mimetype": "text/x-python",
   "name": "python",
   "nbconvert_exporter": "python",
   "pygments_lexer": "ipython3",
   "version": "3.8.5"
  }
 },
 "nbformat": 4,
 "nbformat_minor": 1
}
